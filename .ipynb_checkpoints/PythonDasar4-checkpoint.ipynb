{
 "cells": [
  {
   "cell_type": "markdown",
   "metadata": {},
   "source": [
    "# Tipe Data"
   ]
  },
  {
   "cell_type": "markdown",
   "metadata": {},
   "source": [
    "Kita telah mengetahui konsep variabel, yang dapat kita gunakan untuk menyimpan beberapa jenis informasi yang berbeda. Kita bisa menyimpan teks, angka, atau nilai boolean. Jenis informasi yang berbeda ini sesuai dengan `type` data Python yang berbeda."
   ]
  },
  {
   "cell_type": "code",
   "execution_count": 1,
   "metadata": {},
   "outputs": [
    {
     "name": "stdout",
     "output_type": "stream",
     "text": [
      "<class 'str'>\n",
      "<class 'int'>\n",
      "<class 'float'>\n",
      "<class 'bool'>\n"
     ]
    }
   ],
   "source": [
    "print(type('some text'))\n",
    "print(type(10))\n",
    "print(type(10.3))\n",
    "print(type(True))"
   ]
  },
  {
   "cell_type": "markdown",
   "metadata": {},
   "source": [
    "# Struktur Data"
   ]
  },
  {
   "cell_type": "markdown",
   "metadata": {},
   "source": [
    "Kami juga secara singkat memperkenalkan `list` Python, yang dapat digunakan untuk menyimpan kumpulan data."
   ]
  },
  {
   "cell_type": "code",
   "execution_count": 2,
   "metadata": {},
   "outputs": [
    {
     "data": {
      "text/plain": [
       "['Rendam kacang dalam air',\n",
       " 'Larutkan garam dalam air',\n",
       " 'Panaskan air dan kacang hingga mendidih',\n",
       " 'Tiriskan kacang setelah matang']"
      ]
     },
     "execution_count": 2,
     "metadata": {},
     "output_type": "execute_result"
    }
   ],
   "source": [
    "# contoh list\n",
    "beans_recipe = ['Rendam kacang dalam air', 'Larutkan garam dalam air', 'Panaskan air dan kacang hingga mendidih', 'Tiriskan kacang setelah matang']\n",
    "beans_recipe"
   ]
  },
  {
   "cell_type": "markdown",
   "metadata": {},
   "source": [
    "Terkadang kita akan menyimpan informasi dalam variabel individual, tetapi seringkali kita akan bekerja dengan beberapa informasi yang ingin kita kelompokkan bersama karena hubungan atau kesamaannya. Misalnya, jika kita berbelanja bahan makanan, kita dapat menyimpan setiap barang yang akan kita beli dalam variabel terpisah atau kita dapat menyimpan semua barang dalam satu daftar."
   ]
  },
  {
   "cell_type": "code",
   "execution_count": 3,
   "metadata": {},
   "outputs": [],
   "source": [
    "belanja_a = 'ayam'\n",
    "belanja_b = 'bawang'\n",
    "belanja_c = 'nasi'\n",
    "belanja_d = 'paprika'\n",
    "belanja_e = 'pisang'\n",
    "\n",
    "belanja_list = ['ayam', 'bawang', 'nasi', 'paprika', 'pisang']"
   ]
  },
  {
   "cell_type": "markdown",
   "metadata": {},
   "source": [
    "Manakah dari pendekatan ini yang tampaknya lebih berguna bagi Anda? Mari kita tulis contoh fungsi singkat yang \"membeli\" setiap bahan makanan yang kita butuhkan."
   ]
  },
  {
   "cell_type": "code",
   "execution_count": 4,
   "metadata": {},
   "outputs": [],
   "source": [
    "def beli_bahan_individual(item_a, item_b, item_c, item_d, item_e):\n",
    "    print('Membeli %s...' % item_a)\n",
    "    print('Membeli %s...' % item_b)\n",
    "    print('Membeli %s...' % item_c)\n",
    "    print('Membeli %s...' % item_d)\n",
    "    print('Membeli %s...' % item_e)\n",
    "\n",
    "def beli_bahan_list(items):\n",
    "    for item in items:\n",
    "        print('Membeli %s...' % item)"
   ]
  },
  {
   "cell_type": "code",
   "execution_count": 5,
   "metadata": {},
   "outputs": [
    {
     "name": "stdout",
     "output_type": "stream",
     "text": [
      "Membeli ayam...\n",
      "Membeli bawang...\n",
      "Membeli nasi...\n",
      "Membeli paprika...\n",
      "Membeli pisang...\n"
     ]
    }
   ],
   "source": [
    "beli_bahan_individual(belanja_a, belanja_b, belanja_c, belanja_d, belanja_e)"
   ]
  },
  {
   "cell_type": "code",
   "execution_count": 6,
   "metadata": {},
   "outputs": [
    {
     "name": "stdout",
     "output_type": "stream",
     "text": [
      "Membeli ayam...\n",
      "Membeli bawang...\n",
      "Membeli nasi...\n",
      "Membeli paprika...\n",
      "Membeli pisang...\n"
     ]
    }
   ],
   "source": [
    "beli_bahan_list(belanja_list)"
   ]
  },
  {
   "cell_type": "markdown",
   "metadata": {},
   "source": [
    "Dengan menggunakan `list`, kita dapat menggunakan loop `for` untuk menulis fungsi yang jauh lebih pendek. Tetapi yang lebih penting, `beli_bahan_list` jauh lebih fleksibel. Bagaimana jika alih-alih membeli lima item, kita ingin membeli lebih banyak atau lebih sedikit?"
   ]
  },
  {
   "cell_type": "code",
   "execution_count": 7,
   "metadata": {},
   "outputs": [
    {
     "ename": "TypeError",
     "evalue": "beli_bahan_individual() missing 2 required positional arguments: 'item_d' and 'item_e'",
     "output_type": "error",
     "traceback": [
      "\u001b[1;31m---------------------------------------------------------------------------\u001b[0m",
      "\u001b[1;31mTypeError\u001b[0m                                 Traceback (most recent call last)",
      "\u001b[1;32m~\\AppData\\Local\\Temp/ipykernel_9212/4028802759.py\u001b[0m in \u001b[0;36m<module>\u001b[1;34m\u001b[0m\n\u001b[0;32m      1\u001b[0m \u001b[1;31m# mari kita coba beli tiga item saja\u001b[0m\u001b[1;33m\u001b[0m\u001b[1;33m\u001b[0m\u001b[0m\n\u001b[1;32m----> 2\u001b[1;33m \u001b[0mbeli_bahan_individual\u001b[0m\u001b[1;33m(\u001b[0m\u001b[0mbelanja_a\u001b[0m\u001b[1;33m,\u001b[0m \u001b[0mbelanja_b\u001b[0m\u001b[1;33m,\u001b[0m \u001b[0mbelanja_c\u001b[0m\u001b[1;33m)\u001b[0m\u001b[1;33m\u001b[0m\u001b[1;33m\u001b[0m\u001b[0m\n\u001b[0m",
      "\u001b[1;31mTypeError\u001b[0m: beli_bahan_individual() missing 2 required positional arguments: 'item_d' and 'item_e'"
     ]
    }
   ],
   "source": [
    "# mari kita coba beli tiga item saja\n",
    "beli_bahan_individual(belanja_a, belanja_b, belanja_c)"
   ]
  },
  {
   "cell_type": "code",
   "execution_count": 8,
   "metadata": {},
   "outputs": [
    {
     "ename": "TypeError",
     "evalue": "beli_bahan_individual() takes 5 positional arguments but 6 were given",
     "output_type": "error",
     "traceback": [
      "\u001b[1;31m---------------------------------------------------------------------------\u001b[0m",
      "\u001b[1;31mTypeError\u001b[0m                                 Traceback (most recent call last)",
      "\u001b[1;32m~\\AppData\\Local\\Temp/ipykernel_9212/4221542015.py\u001b[0m in \u001b[0;36m<module>\u001b[1;34m\u001b[0m\n\u001b[0;32m      3\u001b[0m \u001b[0mbelanja_f\u001b[0m \u001b[1;33m=\u001b[0m \u001b[1;34m'squash'\u001b[0m\u001b[1;33m\u001b[0m\u001b[1;33m\u001b[0m\u001b[0m\n\u001b[0;32m      4\u001b[0m \u001b[1;33m\u001b[0m\u001b[0m\n\u001b[1;32m----> 5\u001b[1;33m \u001b[0mbeli_bahan_individual\u001b[0m\u001b[1;33m(\u001b[0m\u001b[0mbelanja_a\u001b[0m\u001b[1;33m,\u001b[0m \u001b[0mbelanja_b\u001b[0m\u001b[1;33m,\u001b[0m \u001b[0mbelanja_c\u001b[0m\u001b[1;33m,\u001b[0m \u001b[0mbelanja_d\u001b[0m\u001b[1;33m,\u001b[0m \u001b[0mbelanja_e\u001b[0m\u001b[1;33m,\u001b[0m \u001b[0mbelanja_f\u001b[0m\u001b[1;33m)\u001b[0m\u001b[1;33m\u001b[0m\u001b[1;33m\u001b[0m\u001b[0m\n\u001b[0m",
      "\u001b[1;31mTypeError\u001b[0m: beli_bahan_individual() takes 5 positional arguments but 6 were given"
     ]
    }
   ],
   "source": [
    "# let's try to buy a sixth item\n",
    "\n",
    "belanja_f = 'squash'\n",
    "\n",
    "beli_bahan_individual(belanja_a, belanja_b, belanja_c, belanja_d, belanja_e, belanja_f)"
   ]
  },
  {
   "cell_type": "markdown",
   "metadata": {},
   "source": [
    "Kita menemukan error saat mencoba menggunakan `beli_bahan_individual` karena mengharapkan \"tepatnya 5 argumen\". Kita tidak akan mengalami masalah dengan `beli_bahan_list`, karena loop `for` dapat bekerja dengan daftar dengan panjang berapa pun."
   ]
  },
  {
   "cell_type": "code",
   "execution_count": null,
   "metadata": {},
   "outputs": [],
   "source": [
    "short_grocery_list = ['ayam', 'bawang', 'nasi']\n",
    "\n",
    "beli_bahan_list(short_grocery_list)"
   ]
  },
  {
   "cell_type": "code",
   "execution_count": null,
   "metadata": {},
   "outputs": [],
   "source": [
    "long_grocery_list = ['ayam', 'bawang', 'nasi', 'paprika', 'pisang', 'squash']\n",
    "\n",
    "beli_bahan_list(long_grocery_list)"
   ]
  },
  {
   "cell_type": "markdown",
   "metadata": {},
   "source": [
    "Kita berhasil menangani list yang lebih pendek dan lebih panjang.\n",
    "\n",
    "Collections (atau [**containers**](https://stackoverflow.com/questions/11575925/what-exactly-are-containers-in-python-and-what-are-all-the-python-container) dikenal di dalam Python) bisa sangat berguna untuk mengatasi masalah data yang kompleks. Python menyediakan beberapa jenis container, yang akan kita jelajahi. Masing-masing memiliki sifat dan struktur berbeda yang membuatnya berguna untuk tugas tertentu. Kita juga akan mengenal containers yang powerful dan sangat terstruktur yang telah ditemukan dan dibagikan oleh pengguna Python kepada komunitas Python.\n",
    "\n",
    "Dalam konteks data science, kita akan sering menyebut kumpulan data sebagai **dataset**, dan tipe variabel yang kita gunakan untuk menyimpannya dalam Python sebagai **data structure / struktur data**.\n",
    "\n",
    "### Latihan\n",
    "\n",
    "1. Jenis data apa yang dapat diwakili oleh `list`? Bagaimana dengan `list` yang terdiri dari objek `list`?"
   ]
  },
  {
   "cell_type": "markdown",
   "metadata": {},
   "source": [
    "## `list`\n",
    "\n",
    "Kita telah membuat list dengan menggunakan tanda kurung siku `[]` terhadap data yang kita ingin masukkan di dalamnya. Kita juga dapat membuat list dari variabel, selain menulis data secara langsung."
   ]
  },
  {
   "cell_type": "code",
   "execution_count": null,
   "metadata": {},
   "outputs": [],
   "source": [
    "belanja_a = 'ayam'\n",
    "belanja_b = 'bawang'\n",
    "belanja_c = 'nasi'\n",
    "belanja_d = 'paprika'\n",
    "belanja_e = 'pisang'\n",
    "\n",
    "belanja_list = ['ayam', 'bawang', 'nasi', 'paprika', 'pisang']\n",
    "print(belanja_list)\n",
    "\n",
    "belanja_list = [belanja_a, belanja_b, belanja_c, belanja_d, belanja_e]\n",
    "print(belanja_list)"
   ]
  },
  {
   "cell_type": "markdown",
   "metadata": {},
   "source": [
    "Sejauh ini kita telah bekerja dengan `list` dari string, tetapi kita tidak terbatas hanya pada tipe data itu saja."
   ]
  },
  {
   "cell_type": "code",
   "execution_count": null,
   "metadata": {},
   "outputs": [],
   "source": [
    "int_list = [2, 6, 3049, 18, 37]\n",
    "float_list = [3.7, 8.2, 178.245, 63.1]\n",
    "mixed_list = [26, False, 'some words', 1.264]\n",
    "\n",
    "print(int_list)\n",
    "print(float_list)\n",
    "print(mixed_list)"
   ]
  },
  {
   "cell_type": "markdown",
   "metadata": {},
   "source": [
    "Kita dapat menyimpan `type` data apa pun dalam `list`. Kita bahkan dapat menempatkan `list` di dalam `list`."
   ]
  },
  {
   "cell_type": "code",
   "execution_count": null,
   "metadata": {},
   "outputs": [],
   "source": [
    "list_of_lists = [['a', 'list', 'of', 'words'], [1, 5, 209], [True, True, False]]\n",
    "print(list_of_lists)"
   ]
  },
  {
   "cell_type": "markdown",
   "metadata": {},
   "source": [
    "Ada sedikit batasan tentang bagaimana kita menyusun list atau apa yang kita masukkan ke dalamnya. Hal ini dapat menyebabkan struktur \"nested\" yang sangat rumit."
   ]
  },
  {
   "cell_type": "code",
   "execution_count": 9,
   "metadata": {},
   "outputs": [
    {
     "name": "stdout",
     "output_type": "stream",
     "text": [
      "[[23, 73, 50], 'some words', 12.308, [[False, True], 'more words']]\n"
     ]
    }
   ],
   "source": [
    "confusing_list = [[23, 73, 50], 'some words', 12.308, [[False, True], 'more words']]\n",
    "print(confusing_list)"
   ]
  },
  {
   "cell_type": "markdown",
   "metadata": {},
   "source": [
    "Kita deskripsikan `list` Python sebagai _heterogen_ karena dapat menampung kumpulan objek campuran. Ini adalah salah satu karakteristik penentu utama dari `list` Python.\n",
    "\n",
    "Anda mungkin juga memperhatikan bahwa ketika kita memasukkan data ke dalam `list` dalam urutan tertentu, data itu tetap dalam urutan itu ketika kita `print` atau menggunakan `list` dalam perulangan `for`. Karena `list` mempertahankan urutan, kita katakan itu _ordered_. Kita dapat menggunakan karakteristik ini untuk mengambil item tertentu dari `list` berdasarkan posisinya (atau **index**) dalam list."
   ]
  },
  {
   "cell_type": "code",
   "execution_count": 10,
   "metadata": {},
   "outputs": [
    {
     "name": "stdout",
     "output_type": "stream",
     "text": [
      "['ayam', 'bawang', 'nasi', 'paprika', 'pisang']\n",
      "nasi\n"
     ]
    }
   ],
   "source": [
    "print(belanja_list)\n",
    "print(belanja_list[2])"
   ]
  },
  {
   "cell_type": "markdown",
   "metadata": {},
   "source": [
    "Mencetak `belanja_list[2]` mengembalikan item ketiga dalam daftar: 'nasi'. Mengapa mengembalikan item ketiga jika kita meminta item di indeks 2? `list` Python adalah _zero-indexed_."
   ]
  },
  {
   "cell_type": "code",
   "execution_count": 11,
   "metadata": {},
   "outputs": [
    {
     "name": "stdout",
     "output_type": "stream",
     "text": [
      "ayam\n",
      "bawang\n",
      "nasi\n"
     ]
    }
   ],
   "source": [
    "print(belanja_list[0])\n",
    "print(belanja_list[1])\n",
    "print(belanja_list[2])"
   ]
  },
  {
   "cell_type": "markdown",
   "metadata": {},
   "source": [
    "Kami juga dapat mengambil _slice_ dari item dalam list."
   ]
  },
  {
   "cell_type": "code",
   "execution_count": 12,
   "metadata": {},
   "outputs": [
    {
     "name": "stdout",
     "output_type": "stream",
     "text": [
      "['bawang', 'nasi', 'paprika']\n",
      "['paprika', 'pisang']\n",
      "['ayam', 'bawang', 'nasi']\n"
     ]
    }
   ],
   "source": [
    "print(belanja_list[1:4])\n",
    "print(belanja_list[3:])\n",
    "print(belanja_list[:3])"
   ]
  },
  {
   "cell_type": "markdown",
   "metadata": {},
   "source": [
    "Python juga memiliki sintaks pengindeksan negatif, memungkinkan kita untuk mengakses list dari akhir, bukan dari awal. Elemen terakhir diindeks oleh -1."
   ]
  },
  {
   "cell_type": "code",
   "execution_count": 13,
   "metadata": {},
   "outputs": [
    {
     "name": "stdout",
     "output_type": "stream",
     "text": [
      "pisang\n",
      "['nasi', 'paprika', 'pisang']\n"
     ]
    }
   ],
   "source": [
    "print(belanja_list[-1])\n",
    "print(belanja_list[-3:])"
   ]
  },
  {
   "cell_type": "markdown",
   "metadata": {},
   "source": [
    "Kita juga dapat \"slicing\" list menggunakan step-size selain 1."
   ]
  },
  {
   "cell_type": "code",
   "execution_count": 14,
   "metadata": {},
   "outputs": [
    {
     "name": "stdout",
     "output_type": "stream",
     "text": [
      "['ayam', 'nasi', 'pisang']\n",
      "['pisang', 'paprika', 'nasi']\n"
     ]
    }
   ],
   "source": [
    "print(belanja_list[::2])\n",
    "print(belanja_list[4:1:-1])"
   ]
  },
  {
   "cell_type": "markdown",
   "metadata": {},
   "source": [
    "Tentu saja kita juga dapat mengambil informasi dari list dengan menggunakan perulangan `for`."
   ]
  },
  {
   "cell_type": "code",
   "execution_count": 15,
   "metadata": {},
   "outputs": [
    {
     "name": "stdout",
     "output_type": "stream",
     "text": [
      "ayam\n",
      "bawang\n",
      "nasi\n",
      "paprika\n",
      "pisang\n"
     ]
    }
   ],
   "source": [
    "for item in belanja_list:\n",
    "    print(item)"
   ]
  },
  {
   "cell_type": "markdown",
   "metadata": {},
   "source": [
    "Meskipun biasanya kita akan menggunakan sintaks `for item in list`, terkadang kita akan menggabungkan perulangan `for` dengan pengindeksan. Fungsi `range` berguna untuk ini. Misalnya, kita dapat memilih setiap item dengan lompat 2 dalam list."
   ]
  },
  {
   "cell_type": "code",
   "execution_count": 16,
   "metadata": {},
   "outputs": [
    {
     "name": "stdout",
     "output_type": "stream",
     "text": [
      "0 ayam\n",
      "2 nasi\n",
      "4 pisang\n"
     ]
    }
   ],
   "source": [
    "for i in range(0, len(belanja_list), 2):\n",
    "    print(i, belanja_list[i])"
   ]
  },
  {
   "cell_type": "markdown",
   "metadata": {},
   "source": [
    "Fungsi `range` mengembalikan urutan bilangan bulat antara argumen pertama dan kedua, menggunakan argumen ketiga sebagai step-size. Perhatikan bahwa batas atas (yaitu argumen kedua) tidak disertakan dalam output."
   ]
  },
  {
   "cell_type": "code",
   "execution_count": 17,
   "metadata": {},
   "outputs": [
    {
     "name": "stdout",
     "output_type": "stream",
     "text": [
      "range(0, 10, 3)\n",
      "range(104, 100, -1)\n",
      "range(0, 5)\n"
     ]
    }
   ],
   "source": [
    "print(range(0, 10, 3))\n",
    "print(range(104, 100, -1))\n",
    "print(range(5)) # dimulai dari 0 dan dihitung dengan 1 secara default"
   ]
  },
  {
   "cell_type": "markdown",
   "metadata": {},
   "source": [
    "Kami juga dapat menggunakan pengindeksan/slicing untuk mengganti item dalam list."
   ]
  },
  {
   "cell_type": "code",
   "execution_count": 18,
   "metadata": {},
   "outputs": [
    {
     "name": "stdout",
     "output_type": "stream",
     "text": [
      "['ayam', 'bawang', 'nasi', 'paprika', 'pisang']\n",
      "['ayam', 'bawang', 'nasi', 'paprika', 'jeruk']\n",
      "['ayam', 'wortel', 'bayam', 'paprika', 'jeruk']\n"
     ]
    }
   ],
   "source": [
    "belanja_list = ['ayam', 'bawang', 'nasi', 'paprika', 'pisang']\n",
    "print(belanja_list)\n",
    "belanja_list[-1] = 'jeruk' # replace bananas with oranges\n",
    "print(belanja_list)\n",
    "belanja_list[1:3] = ['wortel', 'bayam'] #replace onions and rice with carrots and couscous\n",
    "print(belanja_list)"
   ]
  },
  {
   "cell_type": "markdown",
   "metadata": {},
   "source": [
    "Karena kita dapat memodifikasi list setelah dibuat, kita menyebutnya _mutable_ (modifikasi disebut _mutation_). Beberapa tipe data Python adalah _immutable_, artinya setelah dibuat tidak dapat diubah. Kita akan mengeksplorasi ini lebih lanjut setelah kita mempelajari lebih banyak tipe data.\n",
    "\n",
    "Cara lain untuk mengubah `list` adalah dengan `append` item baru."
   ]
  },
  {
   "cell_type": "code",
   "execution_count": 19,
   "metadata": {},
   "outputs": [
    {
     "name": "stdout",
     "output_type": "stream",
     "text": [
      "['ayam', 'bawang', 'nasi', 'paprika', 'pisang']\n",
      "['ayam', 'bawang', 'nasi', 'paprika', 'pisang', 'squash']\n",
      "['ayam', 'bawang', 'nasi', 'paprika', 'pisang', 'squash', ['roti', 'garam']]\n"
     ]
    }
   ],
   "source": [
    "belanja_list = ['ayam', 'bawang', 'nasi', 'paprika', 'pisang']\n",
    "print(belanja_list)\n",
    "belanja_list.append('squash')\n",
    "print(belanja_list)\n",
    "belanja_list.append(['roti', 'garam'])\n",
    "print(belanja_list) # apa yang terjadi"
   ]
  },
  {
   "cell_type": "markdown",
   "metadata": {},
   "source": [
    "Karena list dapat berisi list lainnya, kita harus berhati-hati dalam menambahkan beberapa item ke list kita. Alih-alih `append`, kita mungkin ingin menggunakan `extend`."
   ]
  },
  {
   "cell_type": "code",
   "execution_count": 20,
   "metadata": {},
   "outputs": [
    {
     "name": "stdout",
     "output_type": "stream",
     "text": [
      "['ayam', 'bawang', 'nasi', 'paprika', 'pisang', 'squash']\n",
      "['ayam', 'bawang', 'nasi', 'paprika', 'pisang', 'squash', 'roti', 'garam']\n"
     ]
    }
   ],
   "source": [
    "belanja_list = ['ayam', 'bawang', 'nasi', 'paprika', 'pisang', 'squash']\n",
    "print(belanja_list)\n",
    "belanja_list.extend(['roti', 'garam'])\n",
    "print(belanja_list)"
   ]
  },
  {
   "cell_type": "markdown",
   "metadata": {},
   "source": [
    "Kami juga dapat menghapus item dari list."
   ]
  },
  {
   "cell_type": "code",
   "execution_count": 21,
   "metadata": {},
   "outputs": [
    {
     "name": "stdout",
     "output_type": "stream",
     "text": [
      "['ayam', 'bawang', 'nasi', 'paprika', 'pisang', 'squash', 'roti', 'garam']\n",
      "['ayam', 'bawang', 'nasi', 'paprika', 'pisang', 'squash', 'roti']\n"
     ]
    }
   ],
   "source": [
    "print(belanja_list)\n",
    "del belanja_list[-1] # hapus item terakhir\n",
    "print(belanja_list)"
   ]
  },
  {
   "cell_type": "code",
   "execution_count": 22,
   "metadata": {},
   "outputs": [
    {
     "name": "stdout",
     "output_type": "stream",
     "text": [
      "['ayam', 'bawang', 'nasi', 'paprika', 'pisang', 'squash', 'roti']\n",
      "roti\n",
      "['ayam', 'bawang', 'nasi', 'paprika', 'pisang', 'squash']\n"
     ]
    }
   ],
   "source": [
    "print(belanja_list)\n",
    "print(belanja_list.pop(-1)) # hapus item terakhir dari daftar dan kembalikan\n",
    "print(belanja_list)"
   ]
  },
  {
   "cell_type": "markdown",
   "metadata": {},
   "source": [
    "Mutasi lain yang dapat kita buat pada list adalah dengan mengurutkannya."
   ]
  },
  {
   "cell_type": "code",
   "execution_count": 23,
   "metadata": {},
   "outputs": [
    {
     "name": "stdout",
     "output_type": "stream",
     "text": [
      "['apel', 'ayam', 'bawang', 'nasi', 'paprika', 'pisang', 'squash']\n"
     ]
    }
   ],
   "source": [
    "belanja_list.append('apel')\n",
    "belanja_list.sort()\n",
    "print(belanja_list)"
   ]
  },
  {
   "cell_type": "markdown",
   "metadata": {},
   "source": [
    "Tiga properti/karakteristik utama yang mendefinisikan `list` Python adalah bahwa ia terurut, heterogen, dan dapat diubah. Karena heterogen dan bisa berubah, `list` sangat fleksibel. Kita perlu berhati-hati dengan perubahan yang kita buat pada `list`, karena perubahan itu bisa sangat tidak terduga. Kita bisa \"menghancurkan\" kode kita atau kehilangan data!"
   ]
  },
  {
   "cell_type": "markdown",
   "metadata": {},
   "source": [
    "### Latihan\n",
    "\n",
    "1. Buat list 10 elemen dan pilih hanya 2 elemen terakhir\n",
    "2. Ambil list 10 elemen yang sama dan pilih setiap elemen (lompat 2) dimulai dengan elemen pertama.\n",
    "3. Pilih setiap elemen (lompat 2) dimulai dengan elemen kedua."
   ]
  },
  {
   "cell_type": "markdown",
   "metadata": {},
   "source": [
    "## `tuple`\n",
    "\n",
    "`tuple` Python sangat mirip dengan `list` dengan satu perbedaan utama -- tidak dapat diubah. Kita membuat `tuple` menggunakan tanda kurung `()`."
   ]
  },
  {
   "cell_type": "code",
   "execution_count": 24,
   "metadata": {},
   "outputs": [
    {
     "name": "stdout",
     "output_type": "stream",
     "text": [
      "('Rita', 24, 173.6, True)\n"
     ]
    }
   ],
   "source": [
    "example_tuple = ('Rita', 24, 173.6, True)\n",
    "print(example_tuple)"
   ]
  },
  {
   "cell_type": "markdown",
   "metadata": {},
   "source": [
    "Meskipun kita dapat mengambil data melalui pengindeksan (karena `tuple` juga ordered seperti list), kita tidak dapat memodifikasinya (karena `tuple` tidak dapat diubah / immutable)."
   ]
  },
  {
   "cell_type": "code",
   "execution_count": 25,
   "metadata": {},
   "outputs": [
    {
     "name": "stdout",
     "output_type": "stream",
     "text": [
      "173.6\n"
     ]
    }
   ],
   "source": [
    "print(example_tuple[2])"
   ]
  },
  {
   "cell_type": "code",
   "execution_count": 26,
   "metadata": {},
   "outputs": [
    {
     "ename": "TypeError",
     "evalue": "'tuple' object does not support item assignment",
     "output_type": "error",
     "traceback": [
      "\u001b[1;31m---------------------------------------------------------------------------\u001b[0m",
      "\u001b[1;31mTypeError\u001b[0m                                 Traceback (most recent call last)",
      "\u001b[1;32m~\\AppData\\Local\\Temp/ipykernel_9212/2318843272.py\u001b[0m in \u001b[0;36m<module>\u001b[1;34m\u001b[0m\n\u001b[1;32m----> 1\u001b[1;33m \u001b[0mexample_tuple\u001b[0m\u001b[1;33m[\u001b[0m\u001b[1;36m2\u001b[0m\u001b[1;33m]\u001b[0m \u001b[1;33m=\u001b[0m \u001b[1;36m169.3\u001b[0m\u001b[1;33m\u001b[0m\u001b[1;33m\u001b[0m\u001b[0m\n\u001b[0m",
      "\u001b[1;31mTypeError\u001b[0m: 'tuple' object does not support item assignment"
     ]
    }
   ],
   "source": [
    "example_tuple[2] = 169.3"
   ]
  },
  {
   "cell_type": "code",
   "execution_count": 27,
   "metadata": {},
   "outputs": [
    {
     "ename": "TypeError",
     "evalue": "'tuple' object doesn't support item deletion",
     "output_type": "error",
     "traceback": [
      "\u001b[1;31m---------------------------------------------------------------------------\u001b[0m",
      "\u001b[1;31mTypeError\u001b[0m                                 Traceback (most recent call last)",
      "\u001b[1;32m~\\AppData\\Local\\Temp/ipykernel_9212/184942086.py\u001b[0m in \u001b[0;36m<module>\u001b[1;34m\u001b[0m\n\u001b[0;32m      1\u001b[0m \u001b[1;31m# penghapusan juga gagal\u001b[0m\u001b[1;33m\u001b[0m\u001b[1;33m\u001b[0m\u001b[0m\n\u001b[1;32m----> 2\u001b[1;33m \u001b[1;32mdel\u001b[0m \u001b[0mexample_tuple\u001b[0m\u001b[1;33m[\u001b[0m\u001b[1;33m-\u001b[0m\u001b[1;36m1\u001b[0m\u001b[1;33m]\u001b[0m\u001b[1;33m\u001b[0m\u001b[1;33m\u001b[0m\u001b[0m\n\u001b[0m",
      "\u001b[1;31mTypeError\u001b[0m: 'tuple' object doesn't support item deletion"
     ]
    }
   ],
   "source": [
    "# penghapusan juga gagal\n",
    "del example_tuple[-1]"
   ]
  },
  {
   "cell_type": "markdown",
   "metadata": {},
   "source": [
    "Sementara untuk kejelasan kita harus menyertakan tuple dengan `()`, Python akan menganggap kita menginginkan `tuple` jika kita tidak menggunakan simbol apa pun untuk menyertakan nilai yang dipisahkan koma."
   ]
  },
  {
   "cell_type": "code",
   "execution_count": 29,
   "metadata": {},
   "outputs": [
    {
     "name": "stdout",
     "output_type": "stream",
     "text": [
      "('Jaka', 37, 182.3, True)\n",
      "<class 'tuple'>\n"
     ]
    }
   ],
   "source": [
    "another_example_tuple = 'Jaka', 37, 182.3, True\n",
    "print(another_example_tuple)\n",
    "print(type(another_example_tuple))"
   ]
  },
  {
   "cell_type": "markdown",
   "metadata": {},
   "source": [
    "`tuple` implisit ini paling sering muncul saat bekerja dengan fungsi yang mengembalikan banyak output. Misalnya, kita mungkin memiliki fungsi yang mengembalikan huruf pertama dan terakhir dari sebuah string."
   ]
  },
  {
   "cell_type": "code",
   "execution_count": 30,
   "metadata": {},
   "outputs": [
    {
     "name": "stdout",
     "output_type": "stream",
     "text": [
      "('h', '!')\n"
     ]
    }
   ],
   "source": [
    "def first_last(s):\n",
    "    return s[0], s[-1]\n",
    "\n",
    "chars = first_last('hai!')\n",
    "print(chars)"
   ]
  },
  {
   "cell_type": "markdown",
   "metadata": {},
   "source": [
    "Dalam kasus seperti itu, terkadang kita ingin menyimpan beberapa output dalam variabel terpisah."
   ]
  },
  {
   "cell_type": "code",
   "execution_count": 31,
   "metadata": {},
   "outputs": [
    {
     "name": "stdout",
     "output_type": "stream",
     "text": [
      "h\n",
      "!\n"
     ]
    }
   ],
   "source": [
    "first_char, last_char = first_last('hello!')\n",
    "\n",
    "print(first_char)\n",
    "print(last_char)"
   ]
  },
  {
   "cell_type": "markdown",
   "metadata": {},
   "source": [
    "Sintaks ini disebut _unpacking_. Kita dapat menggunakannya dengan `tuple` apa pun, apakah itu dikembalikan oleh suatu fungsi atau tidak."
   ]
  },
  {
   "cell_type": "code",
   "execution_count": 32,
   "metadata": {},
   "outputs": [
    {
     "name": "stdout",
     "output_type": "stream",
     "text": [
      "Rita\n",
      "24\n",
      "173.6\n",
      "True\n"
     ]
    }
   ],
   "source": [
    "name, age, height, has_dog = example_tuple\n",
    "\n",
    "print(name)\n",
    "print(age)\n",
    "print(height)\n",
    "print(has_dog)"
   ]
  },
  {
   "cell_type": "markdown",
   "metadata": {},
   "source": [
    "Baik `list` dan `tuple` Python bersifat ordered dan heterogen. Namun, tidak seperti `list`, `tuple` tidak dapat diubah, artinya tidak dapat dimodifikasi setelah dibuat. Oleh karena itu, `list` mungkin lebih baik untuk mewakili data yang diharapkan berubah selama program berlangsung, seperti daftar tugas. Sebuah `tuple` mungkin lebih baik untuk mewakili data fixed, seperti tanggapan individu subjek survei.\n",
    "\n",
    "#### Catatan\n",
    "\n",
    "Satu kesalahan umum yang dilakukan orang dengan sifat immutable dan terutama dengan tuple adalah menganggap struktur data di dalam tuple tidak dapat diubah karena tuple tidak dapat diubah. Mari kita lihat sebuah contoh."
   ]
  },
  {
   "cell_type": "code",
   "execution_count": 33,
   "metadata": {},
   "outputs": [
    {
     "name": "stdout",
     "output_type": "stream",
     "text": [
      "([], 'a')\n",
      "([1], 'a')\n"
     ]
    }
   ],
   "source": [
    "tup = tuple([[], 'a'])\n",
    "print(tup)\n",
    "tup[0].append(1)\n",
    "print(tup)"
   ]
  },
  {
   "cell_type": "markdown",
   "metadata": {},
   "source": [
    "Meskipun tuple itu sendiri tidak dapat diubah, kita hanya tidak dapat mengubah objek persis yang dikandungnya, sedangkan objek itu sendiri dapat diubah jika mereka mutable. Di mana saja mutabilitas muncul, programmer harus berhati-hati dan tidak menganggap data belum dimodifikasi dalam beberapa konteks."
   ]
  },
  {
   "cell_type": "markdown",
   "metadata": {},
   "source": [
    "## `set`\n",
    "\n",
    "Sebuah `set` Python juga mirip dengan `list`, kecuali dia sifatnya tidak berurutan / ordered. Set bisa menyimpan data heterogen dan bisa berubah, tapi apa artinya tidak berurutan? Penjelasan paling sederhana adalah dengan melihat contoh. Kita bisa membuat satu set dengan melampirkan data kita dengan kurung kurawal `{}`."
   ]
  },
  {
   "cell_type": "code",
   "execution_count": 34,
   "metadata": {},
   "outputs": [
    {
     "name": "stdout",
     "output_type": "stream",
     "text": [
      "{True, 170.9, 29, 'Sinta'}\n"
     ]
    }
   ],
   "source": [
    "example_set = {'Sinta', 29, 170.9, True}\n",
    "print(example_set)"
   ]
  },
  {
   "cell_type": "markdown",
   "metadata": {},
   "source": [
    "Meskipun kita memasukkan data dalam suatu urutan, `set` dicetak dalam urutan yang berbeda. Lebih penting lagi, kita tidak dapat mengindeks atau slicing `set`."
   ]
  },
  {
   "cell_type": "code",
   "execution_count": 35,
   "metadata": {},
   "outputs": [
    {
     "ename": "TypeError",
     "evalue": "'set' object is not subscriptable",
     "output_type": "error",
     "traceback": [
      "\u001b[1;31m---------------------------------------------------------------------------\u001b[0m",
      "\u001b[1;31mTypeError\u001b[0m                                 Traceback (most recent call last)",
      "\u001b[1;32m~\\AppData\\Local\\Temp/ipykernel_9212/3649210147.py\u001b[0m in \u001b[0;36m<module>\u001b[1;34m\u001b[0m\n\u001b[1;32m----> 1\u001b[1;33m \u001b[0mprint\u001b[0m\u001b[1;33m(\u001b[0m\u001b[0mexample_set\u001b[0m\u001b[1;33m[\u001b[0m\u001b[1;36m0\u001b[0m\u001b[1;33m]\u001b[0m\u001b[1;33m)\u001b[0m\u001b[1;33m\u001b[0m\u001b[1;33m\u001b[0m\u001b[0m\n\u001b[0m",
      "\u001b[1;31mTypeError\u001b[0m: 'set' object is not subscriptable"
     ]
    }
   ],
   "source": [
    "print(example_set[0])"
   ]
  },
  {
   "cell_type": "markdown",
   "metadata": {},
   "source": [
    "Namun, kami masih dapat menambah dan menghapus item dari satu set."
   ]
  },
  {
   "cell_type": "code",
   "execution_count": 36,
   "metadata": {},
   "outputs": [
    {
     "name": "stdout",
     "output_type": "stream",
     "text": [
      "{True, 170.9, 29, 'Sinta'}\n",
      "True\n",
      "{170.9, 29, 'Sinta'}\n"
     ]
    }
   ],
   "source": [
    "print(example_set)\n",
    "print(example_set.pop())\n",
    "print(example_set)"
   ]
  },
  {
   "cell_type": "code",
   "execution_count": 37,
   "metadata": {},
   "outputs": [
    {
     "name": "stdout",
     "output_type": "stream",
     "text": [
      "{170.9, 'Sinta', 'True', 29}\n",
      "{170.9, 'brown', 'Sinta', 'True', 58.1, 29}\n"
     ]
    }
   ],
   "source": [
    "example_set.add('True')\n",
    "print(example_set)\n",
    "example_set.update([58.1, 'brown'])\n",
    "print(example_set)"
   ]
  },
  {
   "cell_type": "markdown",
   "metadata": {},
   "source": [
    "Metode `add` dari `set` bekerja mirip dengan metode `append` dari `list`. Metode `update` dari `set` bekerja mirip dengan metode `extend` dari `list`.\n",
    "\n",
    "_**Mengapa `set` berguna?**_\n",
    "\n",
    "Tampaknya aneh bahwa kita mungkin menginginkan struktur data _unordered_. Kita tidak dapat mengakses atau mengubah data melalui pengindeksan. Bagaimana ini dapat menguntungkan kita? Jawabannya adalah memberikan kita fleksibilitas tentang bagaimana data disimpan dalam memori, dan fleksibilitas itu dapat membuat pengambilan data lebih cepat.\n",
    "\n",
    "Bayangkan kita memiliki sepuluh kotak dan sepuluh tumpukan uang. Kita memasukkan sepuluh tumpukan uang ke dalam sepuluh kotak. Sekarang katakan kita ingin menemukan kotak yang berisi \\$5.37 di dalamnya. Kita tidak tahu kotak mana ini, jadi kita mulai dengan kotak pertama dan memeriksa. Jika tidak ada di kotak pertama, kita beralih ke kotak kedua. Kita terus memeriksa kotak sampai kita menemukannya. Ini mungkin memakan waktu cukup lama.\n",
    "\n",
    "![list_illustration](./static/img/list_illustration.png)\n",
    "\n",
    "Sekarang bayangkan kita memiliki sepuluh tumpukan uang yang sama, tetapi kita memiliki 31 kotak. Alih-alih meletakkan setiap tumpukan uang ke dalam kotak secara berurutan, tempatkan setiap tumpukan ke dalam kotak berdasarkan jumlah uang di tumpukan. Pertama kita kalikan jumlah uang dengan 100, dan kemudian ambil pembagian modulus dengan 31. Ini memberikan nomor kotak tempat kita harus meletakkan tumpukan uang."
   ]
  },
  {
   "cell_type": "code",
   "execution_count": 38,
   "metadata": {},
   "outputs": [],
   "source": [
    "piles = [2.83, 8.23, 9.38, 10.23, 25.58, 0.42, 5.37, 28.10, 32.14, 7.31]"
   ]
  },
  {
   "cell_type": "code",
   "execution_count": 39,
   "metadata": {},
   "outputs": [],
   "source": [
    "def hash_function(x):\n",
    "    return int(x*100 % 31)"
   ]
  },
  {
   "cell_type": "code",
   "execution_count": 40,
   "metadata": {},
   "outputs": [
    {
     "data": {
      "text/plain": [
       "[4, 17, 8, 0, 16, 11, 10, 20, 21, 18]"
      ]
     },
     "execution_count": 40,
     "metadata": {},
     "output_type": "execute_result"
    }
   ],
   "source": [
    "[hash_function(pile) for pile in piles]"
   ]
  },
  {
   "cell_type": "markdown",
   "metadata": {},
   "source": [
    "Sekarang katakan kita ingin menemukan kotak dengan \\$5.37 di dalamnya. Kita tidak perlu mencari melalui kotak demi kotak. Kita dapat menghitung:"
   ]
  },
  {
   "cell_type": "code",
   "execution_count": 41,
   "metadata": {},
   "outputs": [
    {
     "name": "stdout",
     "output_type": "stream",
     "text": [
      "10\n"
     ]
    }
   ],
   "source": [
    "print(int(5.37 * 100 % 31))"
   ]
  },
  {
   "cell_type": "markdown",
   "metadata": {},
   "source": [
    "![hash_illustration](./static/img/hash_illustration.png)\n",
    "\n",
    "Kotak nomor 10 berisi tumpukan \\$5.37.\n",
    "\n",
    "Teknik menetapkan kotak (yaitu memori) berdasarkan objek yang dikandungnya disebut **hashing**. Ini membuat pencarian data menjadi sangat cepat (seperti yang telah diilustrasikan), tetapi dengan \"biaya\" peningkatan alokasi memori (kita membutuhkan lebih banyak kotak). Ini juga berarti bahwa kita tidak dapat menetapkan perintah ke objek karena mereka disimpan dalam memori.\n",
    "\n",
    "Hashing juga menempatkan dua batasan utama pada `set`. Pertama-tama, objek dalam `set` harus tidak dapat diubah. Jika suatu objek diubah, posisinya dalam memori tidak lagi sesuai dengan **hash**-nya. Kedua, objek dalam `set` harus unik. Objek identik berakhir dengan hash yang sama. Karena kita tidak dapat menyimpan banyak objek dalam potongan memori yang sama, kita cukup membuang duplikat apa pun.\n",
    "\n",
    "Pembatasan kedua ini berarti kita dapat menggunakan `set` untuk dengan mudah menentukan objek unik dalam `list` atau `tuple`."
   ]
  },
  {
   "cell_type": "code",
   "execution_count": 42,
   "metadata": {},
   "outputs": [
    {
     "name": "stdout",
     "output_type": "stream",
     "text": [
      "{609, 5, 10, 82, 340, 23, 348}\n",
      "{'b', 'd', 'q', 'r', 'c', 'a'}\n"
     ]
    }
   ],
   "source": [
    "print(set([23, 609, 348, 10, 5, 23, 340, 82]))\n",
    "print(set(('a', 'b', 'q', 'c', 'c', 'd', 'r', 'a')))"
   ]
  },
  {
   "cell_type": "markdown",
   "metadata": {},
   "source": [
    "Karena pencarian data sangat sederhana dalam `set`, set juga sangat berguna untuk membuat perbandingan antar kumpulan data."
   ]
  },
  {
   "cell_type": "code",
   "execution_count": 43,
   "metadata": {},
   "outputs": [
    {
     "name": "stdout",
     "output_type": "stream",
     "text": [
      "{'english', 'biology'}\n",
      "{'english', 'computer science', 'theatre', 'mathematics', 'biology', 'history'}\n",
      "{'history', 'theatre'}\n",
      "{'computer science', 'mathematics'}\n",
      "{'computer science', 'theatre', 'history', 'mathematics'}\n"
     ]
    }
   ],
   "source": [
    "student_a_courses = {'history', 'english', 'biology', 'theatre'}\n",
    "student_b_courses = {'biology', 'english', 'mathematics', 'computer science'}\n",
    "\n",
    "print(student_a_courses.intersection(student_b_courses))\n",
    "print(student_a_courses.union(student_b_courses))\n",
    "print(student_a_courses.difference(student_b_courses))\n",
    "print(student_b_courses.difference(student_a_courses))\n",
    "print(student_a_courses.symmetric_difference(student_b_courses))"
   ]
  },
  {
   "cell_type": "markdown",
   "metadata": {},
   "source": [
    "![set_operations](./static/img/set_operations.png)\n",
    "\n",
    "### Latihan\n",
    "\n",
    "1. Kapan saya harus menggunakan `set` daripada `list`?\n",
    "2. Apa contoh masalah di mana `set` mungkin menjadi bagian dari solusi?"
   ]
  },
  {
   "cell_type": "markdown",
   "metadata": {},
   "source": [
    "# dict\n",
    "\n",
    "Untuk memahami `dict` Python, mari kita mulai lagi dengan `list` Python."
   ]
  },
  {
   "cell_type": "code",
   "execution_count": 44,
   "metadata": {},
   "outputs": [],
   "source": [
    "orang = ['Budi', 24, 173.5, 73.5, 'cokelat', 'cokelat', True]"
   ]
  },
  {
   "cell_type": "markdown",
   "metadata": {},
   "source": [
    "`list` ini menggambarkan seseorang: nama, usia, tinggi badan (dalam sentimeter), berat badan (dalam kilogram), warna rambut, warna mata, dan apakah `orang` ini punya anjing atau tidak. Kita tahu bahwa kita dapat mengakses informasi ini satu per satu dengan indeks."
   ]
  },
  {
   "cell_type": "code",
   "execution_count": 45,
   "metadata": {},
   "outputs": [
    {
     "name": "stdout",
     "output_type": "stream",
     "text": [
      "Nama saya Budi\n",
      "Saya memiliki warna rambut cokelat\n"
     ]
    }
   ],
   "source": [
    "print('Nama saya %s' % orang[0])\n",
    "print('Saya memiliki warna rambut %s' % orang[4])"
   ]
  },
  {
   "cell_type": "markdown",
   "metadata": {},
   "source": [
    "Akan cukup sulit dan membuat kita bingung tentang data tersebut berpasangan dengan deskripsi apa (misalnya, `'coklat'` mana yang merupakan warna rambut dan mana yang merupakan warna mata?), atau di mana saya harus menemukannya (akankah usia selalu berada di indeks 1?).\n",
    "\n",
    "Solusi yang lebih baik adalah struktur data tempat kita dapat mengindeks menggunakan label tertentu. Misalnya daripada menggunakan `orang[0]` untuk print `Budi`, kita dapat menggunakan `orang['nama']`. Alih-alih warna rambut menjadi `orang[4]`, bisa jadi `orang['rambut']`. Fitur ini adalah karakteristik utama dari `dict` Python."
   ]
  },
  {
   "cell_type": "code",
   "execution_count": 46,
   "metadata": {},
   "outputs": [
    {
     "name": "stdout",
     "output_type": "stream",
     "text": [
      "Nama saya Budi\n",
      "Warna rambut saya cokelat\n"
     ]
    }
   ],
   "source": [
    "orang_dict = {'name': 'Budi', 'age': 24, 'height': 173.5, 'weight': 73.5, 'hair': 'cokelat', 'eyes': 'cokelat', 'has dog': True}\n",
    "\n",
    "print('Nama saya %s' % orang_dict['name'])\n",
    "print('Warna rambut saya %s' % orang_dict['hair'])"
   ]
  },
  {
   "cell_type": "markdown",
   "metadata": {},
   "source": [
    "Alih-alih memanggil indeks `'name'` dan `'hair'`, kita menyebutnya **keys**. Setiap key dikaitkan dengan **value** dalam **key-value pair**. Kita bisa melihat key-value pair dalam sintaks `{}` yang digunakan untuk membuat `dict`. Setiap key-value pair dipisahkan dengan koma, dan di dalam pair tersebut key dan value dipisahkan oleh titik dua `:`.\n",
    "\n",
    "### Latihan\n",
    "1. Kapan `dict` lebih berguna daripada `list`?\n",
    "2. Bandingkan fleksibilitas `dict` yang berisi objek `dict` lain dengan array multidimensi."
   ]
  },
  {
   "cell_type": "markdown",
   "metadata": {},
   "source": [
    "### `zip`\n",
    "\n",
    "Fungsi `zip` bisa sangat berguna untuk membuat `dict`. Mari kembali ke `list` yang kita buat sebelumnya yang berisi semua nilai yang mendeskripsikan seseorang. Kita akan membuat `list` kedua yang berisi semua kunci yang kita inginkan untuk memasukkan nilai-nilai ini ke dalam dictionary"
   ]
  },
  {
   "cell_type": "code",
   "execution_count": 47,
   "metadata": {},
   "outputs": [
    {
     "name": "stdout",
     "output_type": "stream",
     "text": [
      "['Budi', 24, 173.5, 73.5, 'cokelat', 'cokelat', True]\n",
      "['name', 'age', 'height', 'weight', 'hair', 'eyes', 'has dog']\n"
     ]
    }
   ],
   "source": [
    "value_list = orang\n",
    "key_list = ['name', 'age', 'height', 'weight', 'hair', 'eyes', 'has dog']\n",
    "\n",
    "print(value_list)\n",
    "print(key_list)"
   ]
  },
  {
   "cell_type": "markdown",
   "metadata": {},
   "source": [
    "Saat ini kita memiliki dua list: satu value dan satu key. Masing-masing tidak memiliki hubungan satu sama lain dalam Python, tetapi kita dapat melihat bahwa mereka saling memiliki secara logika. Bagaimana kita menggabungkannya dengan Python? Dengan menggunakan fungsi `zip`."
   ]
  },
  {
   "cell_type": "code",
   "execution_count": 48,
   "metadata": {},
   "outputs": [
    {
     "name": "stdout",
     "output_type": "stream",
     "text": [
      "[('name', 'Budi'), ('age', 24), ('height', 173.5), ('weight', 73.5), ('hair', 'cokelat'), ('eyes', 'cokelat'), ('has dog', True)]\n"
     ]
    }
   ],
   "source": [
    "key_value_pairs = list(zip(key_list, value_list))\n",
    "print(key_value_pairs)"
   ]
  },
  {
   "cell_type": "markdown",
   "metadata": {},
   "source": [
    "Kita sekarang memiliki daftar tupel. Kita menafsirkan elemen pertama dari setiap tupel sebagai key, dan elemen kedua sebagai value. Kita dapat mengubah list dari tupel ini secara langsung menjadi `dict`."
   ]
  },
  {
   "cell_type": "code",
   "execution_count": 49,
   "metadata": {},
   "outputs": [
    {
     "name": "stdout",
     "output_type": "stream",
     "text": [
      "{'name': 'Budi', 'age': 24, 'height': 173.5, 'weight': 73.5, 'hair': 'cokelat', 'eyes': 'cokelat', 'has dog': True}\n"
     ]
    }
   ],
   "source": [
    "orang_dict = dict(key_value_pairs)\n",
    "print(orang_dict)"
   ]
  },
  {
   "cell_type": "markdown",
   "metadata": {},
   "source": [
    "`dict` bersifat unordered / tidak berurutan. Key di-\"hash\" untuk menetapkan pasangan nilai kunci ke memori. Oleh karena itu, key harus tidak dapat diubah dan unik, mirip dengan elemen `set`. Namun, value tidak memiliki batasan ini."
   ]
  },
  {
   "cell_type": "code",
   "execution_count": 50,
   "metadata": {},
   "outputs": [
    {
     "ename": "TypeError",
     "evalue": "unhashable type: 'list'",
     "output_type": "error",
     "traceback": [
      "\u001b[1;31m---------------------------------------------------------------------------\u001b[0m",
      "\u001b[1;31mTypeError\u001b[0m                                 Traceback (most recent call last)",
      "\u001b[1;32m~\\AppData\\Local\\Temp/ipykernel_9212/3828902853.py\u001b[0m in \u001b[0;36m<module>\u001b[1;34m\u001b[0m\n\u001b[0;32m      1\u001b[0m \u001b[1;31m# ini tidak berhasil\u001b[0m\u001b[1;33m\u001b[0m\u001b[1;33m\u001b[0m\u001b[0m\n\u001b[1;32m----> 2\u001b[1;33m \u001b[0minvalid_dict\u001b[0m \u001b[1;33m=\u001b[0m \u001b[1;33m{\u001b[0m\u001b[1;33m[\u001b[0m\u001b[1;36m1\u001b[0m\u001b[1;33m,\u001b[0m \u001b[1;36m5\u001b[0m\u001b[1;33m]\u001b[0m\u001b[1;33m:\u001b[0m \u001b[1;34m'a'\u001b[0m\u001b[1;33m,\u001b[0m \u001b[1;36m5\u001b[0m\u001b[1;33m:\u001b[0m \u001b[1;36m23\u001b[0m\u001b[1;33m}\u001b[0m\u001b[1;33m\u001b[0m\u001b[1;33m\u001b[0m\u001b[0m\n\u001b[0m",
      "\u001b[1;31mTypeError\u001b[0m: unhashable type: 'list'"
     ]
    }
   ],
   "source": [
    "# ini tidak berhasil\n",
    "invalid_dict = {[1, 5]: 'a', 5: 23}"
   ]
  },
  {
   "cell_type": "code",
   "execution_count": 51,
   "metadata": {},
   "outputs": [
    {
     "name": "stdout",
     "output_type": "stream",
     "text": [
      "{(1, 5): 'a', 5: [23, 6]}\n"
     ]
    }
   ],
   "source": [
    "# tapi ini berhasil\n",
    "valid_dict = {(1, 5): 'a', 5: [23, 6]}\n",
    "print(valid_dict)"
   ]
  },
  {
   "cell_type": "markdown",
   "metadata": {},
   "source": [
    "`dict` juga bisa diubah atau mutable. Kita dapat menambahkan pasangan nilai kunci baru dengan penugasan sederhana."
   ]
  },
  {
   "cell_type": "code",
   "execution_count": 52,
   "metadata": {},
   "outputs": [
    {
     "name": "stdout",
     "output_type": "stream",
     "text": [
      "{'name': 'Budi', 'age': 24, 'height': 173.5, 'weight': 73.5, 'hair': 'cokelat', 'eyes': 'cokelat', 'has dog': True}\n",
      "{'name': 'Budi', 'age': 24, 'height': 173.5, 'weight': 73.5, 'hair': 'cokelat', 'eyes': 'cokelat', 'has dog': True, 'favorite book': 'Huckleberry Finn'}\n"
     ]
    }
   ],
   "source": [
    "print(orang_dict)\n",
    "orang_dict['favorite book'] =  'Huckleberry Finn'\n",
    "print(orang_dict)"
   ]
  },
  {
   "cell_type": "markdown",
   "metadata": {},
   "source": [
    "# Mengubah Struktur Data"
   ]
  },
  {
   "cell_type": "markdown",
   "metadata": {},
   "source": [
    "Setiap container yang kita perkenalkan memiliki sifat dan karakteristik yang berbeda. Terkadang kita ingin mengubah satu struktur data menjadi struktur data lainnya untuk memanfaatkan perbedaan ini. Kita telah melihat beberapa metode untuk mengubah `dict` menjadi `list` dari `tuple` atau sebaliknya. Kita dapat dengan mudah mengubah antara `list`, `tuple`, dan `set`."
   ]
  },
  {
   "cell_type": "code",
   "execution_count": 53,
   "metadata": {},
   "outputs": [
    {
     "name": "stdout",
     "output_type": "stream",
     "text": [
      "('a', 'b', 23, 10, True, 'a', 10)\n",
      "{True, 'b', 10, 23, 'a'}\n",
      "[True, 'b', 10, 23, 'a']\n"
     ]
    }
   ],
   "source": [
    "example_list = ['a', 'b', 23, 10, True, 'a', 10]\n",
    "example_tuple = tuple(example_list)\n",
    "example_set = set(example_tuple)\n",
    "example_list = list(example_set)\n",
    "\n",
    "print(example_tuple)\n",
    "print(example_set)\n",
    "print(example_list) # note we lost the duplicates because of set"
   ]
  },
  {
   "cell_type": "markdown",
   "metadata": {},
   "source": [
    "# Search, Sorting, Iteration"
   ]
  },
  {
   "cell_type": "markdown",
   "metadata": {},
   "source": [
    "Kita mendiskusikan ide pencarian data dalam struktur data saat menjelaskan apa yang membuat `set` (dan `dict`) begitu istimewa. Seperti apa tampilan pencarian dengan Python? Kita mencari data menggunakan kata kunci `in`."
   ]
  },
  {
   "cell_type": "code",
   "execution_count": 54,
   "metadata": {},
   "outputs": [
    {
     "name": "stdout",
     "output_type": "stream",
     "text": [
      "[True, 'b', 10, 23, 'a']\n",
      "True\n",
      "False\n"
     ]
    }
   ],
   "source": [
    "print(example_list)\n",
    "print('a' in example_list)\n",
    "print('c' in example_list)"
   ]
  },
  {
   "cell_type": "markdown",
   "metadata": {},
   "source": [
    "Saat berhadapan dengan `dict`, kita dapat mencari key, tetapi bukan value."
   ]
  },
  {
   "cell_type": "code",
   "execution_count": 55,
   "metadata": {},
   "outputs": [
    {
     "name": "stdout",
     "output_type": "stream",
     "text": [
      "{'name': 'Budi', 'age': 24, 'height': 173.5, 'weight': 73.5, 'hair': 'cokelat', 'eyes': 'cokelat', 'has dog': True, 'favorite book': 'Huckleberry Finn'}\n",
      "True\n",
      "False\n",
      "False\n"
     ]
    }
   ],
   "source": [
    "print(orang_dict)\n",
    "print('hair' in orang_dict)\n",
    "print('has cat' in orang_dict)\n",
    "print('brown' in orang_dict)"
   ]
  },
  {
   "cell_type": "markdown",
   "metadata": {},
   "source": [
    "Mencari key penting dalam dictionary agar kita tidak secara tidak sengaja mencoba mengambil pasangan nilai kunci yang tidak ada."
   ]
  },
  {
   "cell_type": "code",
   "execution_count": 56,
   "metadata": {},
   "outputs": [
    {
     "ename": "KeyError",
     "evalue": "'has cat'",
     "output_type": "error",
     "traceback": [
      "\u001b[1;31m---------------------------------------------------------------------------\u001b[0m",
      "\u001b[1;31mKeyError\u001b[0m                                  Traceback (most recent call last)",
      "\u001b[1;32m~\\AppData\\Local\\Temp/ipykernel_9212/2787469805.py\u001b[0m in \u001b[0;36m<module>\u001b[1;34m\u001b[0m\n\u001b[1;32m----> 1\u001b[1;33m \u001b[0mprint\u001b[0m\u001b[1;33m(\u001b[0m\u001b[0morang_dict\u001b[0m\u001b[1;33m[\u001b[0m\u001b[1;34m'has cat'\u001b[0m\u001b[1;33m]\u001b[0m\u001b[1;33m)\u001b[0m\u001b[1;33m\u001b[0m\u001b[1;33m\u001b[0m\u001b[0m\n\u001b[0m",
      "\u001b[1;31mKeyError\u001b[0m: 'has cat'"
     ]
    }
   ],
   "source": [
    "print(orang_dict['has cat'])"
   ]
  },
  {
   "cell_type": "code",
   "execution_count": 57,
   "metadata": {},
   "outputs": [
    {
     "name": "stdout",
     "output_type": "stream",
     "text": [
      "Has dog: True\n",
      "None\n"
     ]
    }
   ],
   "source": [
    "if 'has dog' in orang_dict:\n",
    "    print('Has dog: %s' % orang_dict['has dog'])\n",
    "else:\n",
    "    print(None)\n",
    "\n",
    "if 'has cat' in orang_dict:\n",
    "    print('Has cat: %s' % orang_dict['has cat'])\n",
    "else:\n",
    "    print(None)"
   ]
  },
  {
   "cell_type": "code",
   "execution_count": 58,
   "metadata": {},
   "outputs": [
    {
     "name": "stdout",
     "output_type": "stream",
     "text": [
      "Has dog: True\n",
      "Has cat: None\n"
     ]
    }
   ],
   "source": [
    "# dapat menggunakan metode get untuk hasil yang sama\n",
    "\n",
    "print('Has dog: %s' % orang_dict.get('has dog'))\n",
    "print('Has cat: %s' % orang_dict.get('has cat'))"
   ]
  },
  {
   "cell_type": "markdown",
   "metadata": {},
   "source": [
    "Kita bisa membayangkan banyak situasi di mana pencarian berguna. Apakah suatu negara termasuk dalam kumpulan (set) tempat yang akan terkena dampak kekeringan? Apakah suatu tugas ada dalam daftar tugas saya? Apakah nama pengguna ini sudah digunakan, dan jika demikian, apa kata sandi yang cocok (`dict` akan berguna di sini)?"
   ]
  },
  {
   "cell_type": "markdown",
   "metadata": {},
   "source": [
    "## Sorting\n",
    "\n",
    "Karena `tuple` tidak dapat diubah, dapatkah kita mengurutkannya? Atau sorting termasuk mutasi? Apa artinya mengurutkan `set` atau `dict`, yang tidak memiliki urutan?\n",
    "\n",
    "Dari struktur data yang telah kita pelajari sejauh ini, hanya `list` yang memiliki metode `sort`. Namun, Python juga memiliki fungsi `sorted`, yang akan membuat `list` yang diurutkan dari struktur data lainnya. Secara default `sorted` diterapkan ke `dict` membuat `list` dari keys yang diurutkan. Kita harus menggunakan metode `items` jika kita ingin output kita menjadi pasangan nilai kunci."
   ]
  },
  {
   "cell_type": "code",
   "execution_count": 59,
   "metadata": {},
   "outputs": [
    {
     "name": "stdout",
     "output_type": "stream",
     "text": [
      "['10', '10', '23', 'True', 'a', 'a', 'b']\n",
      "['10', '23', 'True', 'a', 'b']\n",
      "[('age', 24), ('eyes', 'cokelat'), ('favorite book', 'Huckleberry Finn'), ('hair', 'cokelat'), ('has dog', True), ('height', 173.5), ('name', 'Budi'), ('weight', 73.5)]\n",
      "['age', 'eyes', 'favorite book', 'hair', 'has dog', 'height', 'name', 'weight']\n"
     ]
    }
   ],
   "source": [
    "print(sorted(map(str, example_tuple)))\n",
    "print(sorted(map(str, example_set)))\n",
    "print(sorted(orang_dict.items()))\n",
    "print(sorted(orang_dict))"
   ]
  },
  {
   "cell_type": "markdown",
   "metadata": {},
   "source": [
    "## Iteration\n",
    "\n",
    "Seperti yang telah kita lihat dalam beberapa contoh, seringkali akan berguna untuk melakukan iterasi melalui struktur data, apakah akan menjalankan beberapa tugas berdasarkan informasi yang terkandung atau untuk mengubah atau menganalisis kumpulan data. Kita akan paling sering menggunakan loop `for` untuk iterasi struktur data. Dengan `list`, `tuple`, atau `set` elemen container dikembalikan satu demi satu. Dengan `dict`, semuanya sedikit lebih rumit: apakah kita ingin iterasi key, value, atau key-value pair / pasangan nilai kunci?"
   ]
  },
  {
   "cell_type": "code",
   "execution_count": 60,
   "metadata": {},
   "outputs": [
    {
     "name": "stdout",
     "output_type": "stream",
     "text": [
      "name\n",
      "age\n",
      "height\n",
      "weight\n",
      "hair\n",
      "eyes\n",
      "has dog\n",
      "favorite book\n"
     ]
    }
   ],
   "source": [
    "# secara default kita melakukan iterasi key dari dict\n",
    "for k in orang_dict:\n",
    "    print(k)"
   ]
  },
  {
   "cell_type": "code",
   "execution_count": 61,
   "metadata": {},
   "outputs": [
    {
     "name": "stdout",
     "output_type": "stream",
     "text": [
      "Budi\n",
      "24\n",
      "173.5\n",
      "73.5\n",
      "cokelat\n",
      "cokelat\n",
      "True\n",
      "Huckleberry Finn\n"
     ]
    }
   ],
   "source": [
    "# untuk iterasi values...\n",
    "for v in orang_dict.values():\n",
    "    print(v)"
   ]
  },
  {
   "cell_type": "code",
   "execution_count": 62,
   "metadata": {},
   "outputs": [
    {
     "name": "stdout",
     "output_type": "stream",
     "text": [
      "name: Budi\n",
      "age: 24\n",
      "height: 173.5\n",
      "weight: 73.5\n",
      "hair: cokelat\n",
      "eyes: cokelat\n",
      "has dog: True\n",
      "favorite book: Huckleberry Finn\n"
     ]
    }
   ],
   "source": [
    "# atau untuk iterasi terhadap key-value pairs...\n",
    "for k, v in orang_dict.items():\n",
    "    print('%s: %s' % (k, v))"
   ]
  },
  {
   "cell_type": "markdown",
   "metadata": {},
   "source": [
    "Perhatikan bahwa kita menggunakan `tuple` unpacking dalam loop `for` pada contoh terakhir!\n",
    "\n",
    "### Comprehensions\n",
    "\n",
    "Python memiliki sintaks khusus yang disebut _comprehension_ untuk menggabungkan iterasi dengan pembuatan struktur data. Ini pada dasarnya adalah loop `for` yang dibungkus dalam tanda kurung yang sesuai untuk membuat struktur data."
   ]
  },
  {
   "cell_type": "code",
   "execution_count": 63,
   "metadata": {},
   "outputs": [
    {
     "name": "stdout",
     "output_type": "stream",
     "text": [
      "[0, 1, 4, 9, 16, 25, 36, 49, 64, 81]\n",
      "{0: 0, 1: 1, 2: 4, 3: 9, 4: 16, 5: 25, 6: 36, 7: 49, 8: 64, 9: 81}\n"
     ]
    }
   ],
   "source": [
    "squares = [x**2 for x in range(10)]\n",
    "square_lut = {x: x**2 for x in range(10)}\n",
    "\n",
    "print(squares)\n",
    "print(square_lut)"
   ]
  },
  {
   "cell_type": "markdown",
   "metadata": {},
   "source": [
    "Comprehensions sangat berguna untuk melakukan transformasi sederhana pada struktur data. Sebagai contoh, mungkin kita sedang menulis sebuah fungsi yang akan menganalisa `orang_dict`. Mungkin berguna untuk memiliki `dict` dari tipe data nilai dalam `orang_dict` sehingga kita tahu apa yang diharapkan sebagai input."
   ]
  },
  {
   "cell_type": "code",
   "execution_count": 64,
   "metadata": {},
   "outputs": [
    {
     "name": "stdout",
     "output_type": "stream",
     "text": [
      "{'name': <class 'str'>, 'age': <class 'int'>, 'height': <class 'float'>, 'weight': <class 'float'>, 'hair': <class 'str'>, 'eyes': <class 'str'>, 'has dog': <class 'bool'>, 'favorite book': <class 'str'>}\n"
     ]
    }
   ],
   "source": [
    "orang_dict_dtypes = {k: type(v) for k, v in orang_dict.items()}\n",
    "print(orang_dict_dtypes)"
   ]
  },
  {
   "cell_type": "markdown",
   "metadata": {},
   "source": [
    "Comprehensions juga membuat kode lebih mudah dibaca. Bandingkan implementasi loop `for` dari `square_lut` dengan comprehension."
   ]
  },
  {
   "cell_type": "code",
   "execution_count": 65,
   "metadata": {},
   "outputs": [
    {
     "name": "stdout",
     "output_type": "stream",
     "text": [
      "{0: 0, 1: 1, 2: 4, 3: 9, 4: 16, 5: 25, 6: 36, 7: 49, 8: 64, 9: 81}\n",
      "{0: 0, 1: 1, 2: 4, 3: 9, 4: 16, 5: 25, 6: 36, 7: 49, 8: 64, 9: 81}\n"
     ]
    }
   ],
   "source": [
    "square_lut = {}\n",
    "for x in range(10):\n",
    "    square_lut[x] = x**2\n",
    "\n",
    "print(square_lut)\n",
    "\n",
    "square_lut = {x: x**2 for x in range(10)}\n",
    "\n",
    "print(square_lut)"
   ]
  },
  {
   "cell_type": "markdown",
   "metadata": {},
   "source": [
    "## Beberapa topik yang belum kita diskusikan, tetapi telah digunakan:\n",
    "- `map`"
   ]
  },
  {
   "cell_type": "code",
   "execution_count": null,
   "metadata": {},
   "outputs": [],
   "source": []
  }
 ],
 "metadata": {
  "kernelspec": {
   "display_name": "Python 3 (ipykernel)",
   "language": "python",
   "name": "python3"
  },
  "language_info": {
   "codemirror_mode": {
    "name": "ipython",
    "version": 3
   },
   "file_extension": ".py",
   "mimetype": "text/x-python",
   "name": "python",
   "nbconvert_exporter": "python",
   "pygments_lexer": "ipython3",
   "version": "3.9.7"
  }
 },
 "nbformat": 4,
 "nbformat_minor": 4
}
