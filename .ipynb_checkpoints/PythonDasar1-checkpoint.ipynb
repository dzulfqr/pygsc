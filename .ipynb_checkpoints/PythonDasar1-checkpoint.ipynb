{
 "cells": [
  {
   "cell_type": "markdown",
   "id": "c6e5a4c7",
   "metadata": {},
   "source": [
    "# Introduction\n",
    "\n",
    "## 1. Apa itu program dan kenapa memerlukan program\n",
    "\n",
    "Program membuat komputer menjadi “usable”, menjadikan komputer bukan hanya sebagai seperangkat alat. Mirip dengan piano, yang memerlukan pemain piano, agar piano tidak hanya bernilai sebagai benda yang tersusun atas kayu saja.\n",
    "\n",
    "Pada dasarnya, komputer dapat melakukan operasi sederhana, seperti tambah; kurang; kali; dan bagi. Tetapi, komputer tidak dapat mengerjakan perintah operasi-operasi yang kompleks. Misal, kita ingin mengetahui kecepatan suatu kendaraan apabila jarak dan waktu diketahui. Kita harus mendefinisikan suatu nilai sebagai kecepatan, nilai lain sebagai waktu, kemudian melakukan operasi pembagian pada kedua nilai tersebut, lalu hasilnya kita simpan di memori, hingga akhirnya memunculkan nilai. Perintah-perintah tersebut hanya akan terjadi apabila terdapat bahasa pemrograman.\n",
    "\n",
    "Apa saja yang ada dalam bahasa pemrograman?\n",
    "\n",
    "   **Alfabet**\t: Serangkaian simbol yang digunakan dalam merangkai kata (contoh: kanji)\n",
    "   \n",
    "   **Lexis**\t: Serangkaian kata yang disampaian dalam bahasa penggunanya (contoh: dalam B.Indonesia kucing, dalam B.Inggris cat)\n",
    "   \n",
    "   **Syntax**\t: Aturan dalam penulisan kalimat, seperti grammar.\n",
    "   \n",
    "   **Semantics**\t: Suatu aturan yang membatasi supaya suatu kalimat masuk akal (contoh: “saya memakan kue” dan “kue memakan saya” secara syntax sudah betul, tapi secara semantics tidak, karena kalimat kedua tidak masuk akal)\n",
    "\n",
    "Komputer sama sekali tidak memiliki jejak kecerdasan, walaupun komputer yang sangat canggih. Komputer hanya menjalankan setiap perintah melalui command yang diberikan. Rangkaian command tersebut disebut dengan Instruction List (IL). IL ini adalah contoh alfabet pada bahasa mesin.\n",
    "Bahasa mesin pada dasarnya tidak sama dengan bahasa manusia, sehingga untuk menjembataninya diperlukan suatu bahasa, yang disebut dengan high-level programing language. Program yang ditulis di dalamnya disebut dengan source code.\n",
    "\n",
    "## 2. Compiler vs Interpreter \n",
    "(Sumber: medium.com/@larasn_/mengenal-compiler-dan-interpreter-30610c6df554)\n",
    "\n",
    "Agar bahasa tingkat tinggi dapat dimengerti oleh komputer, maka diperlukan alat untuk menerjemahkan bahasa tingkat tinggi tersebut ke dalam bahasa mesin. Alat penerjemah tersebut dapat dibagi 2, yaitu compiler dan interpreter.\n",
    "\n",
    "![compiler_interpreter](./static/img/compiler_interpreter.png)\n",
    "\n",
    "## 3. Apa itu Python?\n",
    "\n",
    "Python adalah salah satu contoh interpreter. Python pertama kali dibuat oleh Guido van Rossum, seorang yang berasal dari Belanda. Nama Python diambil dari nama salah satu acara komedi di BBC TV, yaitu Monty Python’s Flying Circus. Nama Python dipakai sebagai penghargaan kepada acara komedi tersebut karena telah menjadi suplemen tambahan untuk para programmer.\n",
    "\n",
    "Salah satu kelebihan Python adalah open access, sehingga pengembangannya cukup cepat dan dapat melibatkan banyak orang. Kelebihan tersebut, ditambah dengan bahas pemrograman yang mudah dimengerti, membuat Python menjadi bahasa pemrograman yang cukup diminati oleh banyak orang, menempati peringkat 5 besar sebagai bahasa pemrograman paling diminati di dunia.\n",
    "\n",
    "## 4. Perbedaan Cpython dan Cython\n",
    "\n",
    "Python pertama kali dikembangkan dengan bahasa “C” dan sampai sekarang pun pengembangan yang secara resmi dilakukan oleh perusahaan Guidom van Rossum masih menggunakan bahasa “C”, sehingga untuk menghormatinya seringkali Python disebut sebagai Cpython.\n",
    "\n",
    "Sementara itu, Cython merupakan gabungan antara Python dan bahasa “C”, dimana ketika kita menulis suatu persamaan matematika atau hal lain yang sangat kompleks, kode dapat ditulis di python, setelah kode tersebut dipastikan valid, dilakukan translate ke bahasa “C”, kemudian di-running. Proses ini dilakukan agar eksekusi kode menjadi lebih cepat, karena eksekusi di Python dirasa cukup lambat.\n",
    "\n",
    "## 5. Mendownload Python dapat dilakukan melalui link di bawah\n",
    "\n",
    "https://www.python.org/downloads/.\n",
    "\n",
    "Sesuaikan installer dengan jenis OS yang digunakan dan jangan lupa ceklis Add Python 3.x to PATH  saat proses instalasi.\n",
    "\n",
    "Setelah proses instalasi selesai, kita dapat menemukan 3 bagian dalam Python, yaitu:\n",
    "\n",
    "Editor\t: tempat kita menuliskan kode.\n",
    "Console\t: tempat kita melihat hasil eksekusi kode.\n",
    "Debugger\t: menu yang disediakan untuk melakukan proses eksekusi step demi step, untuk melihat kemungkinan adanya kesalahan pada kode kita. Proses debugger ini dapat dibatasi hanya sampai beberapa bagian, sehingga sangat membantu untuk melihat apakah terdapat kesalahan pada bagian-bagian tertentu, dengan proses yang relatif cepat, dibandingkan kalau kita menunggu eksekusi seluruh kode.\n",
    "\n",
    "Selain hal di atas, kita juga dapat menemukan salah satu jenis IDE, yaitu Integrated Development and Learning Environment (IDLE), setelah proses instalasi selesai."
   ]
  },
  {
   "cell_type": "markdown",
   "id": "22bb69c3",
   "metadata": {},
   "source": [
    "# Introduction to Python - Conda\n",
    "Mari kita bicara tentang beberapa pengetahuan dasar conda sehingga Anda dapat mengelola instalasi dan menyiapkan IDE untuk proyek dan skrip. Baik diinstal secara manual atau sebagai bagian dari instalasi perangkat lunak lain, conda dapat diinstal dalam salah satu dari 2 jenis:\n",
    "* [Full Anaconda Distribution](https://www.anaconda.com/what-is-anaconda/) - instal conda dan ratusan packages Python tambahan\n",
    "* [Miniconda](https://conda.io/miniconda.html) - hanya menginstal Python, conda, dan library lain yang diperlukan untuk menjalankan conda\n",
    "> Lihat [Anaconda or Miniconda](https://conda.io/docs/user-guide/install/download.html#anaconda-or-miniconda) untuk penjelasan perbedaannya.\n",
    "\n",
    "## Dasar-dasar Conda\n",
    "Cara termudah untuk memahami conda adalah dengan mengikuti tutorial [30-minute Getting Started](https://conda.io/docs/user-guide/getting-started.html). Conda adalah aplikasi pengelola [package](https://docs.conda.io/projects/conda/en/latest/glossary.html#packages) yang dapat menginstal, memperbarui, dan menghapus package Python. Package adalah kumpulan perangkat lunak dan file pendukung yang disimpan di salah satu dari berbagai repositori yang disebut [channels](https://docs.conda.io/projects/conda/en/latest/glossary.html#channels). Channel dapat berupa kumpulan lokasi cloud default, seperti Anaconda Cloud, atau repositori pribadi yang dibuat oleh individu atau organisasi. Conda mencari satu set default dari channels saat listing atau menginstal package. Lihat [Conda channels](https://docs.conda.io/projects/conda/en/latest/user-guide/concepts/channels.html?highlight=channels#) untuk informasi selengkapnya, seperti cara konfigurasi conda hingga mencari channels tertentu.\n",
    "\n",
    "## Environments pada Conda\n",
    "Saat Anda membuat Conda Environments, Anda membuat direktori fisik yang mengisolasi interpreter Python tertentu dan package yang Anda instal ke dalam environment. Ini memungkinkan Anda untuk membuat beberapa environment yang dapat memiliki versi perangkat lunak yang berbeda, termasuk Python. Anda dapat dengan mudah membuat environment baru dan kemudian beralih di antaranya tanpa mempengaruhi environment lain. Untuk penjelasan dan petunjuk mendetail, lihat dokumentasi conda di [Managing environments](https://conda.io/docs/user-guide/tasks/manage-environments.html).\n",
    "\n",
    "Anda dapat membuat daftar environment conda pada mesin Anda dalam aplikasi terminal:\n",
    "\n",
    "`conda env list`\n",
    "\n",
    "> Tambahkan conda executables directory ke PATH Anda untuk menjalankan perintah conda dari mana saja.\n",
    "\n",
    "### Distribusi Anaconda\n",
    "Setelah instalasi, Anaconda menginstal Python, conda, dan ratusan package default ke dalam satu lingkungan:\n",
    "* `root`\n",
    "\n",
    "<h5><strong><em>Kelola environment conda dengan Anaconda:</em></strong></h5>\n",
    "\n",
    "Anda dapat menggunakan beberapa aplikasi berbeda untuk mengelola environment conda Anda:\n",
    "* Terminal Application\n",
    "\n",
    " Aplikasi terminal baris perintah standar pada sistem operasi Windows, macOS, atau Linux.\n",
    " \n",
    " \n",
    "* [Anaconda Navigator](https://docs.anaconda.com/anaconda/navigator/)\n",
    "\n",
    " Aplikasi GUI untuk memelihara environment conda secara menyeluruh.\n",
    "\n",
    "## Mengaktifkan Environment\n",
    "Untuk menggunakan environment, Anda harus mengaktifkannya. Perintah `activate` akan memungkinkan kita untuk beralih antar environment pada aplikasi terminal. Lihat [Activating an environment](https://conda.io/docs/user-guide/tasks/manage-environments.html#activating-an-environment) untuk informasi selengkapnya:\n",
    " * **Windows**:\n",
    " \n",
    "    `activate <nama_environment>`\n",
    "<p></p>\n",
    " * **macOS dan Linux**:\n",
    " \n",
    "    `source activate <nama_environment>`\n",
    "\n",
    "Setelah diaktifkan, ketik `python` di terminal untuk mengakses interpreter Python untuk environment tersebut alih-alih interpreter Python global.\n",
    "\n",
    "## Menambahkan Package ke Environment\n",
    "\n",
    "Anda dapat menambahkan package ke environment yang sedang aktif di terminal dengan perintah berikut:\n",
    "\n",
    "`conda install <nama_package>`\n",
    "\n",
    "Anda juga dapat menentukan environment dan channel tertentu dengan tanda/flag `--name` dan `--channel`:\n",
    "\n",
    "`conda install --name <nama_environment> --channel <nama_channel> <nama_package>`\n",
    "\n",
    "Lihat [Managing packages](https://docs.conda.io/projects/conda/en/latest/user-guide/getting-started.html#managing-packages) untuk petunjuk mendetail tentang penggunaan antarmuka command-line conda.\n",
    "\n",
    "\n",
    "## Menyiapkan IDE\n",
    "Untuk memulai proyek di IDE, Anda sering kali harus menentukan path ke interpreter Python. Saat menggunakan environment conda, setiap environment yang Anda buat menggunakan interpreter Python yang berbeda. Ketik perintah berikut untuk mendapatkan daftar semua environment di mesin Anda dan lokasi direktori interpreter Python tertentu (python.exe) yang digunakan untuk environment itu:\n",
    "\n",
    "`conda info --envs`\n",
    "\n",
    "![Conda_info_envs Image](./static/img/guide_getstarted_understandingconda01.png)\n",
    "\n",
    "Masukkan nama direktori dan tambahkan python.exe untuk mengatur path yang benar ke interpreter Python untuk environment tertentu.\n",
    "\n",
    "![conda environment interpreter in PyCharm IDE](./static/img/guide_getstarted_understandingconda_pycharm.png)\n",
    "\n",
    "Lihat [Finding your Anaconda Python interpreter path](https://docs.anaconda.com/anaconda/user-guide/tasks/integration/python-path) untuk petunjuk lebih mendetail tentang sistem yang berbeda."
   ]
  },
  {
   "cell_type": "markdown",
   "id": "2381dfe4",
   "metadata": {},
   "source": [
    "# Menggunakan environment Jupyter Notebook\n",
    "\n",
    "Bagian ini memberikan pengenalan singkat terkait environment Jupyter Notebook di mana Anda dapat menjalankan kode Python secara interaktif dan memvisualisasikan output sebagai peta dan bagan. Lihat [dokumentasi resmi Jupyter](http://jupyter.readthedocs.io/en/latest/) dan [panduan memulai cepat ini](https://jupyter-notebook-beginner-guide.readthedocs.io/en/terbaru/index.html) untuk detail lebih lanjut."
   ]
  },
  {
   "cell_type": "markdown",
   "id": "211b78be",
   "metadata": {},
   "source": [
    "## Menjalankan environment Jupyter Notebook\n",
    "\n",
    "Setelah conda diinstal, Anda dapat memulai environment Notebook Jupyter dengan mengetikkan perintah berikut di \"terminal\" Anda.\n",
    "\n",
    "    jupyter notebook\n",
    "\n",
    "Jika Anda menjalankan OS Windows, ini bisa berupa command prompt atau jendela PowerShell Anda. Demikian pula jika Anda menjalankan Mac atau Linux OS, ini bisa menjadi terminal Anda. Di bawah ini adalah cuplikan layar bagaimana tampilannya jika Anda menjalankan perintah dari command prompt Windows.\n",
    "\n",
    "![Windows command prompt running jupyter notebook](./static/img/guide_getstarted_usingjupyternotebooks_01.png)\n",
    "\n",
    "Jika Anda ingin menggunakan modul tertentu di conda **environment** selain root (yang merupakan default), Anda perlu `activate` environment tersebut sebelum memulai Jupyter Notebook. Untuk informasi lebih lanjut tentang manfaat menggunakan environment dan cara membuat dan mengelolanya, lihat [halaman dokumentasi resmi](http://conda.pydata.org/docs/using/envs.html) ini.\n",
    "\n",
    "Jika Anda menjalankan notebook tertentu, Anda perlu ketik 'cd' ke direktori tempat Anda menyimpan notebook tersebut. Pada contoh di atas, notebook berada di direktori c:\\code.\n",
    "\n",
    "Command tersebut memulai Jupyter Notebook dan membukanya di browser web default Anda seperti yang ditunjukkan di bawah ini.\n",
    "\n",
    "![Jupyter Notebook web application](./static/img/guide_getstarted_usingjupyternotebooks_02.png)\n",
    "\n",
    "Halaman yang Anda lihat dalam gambar ini disebut Notebook Dashboard."
   ]
  },
  {
   "cell_type": "markdown",
   "id": "e6471d9b",
   "metadata": {},
   "source": [
    "## Menjalankan notebook\n",
    "\n",
    "Di Notebook Jupyter, Anda dapat menavigasi struktur folder dan mengklik notebook tertentu yang dimiliki dan akan terbuka di tab atau jendela baru. Anda dapat menjalankan setiap sel dengan memilihnya dan mengklik tombol 'run cell'. Sebagai alternatif, Anda dapat menjalankan sel menggunakan shortcut keyboard `shift + enter`. Animasi di bawah ini menunjukkan langkah-langkah tersebut."
   ]
  },
  {
   "cell_type": "markdown",
   "id": "efe6631e",
   "metadata": {},
   "source": [
    "![running a sample notebook](./static/img/guide_getstarted_usingjupyternotebooks_03.gif)\n",
    "\n",
    "Saat sel mengeksekusi, nomor sel berubah menjadi tanda bintang `(*)` dan lingkaran di sebelah nama kernel (Python 3 dalam gif di atas) menjadi \"solid\"."
   ]
  },
  {
   "cell_type": "markdown",
   "id": "db00609b",
   "metadata": {},
   "source": [
    "## Membuat notebook baru\n",
    "\n",
    "Selain menjalankan notebook existing, Anda dapat membuat notebook baru untuk proyek Anda. Untuk melakukannya, dari halaman Notebook Dashboard, klik tombol 'New' dan pilih kernel Python pilihan seperti yang ditunjukkan pada gambar di bawah.\n",
    "\n",
    "![creating new notebooks](./static/img/guide_getstarted_usingjupyternotebooks_04.png)\n",
    "\n",
    "Sebagai alternatif, Anda dapat membuat notebook baru dari menu 'File' dari notebook yang sedang berjalan. Pada tangkapan layar di atas, perhatikan ikon notebook yang sedang berjalan menjadi berwarna hijau."
   ]
  },
  {
   "cell_type": "markdown",
   "id": "78db0237",
   "metadata": {},
   "source": [
    "## Bantuan lebih lanjut dan pintasan keyboard\n",
    "\n",
    "Anda bisa mendapatkan tur antarmuka notebook dari menu `Help -> User Interface Tour`. Saat Anda terbiasa dengan antarmuka baru ini, Anda dapat meningkatkan produktivitas Anda dengan mempelajari beberapa pintasan keyboard. Mengakses `Help > Keyboard shortcuts` dari notebook yang sedang berjalan akan memunculkan dialog bantuan seperti yang ditunjukkan di bawah ini.\n",
    "\n",
    "![pintasan keyboard](./static/img/guide_getstarted_usingjupyternotebooks_05.png)\n",
    "\n",
    "Di antara pintasan, `ctrl + shift + P` atau `cmd + shift + P` pada mac sangat berguna karena menampilkan palet perintah tempat Anda dapat mengetik apa yang ingin Anda lakukan dan menjalankannya."
   ]
  },
  {
   "cell_type": "markdown",
   "id": "1137c83d",
   "metadata": {},
   "source": [
    "# Fungsi “print”\n",
    "\n",
    "**1. Apa itu fungsi?**\n",
    "\n",
    "Dalam kehidupan sehari-hari kita sering mendengar fungsi dalam matematika, misal: fungsi sin dan log. Dalam Python juga terdapat fungsi. Secara singkat, fungsi dapat diartikan sebagai suatu perintah untuk melakukan sesuatu atau menghasilkan sesuatu. Misal: dalam matematika sin (x) memberikan “perintah” untuk menghasilkan nilai sin dari x. Fungsi python dapat dibagi menjadi 3, yaitu:\n",
    "\n",
    "I. Fungsi pada Python yang secara otomatis ada setelah kita instal.\n",
    "II. Fungsi yang tidak otomatis ada setelah kita instal. Untuk mendapatkannya, kita harus melakukan instalasi terpisah (add on).\n",
    "III. Fungsi yang kita buat sendiri.\n",
    "\n",
    "**2. Fungsi “print”**\n",
    "\n",
    "Salah satu fungsi pada Python adalah “print”. Fungsi “print” merupakan perintah untuk menghasilkan suatu keluaran berupa argumen yang ada di dalam perintah print. Syntax fungsi tersebut adalah seperti pada contoh di bawah:\n",
    "\n",
    "print (“Hallo Geosaintis”)\n",
    "output: Hallo Geosaintis\n",
    "print (123)\n",
    "output: 123\n",
    "\n",
    "Diawali nama fungsi (yaitu “print”), diikuti kurung buka, kemudian diikuti argumen, diakhiri dengan kurung tutup. Catatan: tidak dapat meletakkan 2 print dalam 1 line. Apabila terdapat 2 print dalam 2 line, keluaran yang dihasilkan juga pada 2 line yang berbeda. Ketentuan tanda petik “” tergantung tipe dari argumen (dijelaskan kemudian).\n",
    "\n",
    "**3. Special Character “newline”**\n",
    "\n",
    "Suatu rangkaian kalimat yang menjadi argumen dalam fungsi “print” dapat dipisahkan menjadi 2 line dengan menggunakan simbol \\n. Simbol “\\” disebut sebagai escape character, yang sebenarnya tanda tersebut tidak memiliki fungsi sebagai pemberi perintah. Simbol tersebut hanya memberi tahu pada sistem bahwa terdapat karakter setelah simbol “\\” yang memberikan makna/perintah tertentu. Simbol “n” diartikan sebagai newline, yang memberikan perintah untuk memindahkan serangkaian kata yang ditempakan setelah “\\n” ke baris selanjutnya.\n",
    "\n",
    "Contoh:\n",
    "print (“Aku adalah Geosaintis\\nBerasal dari Bandung”)\n",
    "Output:\n",
    "\tAku adalah Geosaintis\n",
    "\tBerasal dari Bandung\n",
    "    \n",
    "**4. Menempatkan lebih dari 1 argumen dalam tipe data string dalam fungsi “print”**\n",
    "\n",
    "Apabila lebih dari 1 argumen berupa string dipisahkan oleh koma, maka keluaran yang dihasilkan adalah argumen-argumen tersebut ditempatkan dalam 1 baris yang sama dan dipisahkan oleh spasi.\n",
    "\n",
    "Contoh:\n",
    "\tprint (“Aku adalah Geosaintis”,”yang berasal dari Bandung.”)\n",
    "\tOutput:\n",
    "\t\tAku adalah Geosaintis yang berasal dari Bandung \n",
    "\n",
    "**5. Keyword Argument**\n",
    "\n",
    "Keyword argument adalah suatu perintah untuk melakukan “rekayasa” pada argumen yang kita tempatkan pada fungsi “print”, yang dasarnya bukan posisi argumen tersebut, tetapi tergantung dari keyword yang dipakai.\n",
    "\n",
    "Misal: keyword “end” menyatakan bahwa “rekayasa” dilakukan hanya setelah kata terakhir pada argumen di dalam fungsi “print”.\n",
    "\n",
    "Contoh penggunaan:\n",
    "\tprint (“Aku adalah Geosaintis”, end=“ “)\n",
    "\tprint (“yang berasal dari Bandung”)\n",
    "\toutput:\n",
    "\t\tAku adalah Geosaintis yang berasal dari Bandung\n",
    "\n",
    "Dua argumen dalam dua fungsi print yang berbeda pada contoh di atas dipisahkan oleh spasi (dengan perintah dari keyword argument “end”), sehingga output yang dihasilkan berada pada satu baris yang sama. Pada kondisi normal (tanpa keyword argument), kondisi dua fungsi di atas sama dengan “seolah-olah” terdapat keyword argument berikut: end=“\\n”.\n",
    "\n",
    "Keyword argument lainnya adalah “sep” yang artinya “separate”. Argumen ini memerintahkan “menyelipkan” sesuatu diantara kata dalam satu kalimat yang bertindak sebagai argumen.\n",
    "\n",
    "Misal:\n",
    "\tprint (“Aku adalah Geosaintis”, sep=“-”)\n",
    "\toutput: Aku-adalah-Geosaintis"
   ]
  },
  {
   "cell_type": "markdown",
   "id": "02f2f10f",
   "metadata": {},
   "source": [
    "# Data Types"
   ]
  },
  {
   "cell_type": "markdown",
   "id": "ae7c1fb5",
   "metadata": {},
   "source": [
    "Secara sederhana, program adalah daftar instruksi yang dijalankan komputer secara berurutan. Sebuah program bisa panjang dan rumit, tetapi dibangun dari bagian-bagian sederhana. Mari kita lihat beberapa operasi sederhana dengan Python, dan pikirkan tentang apa yang dilakukan komputer untuk masing-masing operasi:"
   ]
  },
  {
   "cell_type": "code",
   "execution_count": 2,
   "id": "9ac00561",
   "metadata": {},
   "outputs": [
    {
     "data": {
      "text/plain": [
       "11"
      ]
     },
     "execution_count": 2,
     "metadata": {},
     "output_type": "execute_result"
    }
   ],
   "source": [
    "2 + 9"
   ]
  },
  {
   "cell_type": "code",
   "execution_count": 3,
   "id": "45aa2919",
   "metadata": {},
   "outputs": [
    {
     "data": {
      "text/plain": [
       "97.5"
      ]
     },
     "execution_count": 3,
     "metadata": {},
     "output_type": "execute_result"
    }
   ],
   "source": [
    "15 * 6.5"
   ]
  },
  {
   "cell_type": "code",
   "execution_count": 4,
   "id": "15e1c089",
   "metadata": {},
   "outputs": [
    {
     "data": {
      "text/plain": [
       "7.0"
      ]
     },
     "execution_count": 4,
     "metadata": {},
     "output_type": "execute_result"
    }
   ],
   "source": [
    "6 + 9.7\n",
    "2 * 3.5"
   ]
  },
  {
   "cell_type": "markdown",
   "id": "6dbd4785",
   "metadata": {},
   "source": [
    "Di sel pertama kita menghitung `2 + 9`, dan Python mengembalikan hasilnya `11`. Kita dapat menganggap ini sebagai program yang sangat singkat. Demikian pula, di sel kedua kita menghitung `15 * 6.5`, dan Python mengembalikan hasilnya `97.5`.\n",
    "Namun, di sel ketiga, saat kita menggabungkan dua pernyataan sebagai baris berurutan, kita hanya melihat Python mengembalikan `7.0`. Mengapa demikian?"
   ]
  },
  {
   "cell_type": "markdown",
   "id": "467ff6d5",
   "metadata": {},
   "source": [
    "Python hanya dapat mengembalikan satu hasil di akhir sel, jadi baris pertama dievaluasi, tetapi kita tidak pernah melihat hasilnya. Salah satu cara kami dapat melaporkan hasil antara adalah menggunakan `print`."
   ]
  },
  {
   "cell_type": "code",
   "execution_count": 5,
   "id": "697295e8",
   "metadata": {},
   "outputs": [
    {
     "name": "stdout",
     "output_type": "stream",
     "text": [
      "2\n",
      "latihan python\n"
     ]
    }
   ],
   "source": [
    "print(1 + 1)\n",
    "print(\"latihan python\")"
   ]
  },
  {
   "cell_type": "markdown",
   "id": "6506ecb5",
   "metadata": {},
   "source": [
    "Anda juga dapat menyertakan baris dalam kode yang tidak akan dijalankan oleh komputer. Kita sebut baris ini **comment**, karena digunakan untuk menambahkan catatan dan penjelasan ke kode. Kita menggunakan `#` untuk menunjukkan bahwa kita membuat komentar."
   ]
  },
  {
   "cell_type": "code",
   "execution_count": 6,
   "id": "da6cbdd4",
   "metadata": {},
   "outputs": [
    {
     "name": "stdout",
     "output_type": "stream",
     "text": [
      "10 + 10 adalah 20\n",
      "Selesai!\n"
     ]
    }
   ],
   "source": [
    "print('10 + 10 adalah', 10 + 10)\n",
    "# baris ini merupakan comment, Python tidak akan mengeksekusinya\n",
    "print('Selesai!')"
   ]
  },
  {
   "cell_type": "markdown",
   "id": "de45bc2e",
   "metadata": {},
   "source": [
    "Seringkali kita tidak ingin hanya mencetak hasil semantara, tetapi _menyimpannya_ untuk digunakan nanti. Kita dapat menyimpan hasil dalam memori komputer dengan menetapkannya ke sebuah **variable**."
   ]
  },
  {
   "cell_type": "code",
   "execution_count": 7,
   "id": "a944e3c7",
   "metadata": {},
   "outputs": [
    {
     "name": "stdout",
     "output_type": "stream",
     "text": [
      "7.0\n"
     ]
    }
   ],
   "source": [
    "first_result = 1 + 1\n",
    "final_result = first_result * 3.5\n",
    "\n",
    "print(final_result)"
   ]
  },
  {
   "cell_type": "markdown",
   "id": "3f26458d",
   "metadata": {},
   "source": [
    "Di sini Anda dapat menggunakan hasil perhitungan pertama (disimpan dalam variabel `first_result`) dalam perhitungan kedua Anda. Kemudian, menyimpan hasil kedua di `final_result`, yang dapat kita cetak di akhir sel.\n",
    "\n",
    "Variabel membantu kita melacak informasi yang kita butuhkan untuk berhasil menjalankan program. Variabel dapat digunakan untuk menyimpan berbagai jenis informasi."
   ]
  },
  {
   "cell_type": "code",
   "execution_count": 8,
   "id": "ca65cb59",
   "metadata": {},
   "outputs": [
    {
     "name": "stdout",
     "output_type": "stream",
     "text": [
      "Nama saya adalah Ariani\n",
      "Umur saya 18\n",
      "Berat badan saya 55.25\n",
      "Saya seorang murid: True\n"
     ]
    }
   ],
   "source": [
    "nama = 'Ariani'\n",
    "umur = 18\n",
    "berat = 55.25\n",
    "murid = True\n",
    "\n",
    "print('Nama saya adalah', nama)\n",
    "print('Umur saya', umur)\n",
    "print('Berat badan saya', berat)\n",
    "print('Saya seorang murid:', murid)"
   ]
  },
  {
   "cell_type": "markdown",
   "id": "bb171ebc",
   "metadata": {},
   "source": [
    "Karena variabel dapat digunakan untuk menyimpan begitu banyak jenis informasi, sebaiknya beri nama deskriptif variabel tersebut seperti yang sudah dilakukan. Ini membantu kita dalam menulis kode yang mudah dibaca, yang akan membantu saat kita mencoba menemukan dan memperbaiki errors, atau jika ingin berbagi kode dengan orang lain."
   ]
  },
  {
   "cell_type": "code",
   "execution_count": 9,
   "id": "01dca230",
   "metadata": {},
   "outputs": [
    {
     "name": "stdout",
     "output_type": "stream",
     "text": [
      "<class 'str'>\n",
      "<class 'int'>\n",
      "<class 'float'>\n",
      "<class 'bool'>\n"
     ]
    }
   ],
   "source": [
    "print(type(nama))\n",
    "print(type(umur))\n",
    "print(type(berat))\n",
    "print(type(murid))"
   ]
  },
  {
   "cell_type": "markdown",
   "id": "2e34434b",
   "metadata": {},
   "source": [
    "Suatu **string** adalah sequence/urutan karakter. Sedangkan, **integer** memiliki arti yang sama seperti dalam matematika (yaitu \"bilangan bulat\"). Sebuah **float** atau **floating point number** mengacu pada angka desimal (yaitu \"bilangan real\" dalam matematika); memungkinkan kita untuk mewakili angka besar (mis. 204939.12) dan angka kecil (mis. 0.000239). **bool** atau **boolean** mengacu pada variabel yang bernilai benar atau salah (True / False).\n",
    "Dalam Python, kita dapat menetapkan tipe data apa pun ke variabel tanpa mendeklarasikan tipe variabel sebelumnya. Tidak semua bahasa pemrograman berperilaku seperti ini."
   ]
  },
  {
   "cell_type": "markdown",
   "id": "666d95e3",
   "metadata": {},
   "source": [
    "# Quick Summary\n",
    "\n",
    "Integer\t: bilangan bulat yang dapat dioperasikan dalam operasi matematika\n",
    "\n",
    "Float\t: bilangan pecahan yang dapat dioperasikan dalam operasi matematika\n",
    "\n",
    "String\t: tipe data yang tidak dapat dioperasikan dalam operasi matematika\n",
    "\n",
    "Boolean\t: tipe data yang hanya bernilai 1 (True) dan 0 (False)\n",
    "\n",
    "## Integer\n",
    "\n",
    "Penulisan bilangan dalam tipe data integer tidak memakai notasi “.” dan “,”. Apabila bilangan tersebut dalam bentuk satuan jutaan, contoh penulisannya sebagai berikut:\n",
    "\n",
    "5000000 atau\n",
    "5_000_000 \n",
    "\n",
    "Selain selain bilangan desimal (basis 10), terdapat 3 jenis bilangan lain dalam integer, yaitu bilangan biner (basis 2), bilangan octal (basis 8) dan bilangan hexadesimal (basis 16).\n",
    "\n",
    "Konversi biner-desimal:\n",
    "\n",
    "\tbiner 1100 = (1 x 2^3)+(1 x 2^2)+(0 x 2^1)+(0 x 2^0) = 12\n",
    "\n",
    "Konversi desimal-biner:\n",
    "\n",
    "    desimal 12:\n",
    "\n",
    "    12/2 = 6 sisa 0\n",
    "\n",
    "    6/2 = 3 sisa 0\n",
    "\n",
    "    3/2 = 1 sisa 1\n",
    "\n",
    "    ½ = 0 sisa 1\n",
    "    \n",
    "    Jadi binernya adalah 1100\n",
    "\n",
    "Konversi octal-desimal:\n",
    "\n",
    "\tbiner 224= (2 x 8^2)+(2 x 8^1)+(4 x 8^0)=128+16+4 = 148\n",
    "\n",
    "Konversi desimal-octal:\n",
    "\n",
    "    desimal 148  \t148/8 = 18 sisa 4\n",
    "\t\t\t18/8 = 2 sisa 2\n",
    "\t\t\t2/8 = 0 sisa 2\n",
    "\tJadi octalnya adalah 224\n",
    "\n",
    "Tanda bilangan octal adalah 0o atau 0O (nol-o)\n",
    "\n",
    "Konversi hexadecimal-desimal:\n",
    "\n",
    "\tbiner 224= (2 x 16^2)+(2 x 16^1)+(4 x 16^0)=512+32+4= 548\n",
    "    \n",
    "Konversi desimal-hexadesimal:\n",
    "\t\n",
    "    desimal 548:\n",
    "    \n",
    "    548/16 = 34 sisa 4\n",
    "    \n",
    "    34/16 = 2 sisa 2\n",
    "    \n",
    "    2/16 = 0 sisa 2\n",
    "\t\n",
    "    Jadi hexadesimalnya adalah 224\n",
    "\n",
    "Tanda bilangan hexadesimal adalah 0x atau 0X (nol-x)\n",
    "\n",
    "## Float\n",
    "\n",
    "Pada tipe data float, notasi yang digunakan adalah “.”\n",
    "\n",
    "Misal:\n",
    "\t\n",
    "    4.0 sama dengan 4. tidak sama dengan 4 (integer)\n",
    "\t\n",
    "    0.6 sama dengan .6\n",
    "\n",
    "Selain itu kita juga bisa mengguanakan notasi saintifik.\n",
    "\n",
    "Misal: \n",
    "\t\n",
    "    3000000 = 3E6\n",
    "\t\n",
    "    6.62607 x 10^-34 = 6.62607E-34\n",
    "\n",
    "## String\n",
    "\n",
    "Tipe data string dapat berupa angka, maupun karakter kata. Perbedaan angka pada jenis data integer dan float dibandingkan dengan string adalah pada syntax-nya.\n",
    "\n",
    "Misal:\n",
    "\t\n",
    "    Integer\t: print (123)\n",
    "\t\n",
    "    Float\t: print (1.23)\n",
    "\t\n",
    "    String\t: print (“123”)\n",
    "\t\tprint (“1.23”)\n",
    "\t\tprint (“Aku adalah Geosaintis”)\n",
    "\n",
    "Walaupun data string berupa angka, dia tetap tidak dapat disertakan dalam operasi matematika.\n",
    "\n",
    "Selain menggunakan “….”, dalam data string dapat juga menggunakan ‘…..’ dan ‘’’…..’’’. Contoh penggunaan:\n",
    "\n",
    "\tprint (‘Aku adalah “Geosaintis”.’)\n",
    "\toutput: Aku adalah “Geosaintis”.\n",
    "\n",
    "\tAtau bisa juga ditulis seperti ini: print (“Aku adalah \\“Geosaintis\\”.”)\n",
    "\n",
    "## Boolean\n",
    "\n",
    "Tipe data ini hanya memiliki dua nilai, yaitu 1 yang berarti True dan 0 yang berarti False. Tipe data ini seringkali digunakan dalam suatu perbandingan.\n",
    "\n",
    "Misal:\n",
    "    \n",
    "    print (5>4)\n",
    "\toutput: (True)\n",
    "\n",
    "\tprint (5<4)\n",
    "\toutput: (False)\n",
    "\n",
    "\tprint (True>False)\n",
    "\toutput: True, karena memang betul 1>0\n",
    "\n",
    "\tprint (True<False)\n",
    "\toutput: False, karena yang betul 1>0\n"
   ]
  },
  {
   "cell_type": "code",
   "execution_count": null,
   "id": "369f156f",
   "metadata": {},
   "outputs": [],
   "source": []
  }
 ],
 "metadata": {
  "kernelspec": {
   "display_name": "Python 3 (ipykernel)",
   "language": "python",
   "name": "python3"
  },
  "language_info": {
   "codemirror_mode": {
    "name": "ipython",
    "version": 3
   },
   "file_extension": ".py",
   "mimetype": "text/x-python",
   "name": "python",
   "nbconvert_exporter": "python",
   "pygments_lexer": "ipython3",
   "version": "3.9.7"
  }
 },
 "nbformat": 4,
 "nbformat_minor": 5
}
