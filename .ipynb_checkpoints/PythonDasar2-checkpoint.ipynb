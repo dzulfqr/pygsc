{
 "cells": [
  {
   "cell_type": "markdown",
   "id": "c823cfd6",
   "metadata": {},
   "source": [
    "# Python Arithmetic Operators"
   ]
  },
  {
   "cell_type": "markdown",
   "id": "9c941b8b",
   "metadata": {},
   "source": [
    "Beberapa operasi yang seringkali digunakan adalah\n",
    "\n",
    "Pangkat (**)\n",
    "\n",
    "Perkalian (*)\n",
    "\n",
    "Pembagian (\\)\n",
    "\n",
    "Pembulatan ke bawah (\\\\)\n",
    "\n",
    "Modulus (%)\n",
    "\n",
    "Penambahan (+)\n",
    "\n",
    "Pengurangan (-)\n",
    "\n",
    "## Pangkat\n",
    "\n",
    "Pada Python apabila kedua bilangan integer maka hasil pemangkatannya adalah berupa integer juga.\n",
    "\n",
    "Bila minimal salah satu bilangan merupakan float maka hasil pemangkatannya adalah berupa float.\n",
    "\n",
    "Misal: \n",
    "\t\n",
    "    print (2**2)\n",
    "\toutput: 4\n",
    "\n",
    "\tprint (2.**2)\n",
    "\toutput: 4.0 atau 4.\n",
    "\n",
    "\tprint (2.**2.)\n",
    "\toutput: 4.0 atau 4.\n",
    "\n",
    "## Perkalian\n",
    "\n",
    "Ketentuan yang berlaku pada operasi pangkat juga berlaku pada perkalian. Yang membedakan adalah simbol, ** untuk pangkat dan * untuk perkalian.\n",
    "\n",
    "## Pembagian\n",
    "\n",
    "Hasil dari operasi pembagian adalah selalu bilangan dengan tipe data float. Bilangan sebelum slash disebut dividend, sedangkan bilangan setelah slash disebut divisor.\n",
    "\n",
    "## Pembulatan ke bawah\n",
    "\n",
    "Operasi ini hampir sama dengan pembagian, tetapi keluaran yang dihasilkan selalu berupa integer dan pembulatan ke bawah.\n",
    "\n",
    "\tmisal: \t\n",
    "        print (5//4)\t\t\tprint (-5//4)\n",
    "\t\toutput: 1\t\t\toutput: -2\n",
    "\n",
    "\t\tprint (17//2)\t\t\tprint (-17//2)\n",
    "\t\toutput: 8\t\t\toutput: -9\n",
    "\n",
    "## Modulus\n",
    "\n",
    "Operasi ini menghasilkan sisa dari suatu operasi pembagian.\n",
    "\tmisal:\n",
    "    \n",
    "\t\tprint (9%2)\n",
    "\t\toutput: 1\n",
    "\t\t9 / 2 = 4.5\n",
    "\n",
    "ini artinya bahwa hasil pembagian kedua bilangan tidak bulat, tetapi ada sisa pembagiannya. Untuk mengetahui sisa pembagian, dilakukan hal berikut:\n",
    "\t\t\n",
    "\t\t2 * 4 = 8\n",
    "\t\t9 – 8 = 1\n",
    "\n",
    "## Penjumlahan dan Pengurangan\n",
    "\n",
    "Ketentuan yang berlaku pada operasi pangkat dan perkalian juga berlaku pada operasi penjumlahan dan pengurangan. Yang membedakan adalah simbolnya.\n",
    "\n",
    "## Operasi Matematika\n",
    "\n",
    "Pada kenyataannya, operasi matematika yang digunakan merupakan gabungan dari beberapa operasi. Dalam satu pernyataan kita dapat menemukan beberapa operasi, seperti penjumlahan, pengurangan, perkalian. Oleh sebab itu, kita harus mengetahui operasi mana yang harus pertama diselesaikan. Maka, ketentuan yang berlaku adalah sebagai berikut:\n",
    "\n",
    "I. Prioritas operasi: dari prioritas pertama ke terakhir adalah sebagai berikut: ** --> (*, /, %) --> (+ dan -)\n",
    "\n",
    "II. Operasi di dalam dan luar kurung buka-tutup : operasi di dalam kurung buka-tutup didahulukan\n",
    "\n",
    "III. Arah peroperasian: secara umum arah peroperasian dari kiri ke kanan, kecuali pada eksponensial. Contoh:\n",
    "\n",
    "\t\t\t2 ** 2 ** 3 = 2^(2^3) = 256\n",
    "\t\t\tbukan 2^2 = 4 --> 4 ^3 = 64\n"
   ]
  },
  {
   "cell_type": "markdown",
   "id": "64c86766",
   "metadata": {},
   "source": [
    "# Fungsi"
   ]
  },
  {
   "cell_type": "code",
   "execution_count": 1,
   "id": "47430f3c",
   "metadata": {},
   "outputs": [],
   "source": [
    "def square(number):\n",
    "    return number**2"
   ]
  },
  {
   "cell_type": "markdown",
   "id": "f347bdfd",
   "metadata": {},
   "source": [
    "Kita definisikan fungsi menggunakan kata kunci `def`. Berikutnya adalah nama fungsi, yang dalam hal ini adalah `square`. Kita kemudian menyertakan input fungsi dalam tanda kurung, dalam hal ini `number`. Kita menggunakan `:` untuk memberi tahu Python bahwa kita siap menulis isi fungsi.\n",
    "Dalam hal ini tubuh fungsinya sangat sederhana; kita mengembalikan kuadrat `number` (kita menggunakan `**` untuk eksponen dengan Python). Kata kunci `return` menandakan bahwa fungsi tersebut akan menghasilkan beberapa keluaran. Tidak setiap fungsi akan memiliki pernyataan `return`, tetapi banyak yang akan memilikinya. Pernyataan `return` mengakhiri suatu fungsi.\n",
    "Mari kita lihat hasil fungsi kita:"
   ]
  },
  {
   "cell_type": "code",
   "execution_count": 2,
   "id": "d0c2e3d0",
   "metadata": {},
   "outputs": [
    {
     "name": "stdout",
     "output_type": "stream",
     "text": [
      "25\n",
      "100\n"
     ]
    }
   ],
   "source": [
    "# kita dapat menyimpan output fungsi dalam variabel\n",
    "squared = square(5)\n",
    "\n",
    "print(squared)\n",
    "\n",
    "my_number = 10\n",
    "# kita juga dapat menggunakan variabel sebagai input fungsi\n",
    "print(square(my_number))"
   ]
  },
  {
   "cell_type": "markdown",
   "id": "868c2338",
   "metadata": {},
   "source": [
    "Kita dapat meneruskan input yang berbeda ke fungsi `square`, termasuk variabel. Ketika kita menginput float ke `square`, fungsi mengembalikan float. Ketika kita menginput sebuah bilangan bulat atau integer, `square` mengembalikan sebuah bilangan bulat pula. Dalam kedua kasus, input ditafsirkan oleh fungsi sebagai argumen `number`.\n",
    "Tidak semua input akan valid, perhatikan contoh jika kita menginput string."
   ]
  },
  {
   "cell_type": "code",
   "execution_count": 3,
   "id": "5abae31c",
   "metadata": {},
   "outputs": [
    {
     "ename": "TypeError",
     "evalue": "unsupported operand type(s) for ** or pow(): 'str' and 'int'",
     "output_type": "error",
     "traceback": [
      "\u001b[1;31m---------------------------------------------------------------------------\u001b[0m",
      "\u001b[1;31mTypeError\u001b[0m                                 Traceback (most recent call last)",
      "\u001b[1;32m~\\AppData\\Local\\Temp/ipykernel_3164/308821044.py\u001b[0m in \u001b[0;36m<module>\u001b[1;34m\u001b[0m\n\u001b[1;32m----> 1\u001b[1;33m \u001b[0mprint\u001b[0m\u001b[1;33m(\u001b[0m\u001b[0msquare\u001b[0m\u001b[1;33m(\u001b[0m\u001b[1;34m'1'\u001b[0m\u001b[1;33m)\u001b[0m\u001b[1;33m)\u001b[0m\u001b[1;33m\u001b[0m\u001b[1;33m\u001b[0m\u001b[0m\n\u001b[0m",
      "\u001b[1;32m~\\AppData\\Local\\Temp/ipykernel_3164/2406470124.py\u001b[0m in \u001b[0;36msquare\u001b[1;34m(number)\u001b[0m\n\u001b[0;32m      1\u001b[0m \u001b[1;32mdef\u001b[0m \u001b[0msquare\u001b[0m\u001b[1;33m(\u001b[0m\u001b[0mnumber\u001b[0m\u001b[1;33m)\u001b[0m\u001b[1;33m:\u001b[0m\u001b[1;33m\u001b[0m\u001b[1;33m\u001b[0m\u001b[0m\n\u001b[1;32m----> 2\u001b[1;33m     \u001b[1;32mreturn\u001b[0m \u001b[0mnumber\u001b[0m\u001b[1;33m**\u001b[0m\u001b[1;36m2\u001b[0m\u001b[1;33m\u001b[0m\u001b[1;33m\u001b[0m\u001b[0m\n\u001b[0m",
      "\u001b[1;31mTypeError\u001b[0m: unsupported operand type(s) for ** or pow(): 'str' and 'int'"
     ]
    }
   ],
   "source": [
    "print(square('1'))"
   ]
  },
  {
   "cell_type": "markdown",
   "id": "853ced4b",
   "metadata": {},
   "source": [
    "### Latihan\n",
    "\n",
    "1. Tulislah sebuah fungsi untuk menghitung pangkat tiga suatu bilangan.\n",
    "2. Tulis sebuah fungsi, `say_hello` yang mengambil variabel nama dan mencetak \"Halo nama\". `say_hello(\"Danu\")` harus mencetak `\"Hello Danu\"`."
   ]
  },
  {
   "cell_type": "markdown",
   "id": "a74c6744",
   "metadata": {},
   "source": [
    "### Mengapa Fungsi?\n",
    "Kita dapat melihat bahwa fungsi berguna untuk menangani input pengguna, tetapi juga berguna dalam banyak kasus lainnya. Salah satu contohnya adalah ketika kita ingin melakukan suatu tindakan beberapa kali pada input yang berbeda. Jika saya ingin mengkuadratkan sekelompok angka, khususnya angka antara 1 dan 10, saya dapat melakukannya dengan cukup mudah (nanti kita akan belajar tentang iterasi yang akan membuatnya lebih mudah!)"
   ]
  },
  {
   "cell_type": "code",
   "execution_count": 4,
   "id": "521cd056",
   "metadata": {},
   "outputs": [
    {
     "data": {
      "text/plain": [
       "81"
      ]
     },
     "execution_count": 4,
     "metadata": {},
     "output_type": "execute_result"
    }
   ],
   "source": [
    "1**2\n",
    "2**2\n",
    "3**2\n",
    "4**2\n",
    "5**2\n",
    "6**2\n",
    "7**2\n",
    "8**2\n",
    "9**2"
   ]
  },
  {
   "cell_type": "code",
   "execution_count": 5,
   "id": "71990322",
   "metadata": {},
   "outputs": [
    {
     "name": "stdout",
     "output_type": "stream",
     "text": [
      "1\n",
      "4\n",
      "9\n",
      "16\n",
      "25\n",
      "36\n",
      "49\n",
      "64\n",
      "81\n"
     ]
    }
   ],
   "source": [
    "print(1**2)\n",
    "print(2**2)\n",
    "print(3**2)\n",
    "print(4**2)\n",
    "print(5**2)\n",
    "print(6**2)\n",
    "print(7**2)\n",
    "print(8**2)\n",
    "print(9**2)"
   ]
  },
  {
   "cell_type": "markdown",
   "id": "2b062e58",
   "metadata": {},
   "source": [
    "Namun, bagaimana jika sekarang kita ingin kembali dan menambahkan dua ke semua jawaban? Jelas mengubah setiap instance bukanlah cara yang tepat untuk melakukannya. Mari kita mendefinisikan fungsi untuk melakukan pekerjaan untuk kita."
   ]
  },
  {
   "cell_type": "code",
   "execution_count": 6,
   "id": "0efe7ab3",
   "metadata": {},
   "outputs": [],
   "source": [
    "def fungsi(x):\n",
    "    print(x**2 + 2)"
   ]
  },
  {
   "cell_type": "markdown",
   "id": "a5d437bc",
   "metadata": {},
   "source": [
    "Sekarang kita bisa memanggil fungsi pada setiap elemen. Jika kita ingin mengubah output, kita hanya perlu mengubah fungsi di satu tempat."
   ]
  },
  {
   "cell_type": "code",
   "execution_count": 7,
   "id": "2917836c",
   "metadata": {},
   "outputs": [
    {
     "name": "stdout",
     "output_type": "stream",
     "text": [
      "3\n",
      "6\n",
      "11\n",
      "18\n",
      "27\n",
      "38\n",
      "51\n",
      "66\n",
      "83\n"
     ]
    }
   ],
   "source": [
    "fungsi(1)\n",
    "fungsi(2)\n",
    "fungsi(3)\n",
    "fungsi(4)\n",
    "fungsi(5)\n",
    "fungsi(6)\n",
    "fungsi(7)\n",
    "fungsi(8)\n",
    "fungsi(9)"
   ]
  },
  {
   "cell_type": "markdown",
   "id": "422896f7",
   "metadata": {},
   "source": [
    "Membagi pekerjaan menjadi beberapa fungsi sering kali merupakan cara untuk membuat kode lebih modular dan mudah dipahami. Ini juga membantu memastikan kode Anda benar. Jika kita menulis sebuah fungsi dan mengujinya hingga benar atau sesuai ekspektasi, kita tahu itu pun akan benar setiap kali kita menggunakannya. Jika kita tidak memecah kode menjadi suatu fungsi, sangat mudah untuk membuat kesalahan ketik atau kesalahan lain yang akan menyebabkan program kita rusak."
   ]
  },
  {
   "cell_type": "markdown",
   "id": "f7673b1d",
   "metadata": {},
   "source": [
    "## Syntax\n",
    "\n",
    "Ketika instruksi kita ke komputer menjadi lebih rumit, kita perlu mengaturnya dengan cara yang dimengerti komputer. Kita telah melihat contohnya dengan fungsi `square` kita. Ada urutan khusus untuk kata-kata dan simbol tertentu yang harus kita gunakan untuk memberi tahu Python bagian mana dari fungsi yang merupakan definisi dan bagian mana yang merupakan \"badan\", atau bagian mana yang merupakan nama fungsi dan bagian mana yang merupakan argumen. Kita menyebut aturan untuk mengatur kode yaitu **syntax** bahasa pemrograman.\n",
    "\n",
    "Syntax Python sangat efisien sehingga kode dapat dibaca dan intuitif. Python menyelesaikan ini dengan menggunakan whitespace untuk mengatur kode. Mari kita lihat beberapa contoh."
   ]
  },
  {
   "cell_type": "code",
   "execution_count": 8,
   "id": "c1eff065",
   "metadata": {},
   "outputs": [
    {
     "name": "stdout",
     "output_type": "stream",
     "text": [
      "contoh_a sedang running\n",
      "mengembalikan nilai \"a\"\n"
     ]
    },
    {
     "data": {
      "text/plain": [
       "'a'"
      ]
     },
     "execution_count": 8,
     "metadata": {},
     "output_type": "execute_result"
    }
   ],
   "source": [
    "def contoh_a():\n",
    "    print('contoh_a sedang running')\n",
    "    print('mengembalikan nilai \"a\"')\n",
    "    return 'a'\n",
    "\n",
    "contoh_a()"
   ]
  },
  {
   "cell_type": "code",
   "execution_count": 9,
   "id": "33bb7f2f",
   "metadata": {},
   "outputs": [
    {
     "name": "stdout",
     "output_type": "stream",
     "text": [
      "contoh_b sedang running\n",
      "exit tanpa mengembalikan nilai\n"
     ]
    }
   ],
   "source": [
    "def contoh_b():\n",
    "    print('contoh_b sedang running')\n",
    "    print('exit tanpa mengembalikan nilai')\n",
    "\n",
    "contoh_b()"
   ]
  },
  {
   "cell_type": "markdown",
   "id": "371b3865",
   "metadata": {},
   "source": [
    "Fungsi `contoh_a` diakhiri dengan pernyataan return, tetapi `contoh_b` tidak memiliki pernyataan return. Bagaimana Python tahu di mana `contoh_b` berakhir? Kita menggunakan indentation untuk menunjukkan line mana yang merupakan bagian dari fungsi dan mana yang tidak. Baris indentasi semua dikelompokkan bersama dalam definisi fungsi. Kita akan melihat format ini lagi untuk mengontrol apakah bagian kode tertentu dijalankan."
   ]
  },
  {
   "cell_type": "markdown",
   "id": "b23e56ff",
   "metadata": {},
   "source": [
    "# Basic I/O Operations"
   ]
  },
  {
   "cell_type": "markdown",
   "id": "be6bdea6",
   "metadata": {},
   "source": [
    "# Mengimpor dan Mengekspor Data\n",
    "\n",
    "Sejauh ini kita hanya berurusan dengan data yang telah kita buat dengan Python. Menghasilkan data random sangat membantu untuk testing, tetapi kita ingin bekerja dengan data nyata. Paling sering data itu akan disimpan dalam file, baik secara lokal di komputer atau online. Dalam notebook ini kita akan belajar cara membaca dan menulis data ke file."
   ]
  },
  {
   "cell_type": "markdown",
   "id": "4880554b",
   "metadata": {},
   "source": [
    "## `open`\n",
    "\n",
    "Dalam Python kita berinteraksi dengan file pada disk menggunakan perintah `open` dan `close`. Kami telah menyertakan file dalam folder `data` bernama `sample.txt`. Mari buka dengan perintah open dan baca isinya."
   ]
  },
  {
   "cell_type": "code",
   "execution_count": 11,
   "id": "1cecedef",
   "metadata": {},
   "outputs": [
    {
     "name": "stdout",
     "output_type": "stream",
     "text": [
      "Hello!\n",
      "Congratulations!\n",
      "You've read in data from a file.\n",
      "<_io.TextIOWrapper name='./data/sample.txt' mode='r' encoding='cp1252'>\n"
     ]
    }
   ],
   "source": [
    "f = open('./data/sample.txt', 'r')\n",
    "data = f.read()\n",
    "f.close()\n",
    "\n",
    "print(data)\n",
    "print(f)"
   ]
  },
  {
   "cell_type": "markdown",
   "id": "618d5fa8",
   "metadata": {},
   "source": [
    "Perhatikan bahwa kita `open` file dan menetapkannya ke `f`, `read` data dari `f`, lalu menutup/close `f`. Apa itu `f`? Ini disebut **file handle**. Ini adalah objek yang menghubungkan Python ke file yang kita `open`. Kita `read` data menggunakan koneksi ini, dan kemudian setelah kita selesai, kita `close` koneksi. Merupakan hal yang sangat dianjurkan untuk `close` file handle setelah kita selesai menggunakannya\n",
    "\n",
    "Berikut merupakan cara melakukan langkah-langkah tersebut secara otomatis menggunakan kata kunci `with` dalam Python."
   ]
  },
  {
   "cell_type": "code",
   "execution_count": 12,
   "id": "65323cd6",
   "metadata": {},
   "outputs": [
    {
     "name": "stdout",
     "output_type": "stream",
     "text": [
      "Hello!\n",
      "Congratulations!\n",
      "You've read in data from a file.\n",
      "<_io.TextIOWrapper name='./data/sample.txt' mode='r' encoding='cp1252'>\n"
     ]
    }
   ],
   "source": [
    "# f secara otomatis ditutup di akhir \"isi\" dari with\n",
    "with open('./data/sample.txt', 'r') as f:\n",
    "    print(f.read())\n",
    "\n",
    "print(f)"
   ]
  },
  {
   "cell_type": "markdown",
   "id": "d2588923",
   "metadata": {},
   "source": [
    "Kita juga dapat membaca lines satu persatu dari sebuah file."
   ]
  },
  {
   "cell_type": "code",
   "execution_count": 13,
   "id": "b5eed817",
   "metadata": {},
   "outputs": [
    {
     "name": "stdout",
     "output_type": "stream",
     "text": [
      "Hello!\n",
      "\n"
     ]
    }
   ],
   "source": [
    "with open('./data/sample.txt', 'r') as f:\n",
    "    print(f.readline())"
   ]
  },
  {
   "cell_type": "code",
   "execution_count": 14,
   "id": "7a64dfc8",
   "metadata": {},
   "outputs": [
    {
     "name": "stdout",
     "output_type": "stream",
     "text": [
      "['Hello!\\n', 'Congratulations!\\n', \"You've read in data from a file.\"]\n"
     ]
    }
   ],
   "source": [
    "with open('./data/sample.txt', 'r') as f:\n",
    "    print(f.readlines())"
   ]
  },
  {
   "cell_type": "markdown",
   "id": "51ab75b8",
   "metadata": {},
   "source": [
    "Menulis data ke file sangat mirip dengan langkah di atas. Perbedaan utamanya adalah ketika kita `open` file, kita akan menggunakan flag `'w'` sebagai ganti dari `'r'`."
   ]
  },
  {
   "cell_type": "code",
   "execution_count": 15,
   "id": "a4f80b62",
   "metadata": {},
   "outputs": [
    {
     "name": "stdout",
     "output_type": "stream",
     "text": [
      "This is a new file.I am practicing writing data to disk.\n"
     ]
    }
   ],
   "source": [
    "with open('./data/my_data.txt', 'w') as f:\n",
    "    f.write('This is a new file.')\n",
    "    f.write('I am practicing writing data to disk.')\n",
    "\n",
    "with open('./data/my_data.txt', 'r') as f:\n",
    "    my_data = f.read()\n",
    "\n",
    "print(my_data)"
   ]
  },
  {
   "cell_type": "markdown",
   "id": "6df16472",
   "metadata": {},
   "source": [
    "Tidak peduli seberapa sering kita menjalankan sel di atas, output yang sama akan dicetak. Membuka file dengan tanda `'w'` akan menimpa isi file. Jika kita ingin menambahkan apa yang sudah ada dalam file, kita harus membuka file dengan flag `'a'` (`'a'` singkatan dari _append_)."
   ]
  },
  {
   "cell_type": "code",
   "execution_count": 16,
   "id": "a1142947",
   "metadata": {},
   "outputs": [
    {
     "name": "stdout",
     "output_type": "stream",
     "text": [
      "This is a new file.I am practicing writing data to disk.\n",
      "Adding a new line to the file.\n"
     ]
    }
   ],
   "source": [
    "with open('./data/my_data.txt', 'a') as f:\n",
    "    f.write('\\nAdding a new line to the file.')\n",
    "\n",
    "with open('./data/my_data.txt', 'r') as f:\n",
    "    my_data = f.read()\n",
    "\n",
    "print(my_data)"
   ]
  },
  {
   "cell_type": "markdown",
   "id": "a1f0aa92",
   "metadata": {},
   "source": [
    "Kita harus selalu berhati-hati saat menulis ke disk, karena kita bisa menimpa atau mengubah data secara tidak sengaja. Akan mudah untuk melakukan kesalahan saat bekerja dengan file, karena kita mungkin tidak tahu sebelumnya jika file yang kita coba akses ada, atau kita mungkin akan sering tertukar dalam menggunakan `'r'`, `'w'`, dan `'a'`."
   ]
  },
  {
   "cell_type": "code",
   "execution_count": 19,
   "id": "1a942230",
   "metadata": {},
   "outputs": [
    {
     "ename": "FileNotFoundError",
     "evalue": "[Errno 2] No such file or directory: './data/fail1.txt'",
     "output_type": "error",
     "traceback": [
      "\u001b[1;31m---------------------------------------------------------------------------\u001b[0m",
      "\u001b[1;31mFileNotFoundError\u001b[0m                         Traceback (most recent call last)",
      "\u001b[1;32m~\\AppData\\Local\\Temp/ipykernel_3164/891773914.py\u001b[0m in \u001b[0;36m<module>\u001b[1;34m\u001b[0m\n\u001b[0;32m      3\u001b[0m \u001b[1;31m# tapi kita bisa membukanya untuk menulis\u001b[0m\u001b[1;33m\u001b[0m\u001b[1;33m\u001b[0m\u001b[0m\n\u001b[0;32m      4\u001b[0m \u001b[1;33m\u001b[0m\u001b[0m\n\u001b[1;32m----> 5\u001b[1;33m \u001b[1;32mwith\u001b[0m \u001b[0mopen\u001b[0m\u001b[1;33m(\u001b[0m\u001b[1;34m'./data/fail1.txt'\u001b[0m\u001b[1;33m,\u001b[0m \u001b[1;34m'r'\u001b[0m\u001b[1;33m)\u001b[0m \u001b[1;32mas\u001b[0m \u001b[0mf\u001b[0m\u001b[1;33m:\u001b[0m\u001b[1;33m\u001b[0m\u001b[1;33m\u001b[0m\u001b[0m\n\u001b[0m\u001b[0;32m      6\u001b[0m     \u001b[0mf\u001b[0m\u001b[1;33m.\u001b[0m\u001b[0mread\u001b[0m\u001b[1;33m(\u001b[0m\u001b[1;33m)\u001b[0m\u001b[1;33m\u001b[0m\u001b[1;33m\u001b[0m\u001b[0m\n",
      "\u001b[1;31mFileNotFoundError\u001b[0m: [Errno 2] No such file or directory: './data/fail1.txt'"
     ]
    }
   ],
   "source": [
    "# jika file tidak ada\n",
    "# kita tidak bisa membukanya untuk membaca\n",
    "# tapi kita bisa membukanya untuk menulis\n",
    "\n",
    "with open('./data/fail1.txt', 'r') as f:\n",
    "    f.read()"
   ]
  },
  {
   "cell_type": "code",
   "execution_count": 20,
   "id": "70cf6cf4",
   "metadata": {},
   "outputs": [
    {
     "ename": "UnsupportedOperation",
     "evalue": "not readable",
     "output_type": "error",
     "traceback": [
      "\u001b[1;31m---------------------------------------------------------------------------\u001b[0m",
      "\u001b[1;31mUnsupportedOperation\u001b[0m                      Traceback (most recent call last)",
      "\u001b[1;32m~\\AppData\\Local\\Temp/ipykernel_3164/674512158.py\u001b[0m in \u001b[0;36m<module>\u001b[1;34m\u001b[0m\n\u001b[0;32m      2\u001b[0m \u001b[1;33m\u001b[0m\u001b[0m\n\u001b[0;32m      3\u001b[0m \u001b[1;32mwith\u001b[0m \u001b[0mopen\u001b[0m\u001b[1;33m(\u001b[0m\u001b[1;34m'./data/fail.txt'\u001b[0m\u001b[1;33m,\u001b[0m \u001b[1;34m'w'\u001b[0m\u001b[1;33m)\u001b[0m \u001b[1;32mas\u001b[0m \u001b[0mf\u001b[0m\u001b[1;33m:\u001b[0m\u001b[1;33m\u001b[0m\u001b[1;33m\u001b[0m\u001b[0m\n\u001b[1;32m----> 4\u001b[1;33m     \u001b[0mf\u001b[0m\u001b[1;33m.\u001b[0m\u001b[0mread\u001b[0m\u001b[1;33m(\u001b[0m\u001b[1;33m)\u001b[0m\u001b[1;33m\u001b[0m\u001b[1;33m\u001b[0m\u001b[0m\n\u001b[0m",
      "\u001b[1;31mUnsupportedOperation\u001b[0m: not readable"
     ]
    }
   ],
   "source": [
    "# kita tidak bisa membaca file yang terbuka untuk ditulis\n",
    "\n",
    "with open('./data/fail.txt', 'w') as f:\n",
    "    f.read()"
   ]
  },
  {
   "cell_type": "code",
   "execution_count": 21,
   "id": "b605be67",
   "metadata": {},
   "outputs": [
    {
     "ename": "UnsupportedOperation",
     "evalue": "not writable",
     "output_type": "error",
     "traceback": [
      "\u001b[1;31m---------------------------------------------------------------------------\u001b[0m",
      "\u001b[1;31mUnsupportedOperation\u001b[0m                      Traceback (most recent call last)",
      "\u001b[1;32m~\\AppData\\Local\\Temp/ipykernel_3164/3909782709.py\u001b[0m in \u001b[0;36m<module>\u001b[1;34m\u001b[0m\n\u001b[0;32m      2\u001b[0m \u001b[1;33m\u001b[0m\u001b[0m\n\u001b[0;32m      3\u001b[0m \u001b[1;32mwith\u001b[0m \u001b[0mopen\u001b[0m\u001b[1;33m(\u001b[0m\u001b[1;34m'./data/sample.txt'\u001b[0m\u001b[1;33m,\u001b[0m \u001b[1;34m'r'\u001b[0m\u001b[1;33m)\u001b[0m \u001b[1;32mas\u001b[0m \u001b[0mf\u001b[0m\u001b[1;33m:\u001b[0m\u001b[1;33m\u001b[0m\u001b[1;33m\u001b[0m\u001b[0m\n\u001b[1;32m----> 4\u001b[1;33m     \u001b[0mf\u001b[0m\u001b[1;33m.\u001b[0m\u001b[0mwrite\u001b[0m\u001b[1;33m(\u001b[0m\u001b[1;34m'This will fail'\u001b[0m\u001b[1;33m)\u001b[0m\u001b[1;33m\u001b[0m\u001b[1;33m\u001b[0m\u001b[0m\n\u001b[0m",
      "\u001b[1;31mUnsupportedOperation\u001b[0m: not writable"
     ]
    }
   ],
   "source": [
    "# dan kita tidak dapat menulis ke file yang terbuka untuk dibaca\n",
    "\n",
    "with open('./data/sample.txt', 'r') as f:\n",
    "    f.write('This will fail')"
   ]
  },
  {
   "cell_type": "markdown",
   "id": "93b7fa45",
   "metadata": {},
   "source": [
    "Bisakah kita mencegah beberapa kesalahan ini? Bagaimana kita mengetahui file apa yang ada di disk?\n",
    "\n",
    "## Modul `os`\n",
    "\n",
    "Python memiliki modul untuk menavigasi sistem file komputer yang disebut `os`. Ada banyak tool yang berguna dalam modul `os`, tetapi ada dua fungsi yang paling sering digunakan untuk menemukan file."
   ]
  },
  {
   "cell_type": "code",
   "execution_count": 22,
   "id": "150930ba",
   "metadata": {},
   "outputs": [
    {
     "data": {
      "text/plain": [
       "['.ipynb_checkpoints',\n",
       " 'Basic_Intermediate_Python_Intro.ipynb',\n",
       " 'Basic_Intermediate_Python_IO.ipynb',\n",
       " 'Basic_Intermediate_Python_OOP.ipynb',\n",
       " 'Basic_Intermediate_Python_Struct.ipynb',\n",
       " 'data',\n",
       " 'PythonDasar1.ipynb',\n",
       " 'PythonDasar2.ipynb',\n",
       " 'PythonDasar3.ipynb',\n",
       " 'PythonDasar4.ipynb',\n",
       " 'static']"
      ]
     },
     "execution_count": 22,
     "metadata": {},
     "output_type": "execute_result"
    }
   ],
   "source": [
    "import os\n",
    "\n",
    "# daftar isi direktori saat ini\n",
    "# ('.' mengacu pada direktori saat ini)\n",
    "os.listdir('.')"
   ]
  },
  {
   "cell_type": "markdown",
   "id": "2885ff0a",
   "metadata": {},
   "source": [
    "Perintah `listdir` adalah yang lebih sederhana dari dua fungsi yang akan kita bahas. Perintah ini mencantumkan konten dalam path direktori yang kita tentukan. Ketika kita menuliskan `'.'` sebagai argumen, `listdir` akan melihat ke dalam direktori saat ini. Kita dapat melihat beberapa file lainnya seperti notebook, serta subdirektori seperti contoh subdirektori `data`. Kita bisa mengetahui apa yang ada di subdirektori `data` dengan melihat di `'./data'`."
   ]
  },
  {
   "cell_type": "code",
   "execution_count": 24,
   "id": "819b7f5a",
   "metadata": {},
   "outputs": [
    {
     "data": {
      "text/plain": [
       "['bad_csv.csv',\n",
       " 'csv_sample.txt',\n",
       " 'customers.csv',\n",
       " 'eog_djvu.txt',\n",
       " 'eog_djvu.txt.gz',\n",
       " 'eog_djvu_scrambled.txt.gz',\n",
       " 'example_df.json',\n",
       " 'fail.txt',\n",
       " 'gas_consumption.csv',\n",
       " 'library.json',\n",
       " 'my_data.txt',\n",
       " 'orders.csv',\n",
       " 'pd_write.csv',\n",
       " 'PEP_2016_PEPANNRES.csv',\n",
       " 'pickle_example.pkl',\n",
       " 'products.csv',\n",
       " 'sample.txt',\n",
       " 'sample_array.npy',\n",
       " 'sample_array.txt',\n",
       " 'short_text.txt',\n",
       " 'short_text.txt.gz',\n",
       " 'yelp.json.gz']"
      ]
     },
     "execution_count": 24,
     "metadata": {},
     "output_type": "execute_result"
    }
   ],
   "source": [
    "os.listdir('./data')"
   ]
  },
  {
   "cell_type": "markdown",
   "id": "92cb1308",
   "metadata": {},
   "source": [
    "Bagaimana jika kita ingin menemukan semua file dan subdirektori di bawah direktori di suatu tempat di komputer kita? Dengan `listdir` kita hanya melihat file dan subdirektori di bawah direktori tertentu yang kita cari. Kita tidak dapat menggunakan `listdir` untuk mencari melalui subdirektori secara otomatis. Untuk ini kita perlu menggunakan `walk`, yang \"berjalan\" melalui semua subdirektori di bawah direktori pilihan kita. `walk` salah satu tool yang sangat berguna (bersama dengan sub-modul `os.path`) untuk bekerja dengan file dengan Python, terutama jika Anda bekerja dengan banyak file data yang berbeda sekaligus."
   ]
  },
  {
   "cell_type": "markdown",
   "id": "7ed4bc93",
   "metadata": {},
   "source": [
    "## File CSV\n",
    "\n",
    "Salah satu format yang paling sederhana dan paling umum untuk menyimpan data adalah sebagai comma-separated values (CSV)."
   ]
  },
  {
   "cell_type": "code",
   "execution_count": 25,
   "id": "90d6b687",
   "metadata": {},
   "outputs": [
    {
     "name": "stdout",
     "output_type": "stream",
     "text": [
      "index,name,age\n",
      "0,Dylan,28\n",
      "1,Terrence,54\n",
      "2,Mya,31\n",
      "\n"
     ]
    }
   ],
   "source": [
    "with open('./data/csv_sample.txt', 'r') as f:\n",
    "    csv = f.read()\n",
    "\n",
    "print(csv)"
   ]
  },
  {
   "cell_type": "markdown",
   "id": "1fcd34d7",
   "metadata": {},
   "source": [
    "Format ini sering digunakan untuk merepresentasikan tabel data. Biasanya CSV akan memiliki baris (dipisahkan dengan karakter baris baru, `'\\n'`) dan kolom (dipisahkan dengan koma). Kita dapat menggunakan format khusus CSV untuk membuat list berisi list yang merepresentasikan tabel."
   ]
  },
  {
   "cell_type": "code",
   "execution_count": 26,
   "id": "4c77cf39",
   "metadata": {},
   "outputs": [
    {
     "data": {
      "text/plain": [
       "[['index', 'name', 'age'],\n",
       " ['0', 'Dylan', '28'],\n",
       " ['1', 'Terrence', '54'],\n",
       " ['2', 'Mya', '31']]"
      ]
     },
     "execution_count": 26,
     "metadata": {},
     "output_type": "execute_result"
    }
   ],
   "source": [
    "list_table = []\n",
    "with open('./data/csv_sample.txt', 'r') as f:\n",
    "    for line in f.readlines():\n",
    "        list_table.append(line.strip().split(','))\n",
    "\n",
    "list_table"
   ]
  },
  {
   "cell_type": "markdown",
   "id": "157c0d2c",
   "metadata": {},
   "source": [
    "Namun, kita dapat bekerja dengan data tabular dengan lebih mudah menggunakan Pandas DataFrame. Pandas menyediakan metode `read_csv` untuk membaca data secara langsung ke dalam DataFrame."
   ]
  },
  {
   "cell_type": "code",
   "execution_count": 27,
   "id": "65d20522",
   "metadata": {},
   "outputs": [
    {
     "data": {
      "text/html": [
       "<div>\n",
       "<style scoped>\n",
       "    .dataframe tbody tr th:only-of-type {\n",
       "        vertical-align: middle;\n",
       "    }\n",
       "\n",
       "    .dataframe tbody tr th {\n",
       "        vertical-align: top;\n",
       "    }\n",
       "\n",
       "    .dataframe thead th {\n",
       "        text-align: right;\n",
       "    }\n",
       "</style>\n",
       "<table border=\"1\" class=\"dataframe\">\n",
       "  <thead>\n",
       "    <tr style=\"text-align: right;\">\n",
       "      <th></th>\n",
       "      <th>name</th>\n",
       "      <th>age</th>\n",
       "    </tr>\n",
       "    <tr>\n",
       "      <th>index</th>\n",
       "      <th></th>\n",
       "      <th></th>\n",
       "    </tr>\n",
       "  </thead>\n",
       "  <tbody>\n",
       "    <tr>\n",
       "      <th>0</th>\n",
       "      <td>Dylan</td>\n",
       "      <td>28</td>\n",
       "    </tr>\n",
       "    <tr>\n",
       "      <th>1</th>\n",
       "      <td>Terrence</td>\n",
       "      <td>54</td>\n",
       "    </tr>\n",
       "    <tr>\n",
       "      <th>2</th>\n",
       "      <td>Mya</td>\n",
       "      <td>31</td>\n",
       "    </tr>\n",
       "  </tbody>\n",
       "</table>\n",
       "</div>"
      ],
      "text/plain": [
       "           name  age\n",
       "index               \n",
       "0         Dylan   28\n",
       "1      Terrence   54\n",
       "2           Mya   31"
      ]
     },
     "execution_count": 27,
     "metadata": {},
     "output_type": "execute_result"
    }
   ],
   "source": [
    "import pandas as pd\n",
    "\n",
    "df = pd.read_csv('./data/csv_sample.txt', index_col=0)\n",
    "df"
   ]
  },
  {
   "cell_type": "markdown",
   "id": "4e2a4968",
   "metadata": {},
   "source": [
    "Metode `read_csv` sangat fleksibel untuk menangani formatting kumpulan data yang berbeda. Beberapa kumpulan data akan menyertakan header kolom sementara yang lain mungkin tidak. Beberapa kumpulan data akan menyertakan indeks sementara yang lain mungkin tidak. Beberapa kumpulan data mungkin memiliki nilai yang dipisahkan oleh tab, titik koma, atau karakter lain. Ada opsi dalam metode `read_csv` untuk menangani semua ini. Anda dapat membacanya di [dokumentasi Pandas `read_csv`](https://pandas.pydata.org/pandas-docs/stable/generated/pandas.read_csv.html)."
   ]
  },
  {
   "cell_type": "code",
   "execution_count": 28,
   "id": "de38fcf2",
   "metadata": {},
   "outputs": [
    {
     "data": {
      "text/html": [
       "<div>\n",
       "<style scoped>\n",
       "    .dataframe tbody tr th:only-of-type {\n",
       "        vertical-align: middle;\n",
       "    }\n",
       "\n",
       "    .dataframe tbody tr th {\n",
       "        vertical-align: top;\n",
       "    }\n",
       "\n",
       "    .dataframe thead th {\n",
       "        text-align: right;\n",
       "    }\n",
       "</style>\n",
       "<table border=\"1\" class=\"dataframe\">\n",
       "  <thead>\n",
       "    <tr style=\"text-align: right;\">\n",
       "      <th></th>\n",
       "      <th>STATION</th>\n",
       "      <th>STATION_NAME</th>\n",
       "      <th>ELEVATION</th>\n",
       "      <th>LATITUDE</th>\n",
       "      <th>LONGITUDE</th>\n",
       "      <th>DATE</th>\n",
       "      <th>HPCP</th>\n",
       "      <th>Measurement Flag</th>\n",
       "      <th>Quality Flag</th>\n",
       "    </tr>\n",
       "  </thead>\n",
       "  <tbody>\n",
       "    <tr>\n",
       "      <th>0</th>\n",
       "      <td>COOP:310301</td>\n",
       "      <td>ASHEVILLE NC US</td>\n",
       "      <td>682.1</td>\n",
       "      <td>35.5954</td>\n",
       "      <td>-82.5568</td>\n",
       "      <td>20100101 00:00</td>\n",
       "      <td>99999</td>\n",
       "      <td>]</td>\n",
       "      <td></td>\n",
       "    </tr>\n",
       "    <tr>\n",
       "      <th>1</th>\n",
       "      <td>COOP:310301</td>\n",
       "      <td>ASHEVILLE NC US</td>\n",
       "      <td>682.1</td>\n",
       "      <td>35.5954</td>\n",
       "      <td>-82.5568</td>\n",
       "      <td>20100101 01:00</td>\n",
       "      <td>0</td>\n",
       "      <td>g</td>\n",
       "      <td></td>\n",
       "    </tr>\n",
       "    <tr>\n",
       "      <th>2</th>\n",
       "      <td>COOP:310301</td>\n",
       "      <td>ASHEVILLE NC US</td>\n",
       "      <td>682.1</td>\n",
       "      <td>35.5954</td>\n",
       "      <td>-82.5568</td>\n",
       "      <td>20100102 06:00</td>\n",
       "      <td>1</td>\n",
       "      <td></td>\n",
       "      <td></td>\n",
       "    </tr>\n",
       "  </tbody>\n",
       "</table>\n",
       "</div>"
      ],
      "text/plain": [
       "       STATION     STATION_NAME  ELEVATION  LATITUDE  LONGITUDE  \\\n",
       "0  COOP:310301  ASHEVILLE NC US      682.1   35.5954   -82.5568   \n",
       "1  COOP:310301  ASHEVILLE NC US      682.1   35.5954   -82.5568   \n",
       "2  COOP:310301  ASHEVILLE NC US      682.1   35.5954   -82.5568   \n",
       "\n",
       "             DATE   HPCP Measurement Flag Quality Flag  \n",
       "0  20100101 00:00  99999                ]               \n",
       "1  20100101 01:00      0                g               \n",
       "2  20100102 06:00      1                                "
      ]
     },
     "execution_count": 28,
     "metadata": {},
     "output_type": "execute_result"
    }
   ],
   "source": [
    "# contoh pengunduhan\n",
    "# dan mengimpor data real menggunakan `read_csv`\n",
    "\n",
    "csv_url = 'https://www1.ncdc.noaa.gov/pub/data/cdo/samples/PRECIP_HLY_sample_csv.csv'\n",
    "    \n",
    "precip = pd.read_csv(csv_url)\n",
    "precip.head()"
   ]
  },
  {
   "cell_type": "code",
   "execution_count": 29,
   "id": "7bed38c6",
   "metadata": {},
   "outputs": [
    {
     "data": {
      "text/html": [
       "<div>\n",
       "<style scoped>\n",
       "    .dataframe tbody tr th:only-of-type {\n",
       "        vertical-align: middle;\n",
       "    }\n",
       "\n",
       "    .dataframe tbody tr th {\n",
       "        vertical-align: top;\n",
       "    }\n",
       "\n",
       "    .dataframe thead th {\n",
       "        text-align: right;\n",
       "    }\n",
       "</style>\n",
       "<table border=\"1\" class=\"dataframe\">\n",
       "  <thead>\n",
       "    <tr style=\"text-align: right;\">\n",
       "      <th></th>\n",
       "      <th>a</th>\n",
       "      <th>b</th>\n",
       "    </tr>\n",
       "  </thead>\n",
       "  <tbody>\n",
       "    <tr>\n",
       "      <th>0</th>\n",
       "      <td>0</td>\n",
       "      <td>True</td>\n",
       "    </tr>\n",
       "    <tr>\n",
       "      <th>1</th>\n",
       "      <td>3</td>\n",
       "      <td>True</td>\n",
       "    </tr>\n",
       "    <tr>\n",
       "      <th>2</th>\n",
       "      <td>10</td>\n",
       "      <td>False</td>\n",
       "    </tr>\n",
       "  </tbody>\n",
       "</table>\n",
       "</div>"
      ],
      "text/plain": [
       "    a      b\n",
       "0   0   True\n",
       "1   3   True\n",
       "2  10  False"
      ]
     },
     "execution_count": 29,
     "metadata": {},
     "output_type": "execute_result"
    }
   ],
   "source": [
    "# kita juga bisa menggunakan pandas untuk menulis CSV\n",
    "# menggunakan metode to_csv DataFrame\n",
    "\n",
    "pd.DataFrame({'a': [0, 3, 10], 'b': [True, True, False]}).to_csv('./data/pd_write.csv')\n",
    "\n",
    "pd.read_csv('./data/pd_write.csv', index_col=0)"
   ]
  },
  {
   "cell_type": "markdown",
   "id": "06deb7c2",
   "metadata": {},
   "source": [
    "Terkadang CSV tidak akan sempurna. Misalnya, mungkin baris yang berbeda memiliki jumlah koma yang berbeda. Hal ini membuat sulit untuk menafsirkan isi file sebagai tabel."
   ]
  },
  {
   "cell_type": "code",
   "execution_count": 30,
   "id": "29b85aab",
   "metadata": {},
   "outputs": [
    {
     "data": {
      "text/html": [
       "<div>\n",
       "<style scoped>\n",
       "    .dataframe tbody tr th:only-of-type {\n",
       "        vertical-align: middle;\n",
       "    }\n",
       "\n",
       "    .dataframe tbody tr th {\n",
       "        vertical-align: top;\n",
       "    }\n",
       "\n",
       "    .dataframe thead th {\n",
       "        text-align: right;\n",
       "    }\n",
       "</style>\n",
       "<table border=\"1\" class=\"dataframe\">\n",
       "  <thead>\n",
       "    <tr style=\"text-align: right;\">\n",
       "      <th></th>\n",
       "      <th>name</th>\n",
       "      <th>age</th>\n",
       "    </tr>\n",
       "    <tr>\n",
       "      <th>index</th>\n",
       "      <th></th>\n",
       "      <th></th>\n",
       "    </tr>\n",
       "  </thead>\n",
       "  <tbody>\n",
       "    <tr>\n",
       "      <th>0</th>\n",
       "      <td>Dylan</td>\n",
       "      <td>27.0</td>\n",
       "    </tr>\n",
       "    <tr>\n",
       "      <th>1</th>\n",
       "      <td>54</td>\n",
       "      <td>NaN</td>\n",
       "    </tr>\n",
       "    <tr>\n",
       "      <th>2</th>\n",
       "      <td>Mya</td>\n",
       "      <td>31.0</td>\n",
       "    </tr>\n",
       "  </tbody>\n",
       "</table>\n",
       "</div>"
      ],
      "text/plain": [
       "        name   age\n",
       "index             \n",
       "0      Dylan  27.0\n",
       "1         54   NaN\n",
       "2        Mya  31.0"
      ]
     },
     "execution_count": 30,
     "metadata": {},
     "output_type": "execute_result"
    }
   ],
   "source": [
    "# apa yang terjadi jika kita mencoba membaca ini\n",
    "# ke dalam DataFrame menggunakan read_csv?\n",
    "\n",
    "pd.read_csv('./data/bad_csv.csv', index_col = 0)"
   ]
  },
  {
   "cell_type": "markdown",
   "id": "3e5c94ec",
   "metadata": {},
   "source": [
    "Metode `read_csv` Panda akan melakukan yang terbaik untuk membuat tabel dari CSV yang formatnya buruk, tetapi mungkin akan membuat kesalahan. Misalnya, 54 ditafsirkan sebagai nama, bukan usia, karena hanya ada 2 kolom di baris file tersebut. Dataset akan sering berisi kesalahan seperti pemformatan yang buruk, data yang hilang, atau kesalahan ketik."
   ]
  },
  {
   "cell_type": "markdown",
   "id": "b36f0b85",
   "metadata": {},
   "source": [
    "## JSON\n",
    "\n",
    "JSON adalah singkatan dari JavaScript Object Notation. JavaScript adalah bahasa umum untuk membuat aplikasi web, dan file JSON digunakan untuk mengumpulkan dan mengirimkan informasi antar aplikasi JavaScript. Akibatnya, banyak data di internet ada dalam format file JSON. Misalnya, Twitter dan Google Maps menggunakan JSON.\n",
    "\n",
    "File JSON pada dasarnya adalah struktur data yang dibangun dari nested dictionaries dan lists. Mari kita buat contoh kita sendiri dan kemudian kita akan memeriksa contoh yang diunduh dari internet."
   ]
  },
  {
   "cell_type": "code",
   "execution_count": 31,
   "id": "4c58c886",
   "metadata": {},
   "outputs": [
    {
     "data": {
      "text/plain": [
       "[{'title': 'The Prophet',\n",
       "  'author': 'Khalil Gibran',\n",
       "  'genre': 'poetry',\n",
       "  'tags': ['religion',\n",
       "   'spirituality',\n",
       "   'philosophy',\n",
       "   'Lebanon',\n",
       "   'Arabic',\n",
       "   'Middle East'],\n",
       "  'book_id': '811.19',\n",
       "  'copies': [{'edition_year': 1996, 'checkouts': 486, 'borrowed': False},\n",
       "   {'edition_year': 1996, 'checkouts': 443, 'borrowed': False}]},\n",
       " {'title': 'The Little Prince',\n",
       "  'author': 'Antoine de Saint-Exupery',\n",
       "  'genre': 'children',\n",
       "  'tags': ['fantasy', 'France', 'philosophy', 'illustrated', 'fable'],\n",
       "  'id': '843.912',\n",
       "  'copies': [{'edition_year': 1983,\n",
       "    'checkouts': 634,\n",
       "    'borrowed': True,\n",
       "    'due_date': '2017/02/02'},\n",
       "   {'edition_year': 2015, 'checkouts': 41, 'borrowed': False}]}]"
      ]
     },
     "execution_count": 31,
     "metadata": {},
     "output_type": "execute_result"
    }
   ],
   "source": [
    "book1 = {'title': 'The Prophet',\n",
    "         'author': 'Khalil Gibran',\n",
    "         'genre': 'poetry',\n",
    "         'tags': ['religion', 'spirituality', 'philosophy', 'Lebanon', 'Arabic', 'Middle East'],\n",
    "         'book_id': '811.19',\n",
    "         'copies': [{'edition_year': 1996,\n",
    "                     'checkouts': 486,\n",
    "                     'borrowed': False},\n",
    "                    {'edition_year': 1996,\n",
    "                     'checkouts': 443,\n",
    "                     'borrowed': False}]\n",
    "         }\n",
    "         \n",
    "book2 = {'title': 'The Little Prince',\n",
    "         'author': 'Antoine de Saint-Exupery',\n",
    "         'genre': 'children',\n",
    "         'tags': ['fantasy', 'France', 'philosophy', 'illustrated', 'fable'],\n",
    "         'id': '843.912',\n",
    "         'copies': [{'edition_year': 1983,\n",
    "                     'checkouts': 634,\n",
    "                     'borrowed': True,\n",
    "                     'due_date': '2017/02/02'},\n",
    "                    {'edition_year': 2015,\n",
    "                     'checkouts': 41,\n",
    "                     'borrowed': False}]\n",
    "         }\n",
    "\n",
    "library = [book1, book2]\n",
    "library"
   ]
  },
  {
   "cell_type": "markdown",
   "id": "52df3438",
   "metadata": {},
   "source": [
    "Kita memiliki dua buku di `library` kita. Kedua buku memiliki beberapa properti umum: judul, penulis, id, dan tag. Setiap buku dapat memiliki beberapa tag, jadi kita menyimpan data tersebut sebagai list. Selain itu, dapat ada beberapa salinan dari setiap buku, dan setiap salinan juga memiliki beberapa informasi unik seperti tahun buku itu dicetak dan berapa kali buku itu di-checkout. Perhatikan bahwa jika sebuah buku di-checkout, buku itu juga memiliki tanggal jatuh tempo. Lebih mudah untuk menyimpan informasi tentang banyak salinan sebagai list berisi dictionary, karena setiap salinan memiliki judul, penulis, dll yang sama.\n",
    "\n",
    "Struktur ini khas dari file JSON. Dengan ini, kita memiliki keuntungan mengurangi redundansi data. Kita hanya menyimpan penulis dan judul satu kali, meskipun ada beberapa salinan buku. Selain itu, kita tidak menyimpan tanggal jatuh tempo untuk salinan yang tidak di-checkout.\n",
    "\n",
    "Jika kita meletakkan data ini dalam sebuah tabel, kita harus menduplikasi banyak informasi. Juga, karena hanya satu salinan di perpustakaan kita yang di-checkout, kita juga memiliki kolom dengan banyak data yang hilang.\n",
    "\n",
    "|index|title|author|id|genre|tags|edition_year|checkouts|borrowed|due_date|\n",
    "|:---:|:---:|:----:|::|:---:|:--:|:----------:|:-------:|:------:|:------:|\n",
    "|0|The Prophet|Khalil Gibran|811.19|poetry|religion, spirituality, philosophy, Lebanon, Arabic, Middle East|1996|486|False|Null|\n",
    "|1|The Prophet|Khalil Gibran|811.19|poetry|religion, spirituality, philosophy, Lebanon, Arabic, Middle East|1996|443|False|Null|\n",
    "|2|The Little Prince|Antoine de Saint-Exupery|843.912|children|fantasy, France, philosophy, illustrated, fable|1983|634|True|2017/02/02|\n",
    "|3|The Little Prince|Antoine de Saint-Exupery|843.912|children|fantasy, France, philosophy, illustrated, fable|2015|41|False|Null|\n",
    "\n",
    "Ini sangat mubazir. Karena file JSON dimaksudkan untuk dibagikan dengan cepat melalui internet, penting bahwa file tersebut berukuran kecil untuk mengurangi jumlah resources yang diperlukan untuk menyimpan dan mengirimkannya.\n",
    "\n",
    "Kita dapat menulis `library` kita ke disk menggunakan modul `json`."
   ]
  },
  {
   "cell_type": "code",
   "execution_count": 32,
   "id": "3a31449a",
   "metadata": {},
   "outputs": [],
   "source": [
    "import json\n",
    "\n",
    "with open('./data/library.json', 'w') as f:\n",
    "    json.dump(library, f, indent=2)"
   ]
  },
  {
   "cell_type": "code",
   "execution_count": 33,
   "id": "10546d05",
   "metadata": {},
   "outputs": [
    {
     "data": {
      "text/plain": [
       "[{'title': 'The Prophet',\n",
       "  'author': 'Khalil Gibran',\n",
       "  'genre': 'poetry',\n",
       "  'tags': ['religion',\n",
       "   'spirituality',\n",
       "   'philosophy',\n",
       "   'Lebanon',\n",
       "   'Arabic',\n",
       "   'Middle East'],\n",
       "  'book_id': '811.19',\n",
       "  'copies': [{'edition_year': 1996, 'checkouts': 486, 'borrowed': False},\n",
       "   {'edition_year': 1996, 'checkouts': 443, 'borrowed': False}]},\n",
       " {'title': 'The Little Prince',\n",
       "  'author': 'Antoine de Saint-Exupery',\n",
       "  'genre': 'children',\n",
       "  'tags': ['fantasy', 'France', 'philosophy', 'illustrated', 'fable'],\n",
       "  'id': '843.912',\n",
       "  'copies': [{'edition_year': 1983,\n",
       "    'checkouts': 634,\n",
       "    'borrowed': True,\n",
       "    'due_date': '2017/02/02'},\n",
       "   {'edition_year': 2015, 'checkouts': 41, 'borrowed': False}]}]"
      ]
     },
     "execution_count": 33,
     "metadata": {},
     "output_type": "execute_result"
    }
   ],
   "source": [
    "with open('./data/library.json', 'r') as f:\n",
    "    reloaded_library = json.load(f)\n",
    "\n",
    "reloaded_library"
   ]
  },
  {
   "cell_type": "code",
   "execution_count": 34,
   "id": "5b29554b",
   "metadata": {},
   "outputs": [
    {
     "data": {
      "text/plain": [
       "'[\\n  {\\n    \"title\": \"The Prophet\",\\n    \"author\": \"Khalil Gibran\",\\n    \"genre\": \"poetry\",\\n    \"tags\": [\\n      \"religion\",\\n      \"spirituality\",\\n      \"philosophy\",\\n      \"Lebanon\",\\n      \"Arabic\",\\n      \"Middle East\"\\n    ],\\n    \"book_id\": \"811.19\",\\n    \"copies\": [\\n      {\\n        \"edition_year\": 1996,\\n        \"checkouts\": 486,\\n        \"borrowed\": false\\n      },\\n      {\\n        \"edition_year\": 1996,\\n        \"checkouts\": 443,\\n        \"borrowed\": false\\n      }\\n    ]\\n  },\\n  {\\n    \"title\": \"The Little Prince\",\\n    \"author\": \"Antoine de Saint-Exupery\",\\n    \"genre\": \"children\",\\n    \"tags\": [\\n      \"fantasy\",\\n      \"France\",\\n      \"philosophy\",\\n      \"illustrated\",\\n      \"fable\"\\n    ],\\n    \"id\": \"843.912\",\\n    \"copies\": [\\n      {\\n        \"edition_year\": 1983,\\n        \"checkouts\": 634,\\n        \"borrowed\": true,\\n        \"due_date\": \"2017/02/02\"\\n      },\\n      {\\n        \"edition_year\": 2015,\\n        \"checkouts\": 41,\\n        \"borrowed\": false\\n      }\\n    ]\\n  }\\n]'"
      ]
     },
     "execution_count": 34,
     "metadata": {},
     "output_type": "execute_result"
    }
   ],
   "source": [
    "# perhatikan bahwa jika kita memuatnya tanpa JSON\n",
    "# file akan ditafsirkan sebagai teks biasa\n",
    "\n",
    "with open('./data/library.json', 'r') as f:\n",
    "    library_string = f.read()\n",
    "\n",
    "#ini bukan yang kita inginkan\n",
    "library_string"
   ]
  },
  {
   "cell_type": "code",
   "execution_count": 35,
   "id": "abee8cb7",
   "metadata": {},
   "outputs": [
    {
     "data": {
      "text/html": [
       "<div>\n",
       "<style scoped>\n",
       "    .dataframe tbody tr th:only-of-type {\n",
       "        vertical-align: middle;\n",
       "    }\n",
       "\n",
       "    .dataframe tbody tr th {\n",
       "        vertical-align: top;\n",
       "    }\n",
       "\n",
       "    .dataframe thead th {\n",
       "        text-align: right;\n",
       "    }\n",
       "</style>\n",
       "<table border=\"1\" class=\"dataframe\">\n",
       "  <thead>\n",
       "    <tr style=\"text-align: right;\">\n",
       "      <th></th>\n",
       "      <th>title</th>\n",
       "      <th>author</th>\n",
       "      <th>genre</th>\n",
       "      <th>tags</th>\n",
       "      <th>book_id</th>\n",
       "      <th>copies</th>\n",
       "      <th>id</th>\n",
       "    </tr>\n",
       "  </thead>\n",
       "  <tbody>\n",
       "    <tr>\n",
       "      <th>0</th>\n",
       "      <td>The Prophet</td>\n",
       "      <td>Khalil Gibran</td>\n",
       "      <td>poetry</td>\n",
       "      <td>[religion, spirituality, philosophy, Lebanon, ...</td>\n",
       "      <td>811.19</td>\n",
       "      <td>[{'edition_year': 1996, 'checkouts': 486, 'bor...</td>\n",
       "      <td>NaN</td>\n",
       "    </tr>\n",
       "    <tr>\n",
       "      <th>1</th>\n",
       "      <td>The Little Prince</td>\n",
       "      <td>Antoine de Saint-Exupery</td>\n",
       "      <td>children</td>\n",
       "      <td>[fantasy, France, philosophy, illustrated, fable]</td>\n",
       "      <td>NaN</td>\n",
       "      <td>[{'edition_year': 1983, 'checkouts': 634, 'bor...</td>\n",
       "      <td>843.912</td>\n",
       "    </tr>\n",
       "  </tbody>\n",
       "</table>\n",
       "</div>"
      ],
      "text/plain": [
       "               title                    author     genre  \\\n",
       "0        The Prophet             Khalil Gibran    poetry   \n",
       "1  The Little Prince  Antoine de Saint-Exupery  children   \n",
       "\n",
       "                                                tags  book_id  \\\n",
       "0  [religion, spirituality, philosophy, Lebanon, ...   811.19   \n",
       "1  [fantasy, France, philosophy, illustrated, fable]      NaN   \n",
       "\n",
       "                                              copies       id  \n",
       "0  [{'edition_year': 1996, 'checkouts': 486, 'bor...      NaN  \n",
       "1  [{'edition_year': 1983, 'checkouts': 634, 'bor...  843.912  "
      ]
     },
     "execution_count": 35,
     "metadata": {},
     "output_type": "execute_result"
    }
   ],
   "source": [
    "# Pandas juga bisa read_json\n",
    "# perhatikan cara menyusun tabel\n",
    "# apakah itu mewakili data dengan baik?\n",
    "\n",
    "pd.read_json('./data/library.json')"
   ]
  },
  {
   "cell_type": "code",
   "execution_count": 36,
   "id": "da1d7867",
   "metadata": {},
   "outputs": [],
   "source": [
    "# dan melakukan penyimpanan to_json\n",
    "df.to_json('./data/example_df.json')"
   ]
  },
  {
   "cell_type": "markdown",
   "id": "51383568",
   "metadata": {},
   "source": [
    "Kita dapat mengunduh file JSON dengan banyak cara. Terkadang kita akan mengunduhnya secara manual, tetapi kita juga dapat menggunakan `wget`. Seringkali kita akan terhubung ke API situs web yang akan merespons menggunakan JSON.\n",
    "\n",
    "Metode `read_json` Pandas mampu menghubungkan langsung ke URL (baik itu alamat file JSON atau koneksi API) dan membaca JSON tanpa menyimpan file ke komputer kita."
   ]
  },
  {
   "cell_type": "code",
   "execution_count": 37,
   "id": "1c29e64b",
   "metadata": {},
   "outputs": [
    {
     "data": {
      "text/html": [
       "<div>\n",
       "<style scoped>\n",
       "    .dataframe tbody tr th:only-of-type {\n",
       "        vertical-align: middle;\n",
       "    }\n",
       "\n",
       "    .dataframe tbody tr th {\n",
       "        vertical-align: top;\n",
       "    }\n",
       "\n",
       "    .dataframe thead th {\n",
       "        text-align: right;\n",
       "    }\n",
       "</style>\n",
       "<table border=\"1\" class=\"dataframe\">\n",
       "  <thead>\n",
       "    <tr style=\"text-align: right;\">\n",
       "      <th></th>\n",
       "      <th>url</th>\n",
       "      <th>repository_url</th>\n",
       "      <th>labels_url</th>\n",
       "      <th>comments_url</th>\n",
       "      <th>events_url</th>\n",
       "      <th>html_url</th>\n",
       "      <th>id</th>\n",
       "      <th>node_id</th>\n",
       "      <th>number</th>\n",
       "      <th>title</th>\n",
       "      <th>...</th>\n",
       "      <th>updated_at</th>\n",
       "      <th>closed_at</th>\n",
       "      <th>author_association</th>\n",
       "      <th>active_lock_reason</th>\n",
       "      <th>draft</th>\n",
       "      <th>pull_request</th>\n",
       "      <th>body</th>\n",
       "      <th>reactions</th>\n",
       "      <th>timeline_url</th>\n",
       "      <th>performed_via_github_app</th>\n",
       "    </tr>\n",
       "  </thead>\n",
       "  <tbody>\n",
       "    <tr>\n",
       "      <th>0</th>\n",
       "      <td>https://api.github.com/repos/pandas-dev/pandas...</td>\n",
       "      <td>https://api.github.com/repos/pandas-dev/pandas</td>\n",
       "      <td>https://api.github.com/repos/pandas-dev/pandas...</td>\n",
       "      <td>https://api.github.com/repos/pandas-dev/pandas...</td>\n",
       "      <td>https://api.github.com/repos/pandas-dev/pandas...</td>\n",
       "      <td>https://github.com/pandas-dev/pandas/pull/44829</td>\n",
       "      <td>1075770992</td>\n",
       "      <td>PR_kwDOAA0YD84vn7qm</td>\n",
       "      <td>44829</td>\n",
       "      <td>BUG: SparseArray.min/max skipna</td>\n",
       "      <td>...</td>\n",
       "      <td>2021-12-09 16:32:42+00:00</td>\n",
       "      <td>NaT</td>\n",
       "      <td>MEMBER</td>\n",
       "      <td>NaN</td>\n",
       "      <td>0.0</td>\n",
       "      <td>{'url': 'https://api.github.com/repos/pandas-d...</td>\n",
       "      <td>- [ ] closes #xxxx\\r\\n- [x] tests added / pass...</td>\n",
       "      <td>{'url': 'https://api.github.com/repos/pandas-d...</td>\n",
       "      <td>https://api.github.com/repos/pandas-dev/pandas...</td>\n",
       "      <td>NaN</td>\n",
       "    </tr>\n",
       "    <tr>\n",
       "      <th>1</th>\n",
       "      <td>https://api.github.com/repos/pandas-dev/pandas...</td>\n",
       "      <td>https://api.github.com/repos/pandas-dev/pandas</td>\n",
       "      <td>https://api.github.com/repos/pandas-dev/pandas...</td>\n",
       "      <td>https://api.github.com/repos/pandas-dev/pandas...</td>\n",
       "      <td>https://api.github.com/repos/pandas-dev/pandas...</td>\n",
       "      <td>https://github.com/pandas-dev/pandas/pull/44828</td>\n",
       "      <td>1075693679</td>\n",
       "      <td>PR_kwDOAA0YD84vnrQa</td>\n",
       "      <td>44828</td>\n",
       "      <td>REGR: resampling DataFrame with DateTimeIndex ...</td>\n",
       "      <td>...</td>\n",
       "      <td>2021-12-09 15:20:02+00:00</td>\n",
       "      <td>NaT</td>\n",
       "      <td>MEMBER</td>\n",
       "      <td>NaN</td>\n",
       "      <td>0.0</td>\n",
       "      <td>{'url': 'https://api.github.com/repos/pandas-d...</td>\n",
       "      <td>- [ ] closes #43329\\r\\n- [ ] tests added / pas...</td>\n",
       "      <td>{'url': 'https://api.github.com/repos/pandas-d...</td>\n",
       "      <td>https://api.github.com/repos/pandas-dev/pandas...</td>\n",
       "      <td>NaN</td>\n",
       "    </tr>\n",
       "    <tr>\n",
       "      <th>2</th>\n",
       "      <td>https://api.github.com/repos/pandas-dev/pandas...</td>\n",
       "      <td>https://api.github.com/repos/pandas-dev/pandas</td>\n",
       "      <td>https://api.github.com/repos/pandas-dev/pandas...</td>\n",
       "      <td>https://api.github.com/repos/pandas-dev/pandas...</td>\n",
       "      <td>https://api.github.com/repos/pandas-dev/pandas...</td>\n",
       "      <td>https://github.com/pandas-dev/pandas/pull/44827</td>\n",
       "      <td>1075537272</td>\n",
       "      <td>PR_kwDOAA0YD84vnKEZ</td>\n",
       "      <td>44827</td>\n",
       "      <td>PERF: faster dataframe construction from recarray</td>\n",
       "      <td>...</td>\n",
       "      <td>2021-12-09 16:33:58+00:00</td>\n",
       "      <td>NaT</td>\n",
       "      <td>CONTRIBUTOR</td>\n",
       "      <td>NaN</td>\n",
       "      <td>0.0</td>\n",
       "      <td>{'url': 'https://api.github.com/repos/pandas-d...</td>\n",
       "      <td>- [x] closes #44826\\r\\n- [ ] tests added / pas...</td>\n",
       "      <td>{'url': 'https://api.github.com/repos/pandas-d...</td>\n",
       "      <td>https://api.github.com/repos/pandas-dev/pandas...</td>\n",
       "      <td>NaN</td>\n",
       "    </tr>\n",
       "    <tr>\n",
       "      <th>3</th>\n",
       "      <td>https://api.github.com/repos/pandas-dev/pandas...</td>\n",
       "      <td>https://api.github.com/repos/pandas-dev/pandas</td>\n",
       "      <td>https://api.github.com/repos/pandas-dev/pandas...</td>\n",
       "      <td>https://api.github.com/repos/pandas-dev/pandas...</td>\n",
       "      <td>https://api.github.com/repos/pandas-dev/pandas...</td>\n",
       "      <td>https://github.com/pandas-dev/pandas/issues/44826</td>\n",
       "      <td>1075530896</td>\n",
       "      <td>I_kwDOAA0YD85AG0yQ</td>\n",
       "      <td>44826</td>\n",
       "      <td>PERF: dataframe construction from recarray is ...</td>\n",
       "      <td>...</td>\n",
       "      <td>2021-12-09 12:43:59+00:00</td>\n",
       "      <td>NaT</td>\n",
       "      <td>CONTRIBUTOR</td>\n",
       "      <td>NaN</td>\n",
       "      <td>NaN</td>\n",
       "      <td>NaN</td>\n",
       "      <td>### \\r\\n\\r\\n- [X] I have checked that this iss...</td>\n",
       "      <td>{'url': 'https://api.github.com/repos/pandas-d...</td>\n",
       "      <td>https://api.github.com/repos/pandas-dev/pandas...</td>\n",
       "      <td>NaN</td>\n",
       "    </tr>\n",
       "    <tr>\n",
       "      <th>4</th>\n",
       "      <td>https://api.github.com/repos/pandas-dev/pandas...</td>\n",
       "      <td>https://api.github.com/repos/pandas-dev/pandas</td>\n",
       "      <td>https://api.github.com/repos/pandas-dev/pandas...</td>\n",
       "      <td>https://api.github.com/repos/pandas-dev/pandas...</td>\n",
       "      <td>https://api.github.com/repos/pandas-dev/pandas...</td>\n",
       "      <td>https://github.com/pandas-dev/pandas/issues/44825</td>\n",
       "      <td>1075330235</td>\n",
       "      <td>I_kwDOAA0YD85AGDy7</td>\n",
       "      <td>44825</td>\n",
       "      <td>BUG: rolling with method='table' and then appl...</td>\n",
       "      <td>...</td>\n",
       "      <td>2021-12-09 09:17:23+00:00</td>\n",
       "      <td>NaT</td>\n",
       "      <td>NONE</td>\n",
       "      <td>NaN</td>\n",
       "      <td>NaN</td>\n",
       "      <td>NaN</td>\n",
       "      <td>### \\r\\n\\r\\n- [X] I have checked that this iss...</td>\n",
       "      <td>{'url': 'https://api.github.com/repos/pandas-d...</td>\n",
       "      <td>https://api.github.com/repos/pandas-dev/pandas...</td>\n",
       "      <td>NaN</td>\n",
       "    </tr>\n",
       "  </tbody>\n",
       "</table>\n",
       "<p>5 rows × 29 columns</p>\n",
       "</div>"
      ],
      "text/plain": [
       "                                                 url  \\\n",
       "0  https://api.github.com/repos/pandas-dev/pandas...   \n",
       "1  https://api.github.com/repos/pandas-dev/pandas...   \n",
       "2  https://api.github.com/repos/pandas-dev/pandas...   \n",
       "3  https://api.github.com/repos/pandas-dev/pandas...   \n",
       "4  https://api.github.com/repos/pandas-dev/pandas...   \n",
       "\n",
       "                                   repository_url  \\\n",
       "0  https://api.github.com/repos/pandas-dev/pandas   \n",
       "1  https://api.github.com/repos/pandas-dev/pandas   \n",
       "2  https://api.github.com/repos/pandas-dev/pandas   \n",
       "3  https://api.github.com/repos/pandas-dev/pandas   \n",
       "4  https://api.github.com/repos/pandas-dev/pandas   \n",
       "\n",
       "                                          labels_url  \\\n",
       "0  https://api.github.com/repos/pandas-dev/pandas...   \n",
       "1  https://api.github.com/repos/pandas-dev/pandas...   \n",
       "2  https://api.github.com/repos/pandas-dev/pandas...   \n",
       "3  https://api.github.com/repos/pandas-dev/pandas...   \n",
       "4  https://api.github.com/repos/pandas-dev/pandas...   \n",
       "\n",
       "                                        comments_url  \\\n",
       "0  https://api.github.com/repos/pandas-dev/pandas...   \n",
       "1  https://api.github.com/repos/pandas-dev/pandas...   \n",
       "2  https://api.github.com/repos/pandas-dev/pandas...   \n",
       "3  https://api.github.com/repos/pandas-dev/pandas...   \n",
       "4  https://api.github.com/repos/pandas-dev/pandas...   \n",
       "\n",
       "                                          events_url  \\\n",
       "0  https://api.github.com/repos/pandas-dev/pandas...   \n",
       "1  https://api.github.com/repos/pandas-dev/pandas...   \n",
       "2  https://api.github.com/repos/pandas-dev/pandas...   \n",
       "3  https://api.github.com/repos/pandas-dev/pandas...   \n",
       "4  https://api.github.com/repos/pandas-dev/pandas...   \n",
       "\n",
       "                                            html_url          id  \\\n",
       "0    https://github.com/pandas-dev/pandas/pull/44829  1075770992   \n",
       "1    https://github.com/pandas-dev/pandas/pull/44828  1075693679   \n",
       "2    https://github.com/pandas-dev/pandas/pull/44827  1075537272   \n",
       "3  https://github.com/pandas-dev/pandas/issues/44826  1075530896   \n",
       "4  https://github.com/pandas-dev/pandas/issues/44825  1075330235   \n",
       "\n",
       "               node_id  number  \\\n",
       "0  PR_kwDOAA0YD84vn7qm   44829   \n",
       "1  PR_kwDOAA0YD84vnrQa   44828   \n",
       "2  PR_kwDOAA0YD84vnKEZ   44827   \n",
       "3   I_kwDOAA0YD85AG0yQ   44826   \n",
       "4   I_kwDOAA0YD85AGDy7   44825   \n",
       "\n",
       "                                               title  ...  \\\n",
       "0                    BUG: SparseArray.min/max skipna  ...   \n",
       "1  REGR: resampling DataFrame with DateTimeIndex ...  ...   \n",
       "2  PERF: faster dataframe construction from recarray  ...   \n",
       "3  PERF: dataframe construction from recarray is ...  ...   \n",
       "4  BUG: rolling with method='table' and then appl...  ...   \n",
       "\n",
       "                 updated_at closed_at author_association  active_lock_reason  \\\n",
       "0 2021-12-09 16:32:42+00:00       NaT             MEMBER                 NaN   \n",
       "1 2021-12-09 15:20:02+00:00       NaT             MEMBER                 NaN   \n",
       "2 2021-12-09 16:33:58+00:00       NaT        CONTRIBUTOR                 NaN   \n",
       "3 2021-12-09 12:43:59+00:00       NaT        CONTRIBUTOR                 NaN   \n",
       "4 2021-12-09 09:17:23+00:00       NaT               NONE                 NaN   \n",
       "\n",
       "   draft                                       pull_request  \\\n",
       "0    0.0  {'url': 'https://api.github.com/repos/pandas-d...   \n",
       "1    0.0  {'url': 'https://api.github.com/repos/pandas-d...   \n",
       "2    0.0  {'url': 'https://api.github.com/repos/pandas-d...   \n",
       "3    NaN                                                NaN   \n",
       "4    NaN                                                NaN   \n",
       "\n",
       "                                                body  \\\n",
       "0  - [ ] closes #xxxx\\r\\n- [x] tests added / pass...   \n",
       "1  - [ ] closes #43329\\r\\n- [ ] tests added / pas...   \n",
       "2  - [x] closes #44826\\r\\n- [ ] tests added / pas...   \n",
       "3  ### \\r\\n\\r\\n- [X] I have checked that this iss...   \n",
       "4  ### \\r\\n\\r\\n- [X] I have checked that this iss...   \n",
       "\n",
       "                                           reactions  \\\n",
       "0  {'url': 'https://api.github.com/repos/pandas-d...   \n",
       "1  {'url': 'https://api.github.com/repos/pandas-d...   \n",
       "2  {'url': 'https://api.github.com/repos/pandas-d...   \n",
       "3  {'url': 'https://api.github.com/repos/pandas-d...   \n",
       "4  {'url': 'https://api.github.com/repos/pandas-d...   \n",
       "\n",
       "                                        timeline_url performed_via_github_app  \n",
       "0  https://api.github.com/repos/pandas-dev/pandas...                      NaN  \n",
       "1  https://api.github.com/repos/pandas-dev/pandas...                      NaN  \n",
       "2  https://api.github.com/repos/pandas-dev/pandas...                      NaN  \n",
       "3  https://api.github.com/repos/pandas-dev/pandas...                      NaN  \n",
       "4  https://api.github.com/repos/pandas-dev/pandas...                      NaN  \n",
       "\n",
       "[5 rows x 29 columns]"
      ]
     },
     "execution_count": 37,
     "metadata": {},
     "output_type": "execute_result"
    }
   ],
   "source": [
    "pd.read_json('https://api.github.com/repos/pydata/pandas/issues?per_page=5')"
   ]
  },
  {
   "cell_type": "markdown",
   "id": "37aaaa41",
   "metadata": {},
   "source": [
    "## Compressed files (Gzip)\n",
    "\n",
    "Cara lain kita menghemat penyimpanan dan network resources adalah dengan menggunakan **compression**. Sering kali kumpulan data akan berisi pola yang dapat digunakan untuk mengurangi jumlah ruang yang dibutuhkan untuk menyimpan informasi.\n",
    "\n",
    "Contoh sederhana adalah daftar angka berikut: 10, 10, 10, 2, 3, 3, 3, 3, 3, 50, 50, 1, 1, 50, 10, 10, 10, 10\n",
    "\n",
    "Daripada menuliskan daftar lengkap angka (18 bilangan bulat), kita dapat mewakili informasi yang sama hanya dengan 14 angka: (3, 10), (1, 2), (5, 3), (2, 50), ( 2, 1), (1, 50), (4, 10)\n",
    "\n",
    "Di sini angka pertama dalam setiap pasangan adalah jumlah pengulangan, dan angka kedua dalam pasangan adalah nilai sebenarnya. Kita telah berhasil mengurangi jumlah angka yang kita butuhkan untuk mewakili data yang sama. Sebagian besar bentuk kompresi menggunakan ide yang sama, meskipun implementasi sebenarnya biasanya lebih kompleks.\n",
    "\n",
    "Dalam dunia data science, kompresi yang paling umum adalah Gzip (yang menggunakan [deflate algorithm](http://www.infinitepartitions.com/art001.html)). File Gzip diakhiri dengan ekstensi `.gz`."
   ]
  },
  {
   "cell_type": "code",
   "execution_count": 38,
   "id": "7c99bfef",
   "metadata": {},
   "outputs": [],
   "source": [
    "import gzip\n",
    "\n",
    "with open('./data/eog_djvu.txt', 'r') as f:\n",
    "    text = f.read()\n",
    "\n",
    "with gzip.open('./data/eog_djvu.txt.gz', 'wb') as f:\n",
    "    f.write(text.encode('utf-8'))"
   ]
  },
  {
   "cell_type": "markdown",
   "id": "d88cac88",
   "metadata": {},
   "source": [
    "Kita dapat melakukan compress teks The Epic of Gilgamesh hingga sepertiga dari ukuran aslinya! Ingat bahwa kompresi tergantung pada pola dalam data. Bahasa memiliki banyak pola, tetapi apa yang akan terjadi jika kita mengacak semua huruf dalam teks?"
   ]
  },
  {
   "cell_type": "code",
   "execution_count": 39,
   "id": "420c0232",
   "metadata": {},
   "outputs": [],
   "source": [
    "import numpy as np\n",
    "\n",
    "with gzip.open('./data/eog_djvu_scrambled.txt.gz', 'wb') as f:\n",
    "    f.write(np.random.permutation(list(text)))"
   ]
  },
  {
   "cell_type": "markdown",
   "id": "f6421ce8",
   "metadata": {},
   "source": [
    "Versi acak hanya dikompresi menjadi dua pertiga ukuran aslinya. Kompresi tidak akan bekerja dengan baik pada data acak. Kompresi juga tidak bekerja dengan baik pada data yang sudah kecil."
   ]
  },
  {
   "cell_type": "code",
   "execution_count": 40,
   "id": "7cba894e",
   "metadata": {},
   "outputs": [],
   "source": [
    "short_text = 'Hello'\n",
    "\n",
    "with open('./data/short_text.txt', 'w') as f:\n",
    "    f.write(short_text)\n",
    "\n",
    "with gzip.open('./data/short_text.txt.gz', 'wb') as f:\n",
    "    f.write(short_text.encode('utf-8'))"
   ]
  },
  {
   "cell_type": "markdown",
   "id": "7319f7d2",
   "metadata": {},
   "source": [
    "File terkompresi lebih besar dari teks semula! Itu karena file terkompresi menyertakan header, yang memakan sedikit ruang ekstra. Juga, karena teksnya sangat pendek, tidak mungkin menggunakan pola untuk merepresentasikan teks secara lebih efisien. Oleh karena itu kita biasanya menyimpan kompresi untuk file besar.\n",
    "\n",
    "Anda mungkin telah memperhatikan bahwa ketika kita menulis file Gzip, kita telah menggunakan flag `'wb'` alih-alih flag `'w'` biasa. Ini karena Gzip bukan teks biasa. Saat mengompresi file, kita menulis file _binary_. File tidak dapat dibaca sebagai teks biasa.\n",
    "\n",
    "Kita hanya boleh menggunakan `'w'` untuk file teks biasa / plain (yang mencakup CSV dan JSON). Menggunakan `'w'` sebagai ganti `'wb'` untuk file Gzip, atau file lain yang bukan teks biasa (mis. gambar), dapat merusak file."
   ]
  },
  {
   "cell_type": "markdown",
   "id": "10c4f011",
   "metadata": {},
   "source": [
    "## Serialization (`pickle`)\n",
    "\n",
    "Seringkali kita ingin menyimpan pekerjaan kita dengan Python dan kembali lagi nanti. Namun, pekerjaan itu mungkin merupakan model machine learning atau objek kompleks lainnya dengan Python. Bagaimana cara kita menyimpan objek Python yang kompleks? Python memiliki modul untuk tujuan ini yang disebut `pickle`. Kita dapat menggunakan `pickle` untuk menulis file biner yang berisi semua informasi tentang objek Python. Nanti kita bisa memuat file pickle itu dan merekonstruksi objek dengan Python."
   ]
  },
  {
   "cell_type": "code",
   "execution_count": 41,
   "id": "ac257c00",
   "metadata": {},
   "outputs": [],
   "source": [
    "pickle_example = ['hello', {'a': 23, 'b': True}, (1, 2, 3), [['dogs', 'cats'], None]]"
   ]
  },
  {
   "cell_type": "code",
   "execution_count": 42,
   "id": "7b40c16a",
   "metadata": {},
   "outputs": [
    {
     "ename": "TypeError",
     "evalue": "write() argument must be str, not list",
     "output_type": "error",
     "traceback": [
      "\u001b[1;31m---------------------------------------------------------------------------\u001b[0m",
      "\u001b[1;31mTypeError\u001b[0m                                 Traceback (most recent call last)",
      "\u001b[1;32m~\\AppData\\Local\\Temp/ipykernel_3164/4079873165.py\u001b[0m in \u001b[0;36m<module>\u001b[1;34m\u001b[0m\n\u001b[0;32m      1\u001b[0m \u001b[1;31m# kita tidak dapat menyimpan ini sebagai teks\u001b[0m\u001b[1;33m\u001b[0m\u001b[1;33m\u001b[0m\u001b[0m\n\u001b[0;32m      2\u001b[0m \u001b[1;32mwith\u001b[0m \u001b[0mopen\u001b[0m\u001b[1;33m(\u001b[0m\u001b[1;34m'./data/pickle_example.txt'\u001b[0m\u001b[1;33m,\u001b[0m \u001b[1;34m'w'\u001b[0m\u001b[1;33m)\u001b[0m \u001b[1;32mas\u001b[0m \u001b[0mf\u001b[0m\u001b[1;33m:\u001b[0m\u001b[1;33m\u001b[0m\u001b[1;33m\u001b[0m\u001b[0m\n\u001b[1;32m----> 3\u001b[1;33m     \u001b[0mf\u001b[0m\u001b[1;33m.\u001b[0m\u001b[0mwrite\u001b[0m\u001b[1;33m(\u001b[0m\u001b[0mpickle_example\u001b[0m\u001b[1;33m)\u001b[0m\u001b[1;33m\u001b[0m\u001b[1;33m\u001b[0m\u001b[0m\n\u001b[0m",
      "\u001b[1;31mTypeError\u001b[0m: write() argument must be str, not list"
     ]
    }
   ],
   "source": [
    "# kita tidak dapat menyimpan ini sebagai teks\n",
    "with open('./data/pickle_example.txt', 'w') as f:\n",
    "    f.write(pickle_example)"
   ]
  },
  {
   "cell_type": "code",
   "execution_count": 43,
   "id": "41ff40fb",
   "metadata": {},
   "outputs": [
    {
     "data": {
      "text/plain": [
       "['hello', {'a': 23, 'b': True}, (1, 2, 3), [['dogs', 'cats'], None]]"
      ]
     },
     "execution_count": 43,
     "metadata": {},
     "output_type": "execute_result"
    }
   ],
   "source": [
    "import pickle\n",
    "\n",
    "# kita bisa menyimpannya sebagai pickle\n",
    "with open('./data/pickle_example.pkl', 'wb') as f:\n",
    "    pickle.dump(pickle_example, f)\n",
    "\n",
    "with open('./data/pickle_example.pkl', 'rb') as f:\n",
    "    reloaded_example = pickle.load(f)\n",
    "\n",
    "reloaded_example"
   ]
  },
  {
   "cell_type": "code",
   "execution_count": 44,
   "id": "2e6c3b4a",
   "metadata": {},
   "outputs": [
    {
     "data": {
      "text/plain": [
       "True"
      ]
     },
     "execution_count": 44,
     "metadata": {},
     "output_type": "execute_result"
    }
   ],
   "source": [
    "#contoh hasil reload sama dengan aslinya\n",
    "reloaded_example == pickle_example"
   ]
  },
  {
   "cell_type": "markdown",
   "id": "e28d1888",
   "metadata": {},
   "source": [
    "Pickle adalah alat penting bagi data scientist. Pemrosesan data dan training model machine learning dapat memakan waktu lama, dan berguna untuk menyimpan checkpoints.\n",
    "\n",
    "Pandas juga memiliki metode `to_pickle` dan `read_pickle`."
   ]
  },
  {
   "cell_type": "markdown",
   "id": "60abbb42",
   "metadata": {},
   "source": [
    "## Format file NumPy\n",
    "\n",
    "NumPy juga memiliki metode untuk menyimpan dan memuat data yang cukup mudah digunakan. Anda mungkin akan menemukan ini saat bekerja dengan machine learning libraries tertentu yang memerlukan data disimpan dalam array NumPy. Array NumPy juga sering digunakan saat bekerja dengan data gambar."
   ]
  },
  {
   "cell_type": "code",
   "execution_count": 45,
   "id": "e6a0320d",
   "metadata": {},
   "outputs": [
    {
     "name": "stdout",
     "output_type": "stream",
     "text": [
      "[[0.58011222 0.45412556 0.67194089 0.95373616]\n",
      " [0.98904949 0.41863839 0.11120539 0.72917135]\n",
      " [0.65534586 0.5349473  0.51731426 0.70486333]\n",
      " [0.32343041 0.14631825 0.40125976 0.03489232]]\n"
     ]
    }
   ],
   "source": [
    "sample_array = np.random.random((4, 4))\n",
    "print(sample_array)"
   ]
  },
  {
   "cell_type": "code",
   "execution_count": 46,
   "id": "a595f1ba",
   "metadata": {},
   "outputs": [],
   "source": [
    "# untuk menyimpan sebagai teks biasa\n",
    "np.savetxt('./data/sample_array.txt', sample_array)"
   ]
  },
  {
   "cell_type": "code",
   "execution_count": 47,
   "id": "40293647",
   "metadata": {},
   "outputs": [
    {
     "name": "stdout",
     "output_type": "stream",
     "text": [
      "[[0.58011222 0.45412556 0.67194089 0.95373616]\n",
      " [0.98904949 0.41863839 0.11120539 0.72917135]\n",
      " [0.65534586 0.5349473  0.51731426 0.70486333]\n",
      " [0.32343041 0.14631825 0.40125976 0.03489232]]\n"
     ]
    }
   ],
   "source": [
    "print(np.loadtxt('./data/sample_array.txt'))"
   ]
  },
  {
   "cell_type": "code",
   "execution_count": 48,
   "id": "1b70dc3c",
   "metadata": {},
   "outputs": [],
   "source": [
    "# untuk menyimpan sebagai biner terkompresi\n",
    "np.save('./data/sample_array.npy', sample_array)"
   ]
  },
  {
   "cell_type": "code",
   "execution_count": 49,
   "id": "0661dac0",
   "metadata": {},
   "outputs": [
    {
     "name": "stdout",
     "output_type": "stream",
     "text": [
      "[[0.58011222 0.45412556 0.67194089 0.95373616]\n",
      " [0.98904949 0.41863839 0.11120539 0.72917135]\n",
      " [0.65534586 0.5349473  0.51731426 0.70486333]\n",
      " [0.32343041 0.14631825 0.40125976 0.03489232]]\n"
     ]
    }
   ],
   "source": [
    "print(np.load('./data/sample_array.npy'))"
   ]
  },
  {
   "cell_type": "code",
   "execution_count": null,
   "id": "b1b9cfab",
   "metadata": {},
   "outputs": [],
   "source": []
  }
 ],
 "metadata": {
  "kernelspec": {
   "display_name": "Python 3 (ipykernel)",
   "language": "python",
   "name": "python3"
  },
  "language_info": {
   "codemirror_mode": {
    "name": "ipython",
    "version": 3
   },
   "file_extension": ".py",
   "mimetype": "text/x-python",
   "name": "python",
   "nbconvert_exporter": "python",
   "pygments_lexer": "ipython3",
   "version": "3.9.7"
  }
 },
 "nbformat": 4,
 "nbformat_minor": 5
}
