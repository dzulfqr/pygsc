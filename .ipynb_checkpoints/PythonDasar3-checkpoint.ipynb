{
 "cells": [
  {
   "cell_type": "markdown",
   "id": "256be357",
   "metadata": {},
   "source": [
    "# Variables"
   ]
  },
  {
   "cell_type": "markdown",
   "id": "a6f06277",
   "metadata": {},
   "source": [
    "Setiap nilai dapat kita gunakan dalam suatu operasi secara berkali-kali. Syaratnya adalah nilai tersebut harus disimpan terlebih dahulu dalam suatu variabel.\n",
    "\n",
    "Misal:\n",
    "\n",
    "    a = 1\n",
    "\n",
    "    b = 2\n",
    "\n",
    "a dan b adalah variabel, sedangkan 1 dan 2 adalah nilai\n",
    "\t\n",
    "Apabila pada kode kita menulis:\n",
    "\t\n",
    "    a + b\n",
    "\n",
    "maka hasilnya secara otomatis adalah 3, karena a dan b telah menyimpan nilai 1 dan 2.\n",
    "\n",
    "Pada kode selanjutnya, apabila kita menulis:\n",
    "\n",
    "    a – b\n",
    "\n",
    "maka hasilnya adalah -1. Artinya di dalam a dan b masih tersimpan nilai 1 dan 2, sehingga nilai tersebut dapat dipakai berkali-kali melalui variabel tempat menyimpannya.\n",
    "\n",
    "**1. Syarat Nama Variabel**\n",
    "\n",
    "I. Hanya melibatkan letter (baik huruf besar, kecil, atau gabungan), angka, dan uderscore (_).\n",
    "\n",
    "II. Harus diawali oleh Letter.\n",
    "\n",
    "III. Nama variabel bukan termasuk pada keyword di Python (contoh keyword lebih lengkapnya dapat dilihat di internet).\n",
    "\n",
    "\n",
    "**2. Penggunaan Variabel**\n",
    "\n",
    "Misal:\n",
    "\n",
    "    var = 23\n",
    "\n",
    "    print (var)\n",
    "\n",
    "    Output: 23\n",
    "\n",
    "    print (Var)\n",
    "\n",
    "    Output: eror, karena var dan Var tidak sama\n",
    "\n",
    "Kita bisa menggabungkan argumen dalam fungsi dengan suatu string dalam variabel. Contoh:\n",
    "\n",
    "    contoh = “aku”\n",
    "\n",
    "    print (“Siapa yang merupakan seorang Geosaintis? “ + contoh)\n",
    "\n",
    "    Output: Siapa yang merupakan seorang Geosaintis? Aku\n",
    "\n",
    "Nilai di dalam variabel dapat juga berubah.\n",
    "\n",
    "Contoh:\n",
    "\n",
    "    var = 23\n",
    "\n",
    "    var = var + 2\n",
    "\n",
    "    print (var)\n",
    "\n",
    "    Output: 25 --> merupakan penjumlahan 23 dan 2. Ini artinya nilai dalam variabel var dapat berubah dari 23 ke 25.\n"
   ]
  },
  {
   "cell_type": "markdown",
   "id": "d8d673ee",
   "metadata": {},
   "source": [
    "# Conditional Execution and Loops"
   ]
  },
  {
   "cell_type": "markdown",
   "id": "12735b3e",
   "metadata": {},
   "source": [
    "Kita akan sering menginginkan komputer hanya untuk mengambil tindakan dalam keadaan tertentu. Misalnya, kita mungkin ingin game mencetak pesan 'Skor tinggi!', tetapi hanya jika skor pemain lebih tinggi dari skor tinggi sebelumnya. Kita dapat menulis ini sebagai pernyataan logis formal: *if*/jika skor pemain lebih tinggi dari skor tinggi sebelumnya _then_/maka cetak 'Skor tinggi!'."
   ]
  },
  {
   "cell_type": "markdown",
   "id": "e06dd1e9",
   "metadata": {},
   "source": [
    "Sintaks untuk mengekspresikan logika ini dalam Python sangat mirip. Mari kita definisikan fungsi yang menerima skor pemain dan skor tinggi sebelumnya sebagai argumen. Jika skor pemain lebih tinggi, maka akan mencetak 'Skor tinggi!'. Akhirnya, itu akan mengembalikan skor tinggi baru (yang mana saja)."
   ]
  },
  {
   "cell_type": "code",
   "execution_count": 2,
   "id": "fb1dacfd",
   "metadata": {},
   "outputs": [],
   "source": [
    "def test_skor_tinggi(skor_pemain, skor_tinggi):\n",
    "    if skor_pemain > skor_tinggi:\n",
    "        print('Skor tinggi!')\n",
    "        skor_tinggi = skor_pemain\n",
    "\n",
    "    return skor_tinggi"
   ]
  },
  {
   "cell_type": "code",
   "execution_count": 3,
   "id": "61f5dd9e",
   "metadata": {},
   "outputs": [
    {
     "name": "stdout",
     "output_type": "stream",
     "text": [
      "100\n"
     ]
    }
   ],
   "source": [
    "print(test_skor_tinggi(85, 100))"
   ]
  },
  {
   "cell_type": "code",
   "execution_count": 4,
   "id": "405745b0",
   "metadata": {},
   "outputs": [
    {
     "name": "stdout",
     "output_type": "stream",
     "text": [
      "Skor tinggi!\n",
      "95\n"
     ]
    }
   ],
   "source": [
    "print(test_skor_tinggi(95, 93))"
   ]
  },
  {
   "cell_type": "markdown",
   "id": "00b7cb41",
   "metadata": {},
   "source": [
    "Kita dapat membuat pernyataan `if` untuk membuat diagram alir atau “pohon” yang lebih rumit dengan percabangan tertentu, sering disebut sebagai “nested if”."
   ]
  },
  {
   "cell_type": "code",
   "execution_count": 5,
   "id": "9872c7ce",
   "metadata": {},
   "outputs": [
    {
     "name": "stdout",
     "output_type": "stream",
     "text": [
      "cabang a\n",
      "cabang c\n",
      "cabang b\n"
     ]
    }
   ],
   "source": [
    "def nested_contoh(x):\n",
    "    if x < 50:\n",
    "        if x % 2 == 0:\n",
    "            return 'cabang a'\n",
    "        else:\n",
    "            return 'cabang b'\n",
    "    else:\n",
    "        return 'cabang c'\n",
    "\n",
    "print(nested_contoh(42))\n",
    "print(nested_contoh(51))\n",
    "print(nested_contoh(37))"
   ]
  },
  {
   "cell_type": "markdown",
   "id": "3e0447d5",
   "metadata": {},
   "source": [
    "Dalam contoh ini, kita memiliki pernyataan `if` yang bersifat nested di bawah pernyataan `if` lainnya. Saat kita mengubah input, kita akan berakhir di cabang pohon yang berbeda.\n",
    "\n",
    "Pernyataan yang mengikuti `if` disebut **condition** atau kondisi. Kondisinya bisa benar atau salah. Jika kondisinya benar, maka kita mengeksekusi pernyataan di bawah `if`. Jika kondisinya salah, maka kita mengeksekusi pernyataan di bawah `else` (atau jika tidak ada `else`, maka kita tidak melakukan apa-apa).\n",
    "Kondisi itu sendiri adalah instruksi yang dapat diinterpretasikan oleh Python."
   ]
  },
  {
   "cell_type": "code",
   "execution_count": 6,
   "id": "6f27beb5",
   "metadata": {},
   "outputs": [
    {
     "name": "stdout",
     "output_type": "stream",
     "text": [
      "True\n",
      "True\n",
      "False\n"
     ]
    }
   ],
   "source": [
    "print(50 > 10)\n",
    "print(2 + 2 == 4)\n",
    "print(-3 > 2)"
   ]
  },
  {
   "cell_type": "markdown",
   "id": "6d8329f5",
   "metadata": {},
   "source": [
    "Conditions dievaluasi sebagai boolean, yaitu `True` atau `False`. Kita dapat menggabungkan conditions dengan menanyakan condition A _and_ condition B benar. Kita juga bisa menanyakan apakah condition A *or* condition B benar. Mari kita pertimbangkan apakah pernyataan tersebut benar secara keseluruhan berdasarkan nilai yang mungkin dari condition A dan condition B.\n",
    "\n",
    "|Condition A|Condition B|Condition A and Condition B|Condition A or Condition B|\n",
    "|:---------:|:---------:|:-------------------------:|:------------------------:|\n",
    "|True|True|True|True|\n",
    "|True|False|False|True|\n",
    "|False|True|False|True|\n",
    "|False|False|False|False|"
   ]
  },
  {
   "cell_type": "code",
   "execution_count": 7,
   "id": "6c18e90d",
   "metadata": {},
   "outputs": [
    {
     "name": "stdout",
     "output_type": "stream",
     "text": [
      "True\n",
      "False\n",
      "False\n",
      "False\n"
     ]
    }
   ],
   "source": [
    "print(True and True)\n",
    "print(True and False)\n",
    "print(False and True)\n",
    "print(False and False)"
   ]
  },
  {
   "cell_type": "code",
   "execution_count": 8,
   "id": "47a39d1f",
   "metadata": {},
   "outputs": [
    {
     "name": "stdout",
     "output_type": "stream",
     "text": [
      "True\n",
      "True\n",
      "True\n",
      "False\n"
     ]
    }
   ],
   "source": [
    "print(True or True)\n",
    "print(True or False)\n",
    "print(False or True)\n",
    "print(False or False)"
   ]
  },
  {
   "cell_type": "code",
   "execution_count": 9,
   "id": "352c6fe1",
   "metadata": {},
   "outputs": [
    {
     "name": "stdout",
     "output_type": "stream",
     "text": [
      "True\n",
      "False\n",
      "True\n"
     ]
    }
   ],
   "source": [
    "x = 6\n",
    "y = 4\n",
    "\n",
    "print(x > 4 and y > 2)\n",
    "print(x > 7 and y > 2)\n",
    "print(x > 7 or y > 2)"
   ]
  },
  {
   "cell_type": "markdown",
   "id": "bfc05918",
   "metadata": {},
   "source": [
    "Kata kunci `or` dan `and` disebut **operasi logika/logical operations** (dalam arti yang sama kita sebut `+`, `-`, `*`, dll. operasi aritmatika). Operasi logika terakhir adalah `not`: `not True` adalah `False`, `not False` adalah `True`."
   ]
  },
  {
   "cell_type": "code",
   "execution_count": 10,
   "id": "bb50f773",
   "metadata": {},
   "outputs": [
    {
     "name": "stdout",
     "output_type": "stream",
     "text": [
      "False\n",
      "True\n"
     ]
    }
   ],
   "source": [
    "print(not True)\n",
    "print(not False)"
   ]
  },
  {
   "cell_type": "code",
   "execution_count": 11,
   "id": "16828eaa",
   "metadata": {},
   "outputs": [
    {
     "name": "stdout",
     "output_type": "stream",
     "text": [
      "True\n",
      "False\n",
      "True\n",
      "False\n"
     ]
    }
   ],
   "source": [
    "x = 9\n",
    "y = 7\n",
    "\n",
    "print(x > 7 or y < 7)\n",
    "print(not x > 7 or y < 7)\n",
    "print(not x > 7 or not y < 7)\n",
    "print(not (x > 7 or y < 7))"
   ]
  },
  {
   "cell_type": "markdown",
   "id": "37845723",
   "metadata": {},
   "source": [
    "## Conditional Instruction\n",
    "\n",
    "Dalam kehidupan sehari-hari, hal ini seringkali digunakan, seperti pada pernyataan di bawah:\n",
    "\n",
    "\"Jika hari ini tidak hujan, maka saya akan berolahraga di lapangan.\"\n",
    "\n",
    "Berdasarkan pernyataan di atas, olahraga akan dilakukan bila persyaratan “tidak hujan” terpenuhi.\n",
    "\n",
    "Dalam Python, syntax yang digunakan dalam conditional instruction adalah sebagai berikut:\n",
    "\n",
    "    if True_or_Not: do this if True\n",
    "\n",
    "Baris pertama diawali “if” kemudian spasi, lalu pernyataan yang dapat menghasilkan keputusan “True” atau “False”, kemudian titik dua. Baris kedua dan seterusnya berisi instruksi yang diawali indented (baik dengan menggunakan spasi [direkomendasikan  4 spasi] ataupun dengan Tab). Instruksi ini akan dikerjakan apabila keputusan pada baris pertama adalah True.\n",
    "\n",
    "Bagaimana apabila keputusan dari pernyataan adalah False? Ada dua kemungkinan, yaitu:\n",
    "\n",
    "1.\tInstruksi tidak dikerjakan, sehingga tidak ada output.\n",
    "2.\tMenambahkan instruksi yang dapat bekerja bila keputusannya False. Caranya adalah dengan menambahkan keyword “else” dengan syntax sebagai berikut:\n",
    " \n",
    "        if True_or_Not:\n",
    "            do this if True\n",
    "        else:\n",
    "            do this if False\n",
    "            \n",
    "Variasi lain conditional instruction adalah sebagai berikut:\n",
    "\n",
    "        if True_or_Not:\n",
    "            do this if True\t\n",
    "            # instruksi ini akan dilaksanakan apabila True\n",
    "            do this also if TruE\n",
    "            # instruksi ini akan dilaksanakan apabila True\n",
    "        do this everytime\n",
    "        # instruksi ini tidak tergantung pada keputusan, mau True atau False, instruksi ini akan tetap dilaksanakan. Ini disebabkan karena instruksi tidak diawali dengan indented, artinya tidak tergantung pada keputusan True atau False pada conditional instruction di atasnya.\n",
    "\n",
    "### Conditional Instruction (Bercabang)\n",
    "\n",
    "Bagaimana anda akan membuat program dalam Python apabila terdapat pernyataan seperti berikut: Apabila hari tidak hujan, kalau ada café menarik maka saya akan makan siang di café, kalau tidak ada maka saya akan makan siang di rumah. Kalau hari hujan, kalau ada tiket yang tersedia, maka saya akan nonton di bioskop, kalau tiket habis saya hanya akan di rumah saja.\n",
    "\n",
    "Program yang dapat anda tulisakan adalah sebagai berikut:\n",
    "\n",
    "    if hari tidak hujan:\n",
    "        if ada café menarik:\n",
    "            saya makan di café\n",
    "        else:\n",
    "            saya makan di rumah\n",
    " \n",
    "    else:\n",
    "        if ada tiket:\n",
    "            saya menonton di bioskop\n",
    "        else:\n",
    "            saya menonton di rumah\n",
    "\n",
    "\n",
    "Kode di atas dapat disebut sebagai pernyataan if-else yang bercabang.\n",
    "\n",
    "\n",
    "### Conditional Instruction (Cascade)\n",
    "\n",
    "Bagaimana anda akan membuat program dalam Python apabila terdapat pernyataan seperti berikut: Apabila hari tidak hujan, maka saya jalan-jalan dengan motor, kalau hujan dan ada tiket maka saya akan nonton di bioskop, kalau hujan dan tidak ada tiket serta ada meja kosong maka saya akan makan di café, jika semuanya tidak terpenuhi maka saya hanya akan tidur di rumah.\n",
    "\n",
    "Program yang dapat anda tuliskan adalah sebagai berikut:\n",
    "\n",
    "    if hari tidak hujan:\n",
    "        saya jalan-jalan dengan motor\n",
    "    elif ada tiket:\n",
    "        saya akan menonton di bioskop\n",
    "    elif ada meja kosong:\n",
    "        saya akan makan di café\n",
    "    else:\n",
    "        tidur di rumah\n",
    "\n",
    "Pernyataan yang berisi if-elif-else seperti di atas dinamakan dengan cascade.  Di dalam cascade, else harus selalu di bagian akhir dan apabila ada lebih dari satu elif maka hanya salah satu perintah yang dieksekusi.\n"
   ]
  },
  {
   "cell_type": "markdown",
   "id": "c02923d1",
   "metadata": {},
   "source": [
    "## Iterasi\n",
    "\n",
    "Conditional sangat berguna karena memungkinkan program kita membuat keputusan berdasarkan beberapa informasi. Keputusan ini mengontrol program flow atau aliran program (yaitu pernyataan mana yang dieksekusi). Kita memiliki satu alat utama lainnya untuk mengontrol aliran program, yaitu pengulangan. Dalam pemrograman, kita akan menggunakan loop berulang untuk mengeksekusi kode yang sama berkali-kali. Ini disebut **iterasi**. Jenis iterasi yang paling dasar adalah perulangan `while`. Perulangan `while` akan terus dijalankan selama kondisi setelah `while` adalah `True`."
   ]
  },
  {
   "cell_type": "markdown",
   "id": "faf60a23",
   "metadata": {},
   "source": [
    "1. While loop\n",
    "\n",
    "Contoh:\n",
    "\n",
    "    i = 0\n",
    "\twhile i == 0:\n",
    "\t\tprint (“Aku adalah seorang Geosaintis”)\n",
    "\t\n",
    "Keluaran dari kode di atas adalah tulisan “Aku adalah seorang Geosaintis” yang akan terus menerus keluar pada layar. Ini sebagai bukti bahwa instruksi tersebut dijalankan selama berkali-kali selama nilai di dalam variabel i adalah 0. Untuk menghentikan program, dapat dengan menekan Ctrl + C yang disebut dengan KeyboardInterrupt.\n",
    "\n",
    "Untuk menghentikan program juga dapat dilakukan dengan mencapai kondisi dimana pernyataan sudah tidak terpenuhi lagi. Contoh:\n",
    "\n",
    "\ti = 0\n",
    "\twhile i == 0:\n",
    "\t\tprint (“Aku adalah seorang Geosaintis”)\n",
    "\t\ti += 1\n",
    "\n",
    "Keluaran dari kode di atas adalah hanya ada 1 tulisan “Aku adalah seorang Geosaintis”. Ini dikarenakan setelah instruksi print dilakukan, nilai dalam variabel I ditambah 1 (0 +1 menjadi 1), sehingga looping while tidak dilakukan lagi, karena kondisi i == 0 sudah tidak terpenuhi.\n",
    "Dalam Python kita juga bisa melakukan proses counting seperti pada contoh di bawah:\n",
    "\n",
    "    i = 0\n",
    "    while i < 10:\n",
    "        print (“Saya seorang Geosaintis”)\n",
    "        i += 1\n",
    "\n",
    "Setelah perintah “print” nilai i akan ditambahkan dengan 1 dan proses instruksi terus dilakukan sampai nilai i = 9 (kurang dari 10). Maka keluaran yang dihasilkan adalah tulisan “Saya seorang Geosaintis” sebanyak 10.\n",
    "\n",
    "2. For loop\n",
    "\n",
    "Kelemahan kode seperti di atas (while loop) adalah ketidakefektifan. Bayangkan anda melakukan pekerjaan dua kali, yaitu menambah nilai pada i terus menerus, lalu melakukan instruksi “print”, akan sangat melelahkan bukan?\n",
    "\n",
    "Anda dapat mengefektifkan pekerjaan dengan keyword “for” seperti contoh di bawah:\n",
    "\n",
    "    for i in range (10):\n",
    "        print (“Saya seorang Geosaintis”)\n",
    "\n",
    "Keluaran akan sama seperti pada contoh fungsi “while” di atas, namun lebih efektif, karena kita tidak harus mendefinisikan nilai i dan menambahkannya dengan 1. Arti dari in range adalah nilai i akan otomatis berubah dari 0-9, seiring dengan perintah print dilakukan. Misal: ketika i = 0, perintah print dilakukan, kemudian i akan otomatis menjadi sama dengan 1, lalu perintah print dilaksanakan, terus seperti itu sampai i sama dengan 10 -1 (yaitu 9). \n",
    "Selain seperti contoh di atas, kita juga dapat memeberikan instruksi untuk mengeluarkan setiap nilai dalam variabel i, seperti pada contoh di bawah:\n",
    "\n",
    "    for i in range (10):\n",
    "        print (“nilai i sekarang adalah “, i)\n",
    "\n",
    "Output:\n",
    "\t \n",
    "     nilai i sekarang adalah 0\n",
    "\t nilai i sekarang adalah 1\n",
    "\t nilai i sekarang adalah 2\n",
    "\t nilai i sekarang adalah 3\n",
    "\t nilai i sekarang adalah 4\n",
    "\t nilai i sekarang adalah 5\n",
    "\t nilai i sekarang adalah 6\n",
    "\t nilai i sekarang adalah 7\n",
    "\t nilai i sekarang adalah 8\n",
    "\t nilai i sekarang adalah 9\n",
    "\n",
    "Kita juga dapat merubah nilai awal saat instruksi, supaya tidak sama dengan nol. Melalui kode seperti di bawah:\n",
    "\n",
    "    for i in range (2, 10)\n",
    "        print (“Aku seorang Geosaintis”)\n",
    "\n",
    "Fungsi di atas akan dimulai dari nilai i sama dengan 2 dan berakhir pada nilai 9, sehingga tulisan “Aku seorang Geosaintis” hanya akan di-print sebanyak 8 kali. (Catatan: nilai di dalam kurung setelah “in range” disebut sebagai argument).\n",
    "\n",
    "Selain itu, kita juga dapat mengatur agar jarak antara satu nilai ke nilai lain tidak hanya 1 angka, seperti pada contoh di bawah:\n",
    "\n",
    "    for i in range (2, 10, 3):\n",
    "        print (“nilai i sekarang adalah “, i)\n",
    "\n",
    "Output:\n",
    "\t \n",
    "     nilai i sekarang adalah 2\n",
    "\t nilai i sekarang adalah 5\n",
    "\t nilai i sekarang adalah 8\n",
    "\n",
    "Jarak antar nilai pada keluaran di atas adalah “3” (tergantung pada nilai yang disimpan sebagai argumen ketiga pada keyword “range”.\n",
    "\n",
    "Catatan:\n",
    "Argumen dalam keyword “range” selalu berupa integer.\n",
    "Dalam kondisi argumen ketiga pada keyword “range” positif, argumen kedua selalu lebih besar dari argumen pertama. Artinya bahwa perubahan nilai pada variabel i (atau variabel lainnya) selalu dari yang kecil ke besar. Namun, apabila argumen ketiga bernilai negatif, argumen pertama harus lebih besar dari argumen kedua."
   ]
  },
  {
   "cell_type": "code",
   "execution_count": 12,
   "id": "a0afa7ff",
   "metadata": {},
   "outputs": [
    {
     "name": "stdout",
     "output_type": "stream",
     "text": [
      "0\n",
      "2\n",
      "4\n",
      "6\n",
      "8\n",
      "10\n",
      "12\n",
      "14\n"
     ]
    }
   ],
   "source": [
    "x = 0\n",
    "while x < 15:\n",
    "    print(x)\n",
    "    x = x + 2"
   ]
  },
  {
   "cell_type": "markdown",
   "id": "52cd2ce3",
   "metadata": {},
   "source": [
    "Kita akan sering menggunakan iterasi untuk melakukan tugas beberapa kali, tetapi kita mungkin juga menggunakannya untuk melakukan proses ke tahap penyelesaian tertentu.\n",
    "\n",
    "Sebagai contoh dari kasus yang berbeda ini, kita akan mempertimbangkan deret Fibonacci. Deret Fibonacci adalah barisan bilangan di mana bilangan berikutnya dalam deret tersebut diberikan oleh jumlah dari dua bilangan sebelumnya. Dua angka pertama diberikan sebagai 0 dan 1. Jadi urutannya dimulai 0, 1, 1, 2, 3, 5, 8 ...\n",
    "\n",
    "Deret Fibonacci berlangsung tanpa batas, jadi kita hanya dapat menghitung sebagian saja. Di bawah ini kita definisikan dua fungsi untuk menghitung bagian dari deret Fibonacci; fungsi pertama menghitung suku `n` pertama, sedangkan fungsi kedua menghitung semua suku kurang dari batas atas, `x`."
   ]
  },
  {
   "cell_type": "code",
   "execution_count": 13,
   "id": "d025d06e",
   "metadata": {},
   "outputs": [],
   "source": [
    "def first_n_fibonacci(n):\n",
    "    prev_num = 0\n",
    "    curr_num = 1\n",
    "    count = 2\n",
    "\n",
    "    print(prev_num)\n",
    "    print(curr_num)\n",
    "\n",
    "    while count <= n:\n",
    "        next_num = curr_num + prev_num\n",
    "        print(next_num)\n",
    "        prev_num = curr_num\n",
    "        curr_num = next_num\n",
    "        count += 1\n",
    "\n",
    "def below_x_fibonacci(x):\n",
    "    prev_num = 0\n",
    "    curr_num = 1\n",
    "\n",
    "    if curr_num < x:\n",
    "        print(prev_num)\n",
    "        print(curr_num)\n",
    "    elif prev_num < x:\n",
    "        print(prev_num)\n",
    "    \n",
    "    while curr_num + prev_num < x:\n",
    "        next_num = curr_num + prev_num\n",
    "        print(next_num)\n",
    "        prev_num = curr_num\n",
    "        curr_num = next_num"
   ]
  },
  {
   "cell_type": "code",
   "execution_count": 14,
   "id": "d34bfee9",
   "metadata": {},
   "outputs": [
    {
     "name": "stdout",
     "output_type": "stream",
     "text": [
      "First 7 Fibonacci numbers\n",
      "0\n",
      "1\n",
      "1\n",
      "2\n",
      "3\n",
      "5\n",
      "8\n",
      "13\n"
     ]
    }
   ],
   "source": [
    "m = 7\n",
    "print('First %d Fibonacci numbers' % m)\n",
    "first_n_fibonacci(m)"
   ]
  },
  {
   "cell_type": "code",
   "execution_count": 15,
   "id": "16d1835f",
   "metadata": {},
   "outputs": [
    {
     "name": "stdout",
     "output_type": "stream",
     "text": [
      "\n",
      "Fibonacci numbers below 40\n",
      "0\n",
      "1\n",
      "1\n",
      "2\n",
      "3\n",
      "5\n",
      "8\n",
      "13\n",
      "21\n",
      "34\n"
     ]
    }
   ],
   "source": [
    "print()\n",
    "\n",
    "y = 40\n",
    "print('Fibonacci numbers below %d' % y)\n",
    "below_x_fibonacci(y)        "
   ]
  },
  {
   "cell_type": "markdown",
   "id": "a71a010b",
   "metadata": {},
   "source": [
    "## Lebih Banyak Tentang Fungsi\n",
    "\n",
    "Perhatikan bahwa `contoh_a` dan `contoh_b` tidak memiliki input, tetapi fungsi lain seperti `test_skor_tinggi` memiliki beberapa variabel sebagai input. Ingat bahwa argumen fungsi hanyalah pengganti nama dan akan terikat pada apa pun yang diteruskan ke fungsi. Sebagai contoh:"
   ]
  },
  {
   "cell_type": "code",
   "execution_count": 16,
   "id": "192d7136",
   "metadata": {},
   "outputs": [
    {
     "name": "stdout",
     "output_type": "stream",
     "text": [
      "di dalam print_ini:  2\n",
      "a =  5\n"
     ]
    }
   ],
   "source": [
    "def print_ini(a):\n",
    "    print('di dalam print_ini: ', a)\n",
    "\n",
    "a = 5\n",
    "print_ini(2)\n",
    "print('a = ', a)"
   ]
  },
  {
   "cell_type": "markdown",
   "id": "d58ce9e2",
   "metadata": {},
   "source": [
    "Perhatikan bahwa meskipun `print_ini` mencetak variabel `a` di dalam fungsi dan ada variabel `a` yang didefinisikan di luar fungsi, fungsi `print` di dalam `print_ini` masih mencetak apa yang diteruskan."
   ]
  },
  {
   "cell_type": "code",
   "execution_count": 17,
   "id": "2ea4b9f1",
   "metadata": {},
   "outputs": [
    {
     "name": "stdout",
     "output_type": "stream",
     "text": [
      "di dalam print_itu:  5\n",
      "a =  5\n"
     ]
    }
   ],
   "source": [
    "# Berbeda dengan\n",
    "def print_itu():\n",
    "    print('di dalam print_itu: ', a)\n",
    "    \n",
    "a = 5\n",
    "print_itu()\n",
    "print('a = ', a)"
   ]
  },
  {
   "cell_type": "markdown",
   "id": "2ae6846a",
   "metadata": {},
   "source": [
    "Di sini tidak ada variabel yang diteruskan ke fungsi sehingga Python menggunakan variabel dari lingkup luar. Hati-hati dengan paradigma kedua ini karena bisa berbahaya. Bahayanya terletak pada kenyataan bahwa output dari fungsi tersebut bergantung pada keadaan program secara keseluruhan (yaitu nilai `a`) berbeda dari `print_ini` yang hanya bergantung pada input dari fungsi tersebut. Fungsi seperti `print_ini` jauh lebih mudah untuk dipikirkan, diuji, dan digunakan, hal ini biasanya lebih disukai dalam banyak konteks.\n",
    "\n",
    "Terdapat teknik yang sangat powerful yang disebut `function closure` yang dapat kita manfaatkan dari kemampuan ini. Katakanlah kita menginginkan fungsi yang akan menaikkan angka ke beberapa eksponen/pangkat, tetapi kita tidak tahu eksponen mana sebelum runtime. Kita dapat mendefinisikan fungsi seperti ini."
   ]
  },
  {
   "cell_type": "code",
   "execution_count": 18,
   "id": "e8baa824",
   "metadata": {},
   "outputs": [],
   "source": [
    "def some_exponent(exponent):\n",
    "    def func(x):\n",
    "        return x**exponent\n",
    "    return func"
   ]
  },
  {
   "cell_type": "code",
   "execution_count": 19,
   "id": "0abd0a47",
   "metadata": {},
   "outputs": [
    {
     "data": {
      "text/plain": [
       "(4, 8)"
      ]
     },
     "execution_count": 19,
     "metadata": {},
     "output_type": "execute_result"
    }
   ],
   "source": [
    "some_exponent(2)(2), some_exponent(3)(2)"
   ]
  },
  {
   "cell_type": "markdown",
   "id": "b9e25c36",
   "metadata": {},
   "source": [
    "Sekarang setelah kita memahami cara kerja fungsi dasar, mari kita lihat beberapa kemudahan yang disediakan Python untuk membuat fungsi lebih mudah dibuat. Yang pertama adalah argumen default. Misalkan kita memiliki fungsi yang memiliki banyak argumen, tetapi kebanyakan dari mereka memiliki default, misalnya:"
   ]
  },
  {
   "cell_type": "code",
   "execution_count": 20,
   "id": "8c301d23",
   "metadata": {},
   "outputs": [
    {
     "name": "stdout",
     "output_type": "stream",
     "text": [
      "I need to:\n",
      "  watch_tv\n",
      "  read\n",
      "  eat\n",
      "  sleep\n"
     ]
    }
   ],
   "source": [
    "def print_todo(watch_tv, read, eat, sleep):\n",
    "    print('I need to:')\n",
    "    if watch_tv:\n",
    "        print('  watch_tv')\n",
    "    if read:\n",
    "        print('  read')\n",
    "    if eat:\n",
    "        print('  eat')\n",
    "    if sleep:\n",
    "        print('  sleep')\n",
    "print_todo(True, True, True, True)"
   ]
  },
  {
   "cell_type": "markdown",
   "id": "ca92b009",
   "metadata": {},
   "source": [
    "Saya tahu bahwa saya hampir selalu perlu makan dan tidur, jadi saya bisa menggunakan argumen default untuk ini. Ini berarti saya tidak perlu mendefinisikan nilai `eat` dan `sleep` kecuali keduanya berbeda dari default."
   ]
  },
  {
   "cell_type": "code",
   "execution_count": 21,
   "id": "10d4f0f1",
   "metadata": {},
   "outputs": [
    {
     "name": "stdout",
     "output_type": "stream",
     "text": [
      "I need to:\n",
      "  watch_tv\n",
      "  read\n",
      "  eat\n",
      "  sleep\n"
     ]
    }
   ],
   "source": [
    "def print_todo_default(watch_tv, read, eat=True, sleep=True):\n",
    "    print('I need to:')\n",
    "    if watch_tv:\n",
    "        print('  watch_tv')\n",
    "    if read:\n",
    "        print('  read')\n",
    "    if eat:\n",
    "        print('  eat')\n",
    "    if sleep:\n",
    "        print('  sleep')\n",
    "print_todo_default(True, True)"
   ]
  },
  {
   "cell_type": "markdown",
   "id": "1a8e6708",
   "metadata": {},
   "source": [
    "Argumen default ini dapat memungkinkan kita untuk membuat fungsi kompleks dengan banyak input sambil juga mempertahankan kemudahan penggunaan dengan menyetel default.\n",
    "\n",
    "Hal lain yang mungkin ingin kita lakukan adalah mengambil list argumen, mari kita tulis fungsi `todo` yang serupa seperti sebelumnya, tetapi kali ini kita akan mengizinkannya untuk meneruskan **sejumlah** argumen. Di sini kita akan menggunakan sintaks `*args`. `*` ini memberi tahu python untuk mengumpulkan argumen lainnya ke dalam tuple `args`."
   ]
  },
  {
   "cell_type": "code",
   "execution_count": 22,
   "id": "df07dca0",
   "metadata": {},
   "outputs": [
    {
     "name": "stdout",
     "output_type": "stream",
     "text": [
      "I need to:\n",
      "  watch_tv\n",
      "  read\n",
      "  eat\n",
      "  sleep\n"
     ]
    }
   ],
   "source": [
    "def print_todo_args(*args):\n",
    "    print('I need to:')\n",
    "    for arg in args:\n",
    "        print('  ' + arg)\n",
    "print_todo_args('watch_tv', 'read', 'eat', 'sleep')"
   ]
  },
  {
   "cell_type": "markdown",
   "id": "bc59eee5",
   "metadata": {},
   "source": [
    "Sintaks semacam ini bisa sangat berguna dalam program-program besar di mana fungsi-fungsi abstrak dapat memiliki berbagai fungsi yang berbeda dengan argumen yang berbeda.\n",
    "\n",
    "### Latihan\n",
    "\n",
    "Tulis fungsi yang mengambil angka dan mengembalikan True jika lebih besar dari 10 tetapi kurang dari 20 atau kurang dari -100."
   ]
  },
  {
   "cell_type": "markdown",
   "id": "8c82b0f8",
   "metadata": {},
   "source": [
    "# Hands on membuat fungsi memberi indeks nilai untuk angka\n",
    "\n",
    "# Challenge membuat fungsi yang akan mengevaluasi suatu angka adalah bilangan prima atau bukan"
   ]
  },
  {
   "cell_type": "code",
   "execution_count": null,
   "id": "63c071de",
   "metadata": {},
   "outputs": [],
   "source": []
  }
 ],
 "metadata": {
  "kernelspec": {
   "display_name": "Python 3 (ipykernel)",
   "language": "python",
   "name": "python3"
  },
  "language_info": {
   "codemirror_mode": {
    "name": "ipython",
    "version": 3
   },
   "file_extension": ".py",
   "mimetype": "text/x-python",
   "name": "python",
   "nbconvert_exporter": "python",
   "pygments_lexer": "ipython3",
   "version": "3.9.7"
  }
 },
 "nbformat": 4,
 "nbformat_minor": 5
}
